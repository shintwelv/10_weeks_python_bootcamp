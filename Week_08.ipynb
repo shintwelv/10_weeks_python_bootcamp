{
 "cells": [
  {
   "cell_type": "markdown",
   "metadata": {},
   "source": [
    "Challenge Question"
   ]
  },
  {
   "cell_type": "code",
   "execution_count": 28,
   "metadata": {},
   "outputs": [
    {
     "name": "stdout",
     "output_type": "stream",
     "text": [
      "True\n"
     ]
    }
   ],
   "source": [
    "def isPrime(number):\n",
    "    temp = 1\n",
    "    for i in range(2,int(number**0.5)+1):\n",
    "        if number % i == 0:\n",
    "            temp = i\n",
    "            return False\n",
    "        else:\n",
    "            continue\n",
    "    if temp == 1:\n",
    "        return True\n",
    "    \n",
    "        \n",
    "        \n",
    "print(isPrime(1000000015579))"
   ]
  },
  {
   "cell_type": "markdown",
   "metadata": {},
   "source": [
    "List Comprehension"
   ]
  },
  {
   "cell_type": "code",
   "execution_count": 41,
   "metadata": {},
   "outputs": [
    {
     "name": "stdout",
     "output_type": "stream",
     "text": [
      "[0, 1, 2, 3, 4, 5, 6, 7, 8, 9, 10, 11, 12, 13, 14, 15, 16, 17, 18, 19, 20, 21, 22, 23, 24, 25, 26, 27, 28, 29, 30, 31, 32, 33, 34, 35, 36, 37, 38, 39, 40, 41, 42, 43, 44, 45, 46, 47, 48, 49, 50, 51, 52, 53, 54, 55, 56, 57, 58, 59, 60, 61, 62, 63, 64, 65, 66, 67, 68, 69, 70, 71, 72, 73, 74, 75, 76, 77, 78, 79, 80, 81, 82, 83, 84, 85, 86, 87, 88, 89, 90, 91, 92, 93, 94, 95, 96, 97, 98, 99]\n"
     ]
    }
   ],
   "source": [
    "#create a list of ten numbers using list comprehension\n",
    "nums = [x for x in range(100)] #generates a list from 0 up to 100\n",
    "print(nums)"
   ]
  },
  {
   "cell_type": "code",
   "execution_count": 44,
   "metadata": {},
   "outputs": [
    {
     "name": "stdout",
     "output_type": "stream",
     "text": [
      "[0, 2, 4, 6, 8]\n"
     ]
    }
   ],
   "source": [
    "#using if statements within list comprehension\n",
    "nums = [x for x in range(10) if x %2 ==0] #generates a list of even numbers up to 10\n",
    "print(nums)"
   ]
  },
  {
   "cell_type": "code",
   "execution_count": 45,
   "metadata": {},
   "outputs": [
    {
     "name": "stdout",
     "output_type": "stream",
     "text": [
      "['Even', 'Odd', 'Even', 'Odd', 'Even', 'Odd', 'Even', 'Odd', 'Even', 'Odd']\n"
     ]
    }
   ],
   "source": [
    "#using if/else statements within list comprehension\n",
    "nums = [\"Even\" if x % 2 == 0 else \"Odd\" for x in range(10)] #generates a list of even/odd strings\n",
    "print(nums)"
   ]
  },
  {
   "cell_type": "code",
   "execution_count": 47,
   "metadata": {},
   "outputs": [
    {
     "name": "stdout",
     "output_type": "stream",
     "text": [
      "[4, 16, 36, 64]\n"
     ]
    }
   ],
   "source": [
    "#creating a list of squared numbers from another list of numbers using list comprehension\n",
    "nums = [2,4,6,8]\n",
    "squared_nums = [num**2 for num in nums] #creats a new list of squared numbers based on nums\n",
    "print(squared_nums)"
   ]
  },
  {
   "cell_type": "code",
   "execution_count": 48,
   "metadata": {},
   "outputs": [
    {
     "name": "stdout",
     "output_type": "stream",
     "text": [
      "{0: 0, 2: 4, 4: 16, 6: 36, 8: 64}\n"
     ]
    }
   ],
   "source": [
    "#creating a dictionary of even numbers and square values using comprehension\n",
    "numbers = [x for x in range(10)]\n",
    "squares = {num:num**2 for num in numbers if num % 2 == 0}\n",
    "print(squares)"
   ]
  },
  {
   "cell_type": "markdown",
   "metadata": {},
   "source": [
    "Monday Exercises"
   ]
  },
  {
   "cell_type": "code",
   "execution_count": 50,
   "metadata": {},
   "outputs": [
    {
     "name": "stdout",
     "output_type": "stream",
     "text": [
      "[53.6, 69.80000000000001, 59.0, 89.6]\n"
     ]
    }
   ],
   "source": [
    "#1 Degree Conversion\n",
    "degrees = [12, 21, 15, 32]\n",
    "F_degrees = [(9/5)*x+32 for x in degrees]\n",
    "print(F_degrees)"
   ]
  },
  {
   "cell_type": "code",
   "execution_count": 53,
   "metadata": {},
   "outputs": [
    {
     "name": "stdout",
     "output_type": "stream",
     "text": [
      "type in number between 0 to 100. 20\n",
      "[20, 40, 60, 80, 100]\n"
     ]
    }
   ],
   "source": [
    "#2 User Input\n",
    "ans = int(input(\"type in number between 0 to 100. \"))\n",
    "divisible_nums = [ans*x for x in range(1,101) if ans*x < 101]\n",
    "print(divisible_nums)"
   ]
  },
  {
   "cell_type": "markdown",
   "metadata": {},
   "source": [
    "Lambda Functions"
   ]
  },
  {
   "cell_type": "code",
   "execution_count": 1,
   "metadata": {},
   "outputs": [
    {
     "data": {
      "text/plain": [
       "16"
      ]
     },
     "execution_count": 1,
     "metadata": {},
     "output_type": "execute_result"
    }
   ],
   "source": [
    "#using a lambda to square a number\n",
    "(lambda x : x**2)(4) #takes in 4 and returns the number squared"
   ]
  },
  {
   "cell_type": "code",
   "execution_count": 2,
   "metadata": {},
   "outputs": [
    {
     "data": {
      "text/plain": [
       "50"
      ]
     },
     "execution_count": 2,
     "metadata": {},
     "output_type": "execute_result"
    }
   ],
   "source": [
    "#passing multiple arguments into a lambda\n",
    "(lambda x,y : x*y)(10,5) #x = 10, y = 5 and returns the result of 5*10"
   ]
  },
  {
   "cell_type": "code",
   "execution_count": 3,
   "metadata": {},
   "outputs": [
    {
     "name": "stdout",
     "output_type": "stream",
     "text": [
      "<function <lambda> at 0x00000268762F7B80>\n",
      "50\n"
     ]
    }
   ],
   "source": [
    "#saving a lambda function into a variable\n",
    "square = lambda x,y : x*y\n",
    "print(square)\n",
    "result = square(10,5) #calls the lambda function stored in the sqaure variable and returns 5 * 10\n",
    "print(result)"
   ]
  },
  {
   "cell_type": "code",
   "execution_count": 4,
   "metadata": {},
   "outputs": [
    {
     "name": "stdout",
     "output_type": "stream",
     "text": [
      "10\n"
     ]
    }
   ],
   "source": [
    "#using if/else statements within a lambda to return the greater number\n",
    "greater = lambda x, y : x if x > y else y\n",
    "result = greater(5,10)\n",
    "print(result)"
   ]
  },
  {
   "cell_type": "code",
   "execution_count": 6,
   "metadata": {},
   "outputs": [
    {
     "name": "stdout",
     "output_type": "stream",
     "text": [
      "10\n",
      "15\n"
     ]
    }
   ],
   "source": [
    "#returning a lambda function from another function\n",
    "def my_func(n):\n",
    "    return lambda x : x*n\n",
    "doubler = my_func(2) #returns equivalent of lambda x : x*2\n",
    "print(doubler(5)) #will output 10\n",
    "tripler = my_func(3) #returns equivalent of lambda x : x*3\n",
    "print(tripler(5))"
   ]
  },
  {
   "cell_type": "markdown",
   "metadata": {},
   "source": [
    "Tuesday Exercises"
   ]
  },
  {
   "cell_type": "code",
   "execution_count": 21,
   "metadata": {},
   "outputs": [
    {
     "data": {
      "text/plain": [
       "False"
      ]
     },
     "execution_count": 21,
     "metadata": {},
     "output_type": "execute_result"
    }
   ],
   "source": [
    "#1 Fill in the Blanks\n",
    "#_____x _ True if x _ 50 ____ False\n",
    "(lambda x : True if x > 50 else False)(49)"
   ]
  },
  {
   "cell_type": "code",
   "execution_count": 15,
   "metadata": {},
   "outputs": [
    {
     "data": {
      "text/plain": [
       "44.6"
      ]
     },
     "execution_count": 15,
     "metadata": {},
     "output_type": "execute_result"
    }
   ],
   "source": [
    "#2 Degree Conversion\n",
    "(lambda x : (9/5)*x+32)(7)"
   ]
  },
  {
   "cell_type": "markdown",
   "metadata": {},
   "source": [
    "Map, Reduce, and Filter"
   ]
  },
  {
   "cell_type": "code",
   "execution_count": 2,
   "metadata": {},
   "outputs": [
    {
     "name": "stdout",
     "output_type": "stream",
     "text": [
      "<map object at 0x00000190C199FA00>\n",
      "[54.5, 56.480000000000004, 59.0, 48.56]\n"
     ]
    }
   ],
   "source": [
    "#using the map function without lambdas\n",
    "def convertDegs(C):\n",
    "    return (9/5)*C + 32\n",
    "temps = [12.5, 13.6, 15, 9.2]\n",
    "converted_maps = map(convertDegs, temps) #returns map object\n",
    "print(converted_maps)\n",
    "converted_maps = list(converted_maps) #type convert map object into list of converted maps\n",
    "print(converted_maps)"
   ]
  },
  {
   "cell_type": "code",
   "execution_count": 3,
   "metadata": {},
   "outputs": [
    {
     "name": "stdout",
     "output_type": "stream",
     "text": [
      "[54.5, 56.480000000000004, 59.0, 48.56]\n"
     ]
    }
   ],
   "source": [
    "#using a map function with lambdas\n",
    "temps =[12.5, 13.6, 15, 9.2]\n",
    "converted_temps = list(map(lambda C : (9/5)*C+32, temps)) #type convert the map object right away\n",
    "print(converted_temps)"
   ]
  },
  {
   "cell_type": "code",
   "execution_count": 5,
   "metadata": {},
   "outputs": [
    {
     "name": "stdout",
     "output_type": "stream",
     "text": [
      "<filter object at 0x00000190C198D4F0>\n",
      "[13.6, 15]\n"
     ]
    }
   ],
   "source": [
    "#using the filter function without lambda functions, filter out temps below 55F\n",
    "def filterTemps(C):\n",
    "    converted = (9/5)*C + 32\n",
    "    return True if converted > 55 else False #use ternary operator\n",
    "temps = [12.5, 13.6, 15, 9.2]\n",
    "filtered_temps = filter(filterTemps, temps) #returns filter object\n",
    "print(filtered_temps)\n",
    "filtered_temps = list(filtered_temps) # convert filter object to list of filtered data\n",
    "print(filtered_temps)"
   ]
  },
  {
   "cell_type": "code",
   "execution_count": 7,
   "metadata": {},
   "outputs": [
    {
     "name": "stdout",
     "output_type": "stream",
     "text": [
      "24\n"
     ]
    }
   ],
   "source": [
    "#for informational purposes this is how you use the reduce function \n",
    "from functools import reduce\n",
    "nums = [1,2,3,4]\n",
    "result = reduce(lambda a,b : a*b, nums) #result is 24\n",
    "print(result)"
   ]
  },
  {
   "cell_type": "markdown",
   "metadata": {},
   "source": [
    "Wednesday Exercises"
   ]
  },
  {
   "cell_type": "code",
   "execution_count": 20,
   "metadata": {},
   "outputs": [
    {
     "name": "stdout",
     "output_type": "stream",
     "text": [
      "['Ryan', 'Paul', 'Kevin Connors']\n"
     ]
    }
   ],
   "source": [
    "#1 Mapping Names\n",
    "names = [\"  ryan\", \"PAUL\", \"kevin connors   \"]\n",
    "modified_names = list(map(lambda x : x.strip().title(), names))\n",
    "print(modified_names)"
   ]
  },
  {
   "cell_type": "code",
   "execution_count": 27,
   "metadata": {},
   "outputs": [
    {
     "name": "stdout",
     "output_type": "stream",
     "text": [
      "['Frank', 'Ripal']\n"
     ]
    }
   ],
   "source": [
    "#2 Filter Names\n",
    "names = [\"Amanda\", \"Frank\", \"abby\", \"Ripal\", \"Adam\"]\n",
    "filtered_names = list(filter(lambda x : x if (x.lower()).startswith('a') != True else False, names))\n",
    "print(filtered_names)"
   ]
  },
  {
   "cell_type": "markdown",
   "metadata": {},
   "source": [
    "Recursive Functions and Memoization"
   ]
  },
  {
   "cell_type": "code",
   "execution_count": 1,
   "metadata": {},
   "outputs": [
    {
     "name": "stdout",
     "output_type": "stream",
     "text": [
      "120\n"
     ]
    }
   ],
   "source": [
    "#writing a factorial using recursive functions\n",
    "def factorial(n):\n",
    "    # set your base case!\n",
    "    if n <= 1:\n",
    "        return 1\n",
    "    else:\n",
    "        return factorial(n-1)*n\n",
    "print(factorial(5)) #the result of 5*4*3*2*1"
   ]
  },
  {
   "cell_type": "code",
   "execution_count": 2,
   "metadata": {},
   "outputs": [
    {
     "name": "stdout",
     "output_type": "stream",
     "text": [
      "5\n"
     ]
    }
   ],
   "source": [
    "#writing the recursive fibonacci sequence\n",
    "def fib(n):\n",
    "    if n <= 1:\n",
    "        return n\n",
    "    else:\n",
    "        return fib(n-1) + fib(n-2)\n",
    "print(fib(5)) #results in 5"
   ]
  },
  {
   "cell_type": "code",
   "execution_count": 3,
   "metadata": {},
   "outputs": [
    {
     "name": "stdout",
     "output_type": "stream",
     "text": [
      "12586269025\n"
     ]
    }
   ],
   "source": [
    "#using memoization with the fibonacci sequence\n",
    "cache = {} #used to cache values to be used later\n",
    "def fib(n):\n",
    "    if n in cache:\n",
    "        return cache[n] #return value stored in dictionary\n",
    "    result = 0\n",
    "    #base case\n",
    "    if n <= 1:\n",
    "        result = n\n",
    "    else:\n",
    "        result = fib(n-1) + fib(n-2)\n",
    "    cache[n] = result #save result into dictionary with n as the key\n",
    "    return result\n",
    "print(fib(50)) #calculates almost instantly"
   ]
  },
  {
   "cell_type": "code",
   "execution_count": 4,
   "metadata": {},
   "outputs": [
    {
     "data": {
      "text/plain": [
       "12586269025"
      ]
     },
     "execution_count": 4,
     "metadata": {},
     "output_type": "execute_result"
    }
   ],
   "source": [
    "#using @lru_cache, Python's default memoization/caching technique\n",
    "from functools import lru_cache\n",
    "@lru_cache() #python\"s built-in memoization/caching system\n",
    "def fib(n):\n",
    "    if n <= 1:\n",
    "        return n\n",
    "    else:\n",
    "        return fib(n-1) + fib(n-2)\n",
    "fib(50) #calculates almost instantly"
   ]
  },
  {
   "cell_type": "markdown",
   "metadata": {},
   "source": [
    "Thursday Exercises"
   ]
  },
  {
   "cell_type": "code",
   "execution_count": 8,
   "metadata": {},
   "outputs": [
    {
     "name": "stdout",
     "output_type": "stream",
     "text": [
      "2432902008176640000\n"
     ]
    }
   ],
   "source": [
    "#1 Factorial Caching\n",
    "from functools import lru_cache\n",
    "@lru_cache()\n",
    "def factorial(n):\n",
    "    if n <= 1:\n",
    "        return 1\n",
    "    else:\n",
    "        return factorial(n-1)*n\n",
    "print(factorial(20))"
   ]
  },
  {
   "cell_type": "code",
   "execution_count": 11,
   "metadata": {},
   "outputs": [
    {
     "name": "stdout",
     "output_type": "stream",
     "text": [
      "False\n"
     ]
    }
   ],
   "source": [
    "#2 Searching Data\n",
    "def searchList(aList, num):\n",
    "    result = False\n",
    "    \n",
    "    for item in aList:\n",
    "        if item == num:\n",
    "            result = True\n",
    "        elif isinstance(item, list):\n",
    "            searchList(item, num)\n",
    "            \n",
    "    return result\n",
    "print(searchList([2,3,[18,22],6],22))"
   ]
  },
  {
   "cell_type": "markdown",
   "metadata": {},
   "source": [
    "Friday Project: Writing a Binary Search"
   ]
  },
  {
   "cell_type": "code",
   "execution_count": 22,
   "metadata": {},
   "outputs": [
    {
     "name": "stdout",
     "output_type": "stream",
     "text": [
      "[0, 0, 0, 0, 0, 0, 1, 1, 1, 1, 1, 2, 2, 2, 2, 3, 3, 3, 3, 3, 3, 3, 3, 4, 4, 4, 4, 5, 5, 5, 5, 5, 5, 5, 6, 6, 6, 6, 6, 7, 7, 7, 7, 7, 8, 8, 8, 8, 8, 9, 9, 10, 10, 10, 11, 11, 11, 12, 12, 12, 12, 12, 12, 13, 13, 13, 13, 13, 14, 14, 14, 15, 15, 15, 15, 15, 15, 15, 15, 15, 15, 16, 17, 17, 17, 18, 18, 18, 18, 18, 18, 19, 19, 19, 20, 20, 20, 20, 20, 20]\n",
      "True\n"
     ]
    }
   ],
   "source": [
    "#setting up imports and generating a list of random numbers to work with\n",
    "import random\n",
    "\n",
    "nums = [random.randint(0,20) for i in range(100)] #create a list of ten numbers between 0 and 20\n",
    "\n",
    "def binarySearch(aList, num):\n",
    "    #step 1: sort the lsit\n",
    "    aList.sort()\n",
    "    \n",
    "    #step 6: setup a loop to repeat steps 2 through 6 until list is empty\n",
    "    while aList:\n",
    "\n",
    "        #stpe 2: find the middle index\n",
    "        mid = len(aList)//2 #two slashes mean floor division - round down to the nearest whole num\n",
    "\n",
    "        #step 3: check the value at middle index, if it is equal to num return True\n",
    "        if aList[mid] == num:\n",
    "            return True\n",
    "\n",
    "        #step 4: check if value is greater, if so, cut off right half of list using slicing\n",
    "        elif aList[mid] > num:\n",
    "            aList = aList[:mid]\n",
    "\n",
    "        #step 5: check if value is less, if so, cut off left half of list using slicing\n",
    "        elif aList[mid] < num:\n",
    "            aList = aList[mid+1:]\n",
    "            \n",
    "    #step 7: return False, if it makes it to this line it means the list was empty and num wasn't found\n",
    "    return False\n",
    "\n",
    "print(sorted(nums))\n",
    "print(binarySearch(nums,19))"
   ]
  },
  {
   "cell_type": "markdown",
   "metadata": {},
   "source": [
    "Weekly Challenges"
   ]
  },
  {
   "cell_type": "code",
   "execution_count": 35,
   "metadata": {},
   "outputs": [
    {
     "name": "stdout",
     "output_type": "stream",
     "text": [
      "[2, 5, 13, 13, 14, 14, 15, 17, 19, 20]\n",
      "False\n"
     ]
    }
   ],
   "source": [
    "import random\n",
    "\n",
    "nums = [ random.randint(0, 20) for i in range(10) ]\n",
    "\n",
    "def binarySearch(aList, num):\n",
    "    # base case\n",
    "    if aList == []:\n",
    "        return False\n",
    "    \n",
    "    aList.sort( )\n",
    "    \n",
    "    mid = len(aList) // 2\n",
    "\n",
    "    if aList[mid] == num:\n",
    "        return True\n",
    "    elif aList[mid] > num:\n",
    "        return binarySearch(aList[ : mid ], num)\n",
    "    elif aList[mid] < num:\n",
    "        return binarySearch(aList[ mid + 1 : ], num)\n",
    "    \n",
    "print( sorted(nums) )\n",
    "print( binarySearch(nums, 3) )"
   ]
  },
  {
   "cell_type": "code",
   "execution_count": 42,
   "metadata": {},
   "outputs": [
    {
     "name": "stdout",
     "output_type": "stream",
     "text": [
      "[0, 1, 3, 3, 4, 5, 7, 8, 13, 14, 15, 18, 18, 20, 20]\n",
      "False\n"
     ]
    }
   ],
   "source": [
    "#2 Efficient Algorithms\n",
    "#setting up imports and generating a list of random numbers to work with\n",
    "import random\n",
    "\n",
    "nums = [random.randint(0,20) for i in range(15)] #create a list of ten numbers between 0 and 20\n",
    "\n",
    "def binarySearch(aList, num):\n",
    "    #step 1: sort the lsit\n",
    "    aList.sort()\n",
    "    \n",
    "    #step 6: setup a loop to repeat steps 2 through 6 until list is empty\n",
    "    while aList:\n",
    "\n",
    "        #stpe 2: find the middle index\n",
    "        mid = len(aList)//2 #two slashes mean floor division - round down to the nearest whole num\n",
    "\n",
    "        #step 3: check the value at middle index, if it is equal to num return True\n",
    "        if aList[mid] == num:\n",
    "            return True\n",
    "\n",
    "        #step 4: check if value is greater, if so, cut off right half of list using slicing\n",
    "        elif aList[mid] > num:\n",
    "            aList = aList[:mid]\n",
    "\n",
    "        #step 5: check if value is less, if so, cut off left half of list using slicing\n",
    "        elif aList[mid] < num:\n",
    "            aList = aList[mid+1:]\n",
    "            \n",
    "    #step 7: return False, if it makes it to this line it means the list was empty and num wasn't found\n",
    "    return False\n",
    "\n",
    "print(sorted(nums))\n",
    "print(binarySearch(nums,19))"
   ]
  },
  {
   "cell_type": "code",
   "execution_count": 53,
   "metadata": {},
   "outputs": [
    {
     "data": {
      "text/plain": [
       "True"
      ]
     },
     "execution_count": 53,
     "metadata": {},
     "output_type": "execute_result"
    }
   ],
   "source": [
    "#case sensitive Search\n",
    "\n",
    "def specialBinary (aList, item):\n",
    "    for i in range(len(aList)):\n",
    "        aList[i] = str(aList[i])\n",
    "    \n",
    "    aList.sort()\n",
    "    item = str(item)\n",
    "    \n",
    "    if aList == []:\n",
    "        return False\n",
    "    \n",
    "    mid = len(aList)//2\n",
    "    \n",
    "    if aList[mid] == item:\n",
    "        return True\n",
    "    elif aList[mid] < item:\n",
    "        return specialBinary(aList[mid+1:],item)\n",
    "    elif aList[mid] > item:\n",
    "        return specialBinary(aList[:mid].item)\n",
    "        \n",
    "specialBinary(['a',22,'3','hello',1022,4,'e'],'hello')"
   ]
  },
  {
   "cell_type": "code",
   "execution_count": 50,
   "metadata": {},
   "outputs": [
    {
     "data": {
      "text/plain": [
       "True"
      ]
     },
     "execution_count": 50,
     "metadata": {},
     "output_type": "execute_result"
    }
   ],
   "source": []
  },
  {
   "cell_type": "code",
   "execution_count": null,
   "metadata": {},
   "outputs": [],
   "source": []
  }
 ],
 "metadata": {
  "kernelspec": {
   "display_name": "Python 3",
   "language": "python",
   "name": "python3"
  },
  "language_info": {
   "codemirror_mode": {
    "name": "ipython",
    "version": 3
   },
   "file_extension": ".py",
   "mimetype": "text/x-python",
   "name": "python",
   "nbconvert_exporter": "python",
   "pygments_lexer": "ipython3",
   "version": "3.8.5"
  }
 },
 "nbformat": 4,
 "nbformat_minor": 4
}
