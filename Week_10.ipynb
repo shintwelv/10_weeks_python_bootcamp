{
 "cells": [
  {
   "cell_type": "markdown",
   "metadata": {},
   "source": [
    "Virtual Environments and Requests Module"
   ]
  },
  {
   "cell_type": "code",
   "execution_count": 2,
   "metadata": {},
   "outputs": [
    {
     "name": "stdout",
     "output_type": "stream",
     "text": [
      "<Response [200]>\n",
      "<class 'requests.models.Response'>\n"
     ]
    }
   ],
   "source": [
    "#sending a request and logging the response code\n",
    "\n",
    "import requests\n",
    "\n",
    "r = requests.get(\"https://api.github.com/users/Connor-SM\")\n",
    "\n",
    "print(r)\n",
    "print(type(r))"
   ]
  },
  {
   "cell_type": "code",
   "execution_count": 3,
   "metadata": {},
   "outputs": [
    {
     "name": "stdout",
     "output_type": "stream",
     "text": [
      "b'{\"login\":\"Connor-SM\",\"id\":20958711,\"node_id\":\"MDQ6VXNlcjIwOTU4NzEx\",\"avatar_url\":\"https://avatars.githubusercontent.com/u/20958711?v=4\",\"gravatar_id\":\"\",\"url\":\"https://api.github.com/users/Connor-SM\",\"html_url\":\"https://github.com/Connor-SM\",\"followers_url\":\"https://api.github.com/users/Connor-SM/followers\",\"following_url\":\"https://api.github.com/users/Connor-SM/following{/other_user}\",\"gists_url\":\"https://api.github.com/users/Connor-SM/gists{/gist_id}\",\"starred_url\":\"https://api.github.com/users/Connor-SM/starred{/owner}{/repo}\",\"subscriptions_url\":\"https://api.github.com/users/Connor-SM/subscriptions\",\"organizations_url\":\"https://api.github.com/users/Connor-SM/orgs\",\"repos_url\":\"https://api.github.com/users/Connor-SM/repos\",\"events_url\":\"https://api.github.com/users/Connor-SM/events{/privacy}\",\"received_events_url\":\"https://api.github.com/users/Connor-SM/received_events\",\"type\":\"User\",\"site_admin\":false,\"name\":\"Connor Milliken\",\"company\":\"HubSpot, Inc.\",\"blog\":\"www.connormilliken.com\",\"location\":\"Boston, MA\",\"email\":null,\"hireable\":null,\"bio\":\"- Author of Python Projects for Beginners\\\\r\\\\n\\\\r\\\\n- Python Instructor\\\\r\\\\n\\\\r\\\\n- Adventurer/Traveler\",\"twitter_username\":null,\"public_repos\":51,\"public_gists\":0,\"followers\":65,\"following\":36,\"created_at\":\"2016-08-10T22:39:46Z\",\"updated_at\":\"2020-07-02T14:21:09Z\"}'\n"
     ]
    }
   ],
   "source": [
    "#accessing the content that we requested from the URL\n",
    "data = r.content\n",
    "print(data)"
   ]
  },
  {
   "cell_type": "code",
   "execution_count": 4,
   "metadata": {},
   "outputs": [
    {
     "name": "stdout",
     "output_type": "stream",
     "text": [
      "Key: login \t Value: Connor-SM\n",
      "Key: id \t Value: 20958711\n",
      "Key: node_id \t Value: MDQ6VXNlcjIwOTU4NzEx\n",
      "Key: avatar_url \t Value: https://avatars.githubusercontent.com/u/20958711?v=4\n",
      "Key: gravatar_id \t Value: \n",
      "Key: url \t Value: https://api.github.com/users/Connor-SM\n",
      "Key: html_url \t Value: https://github.com/Connor-SM\n",
      "Key: followers_url \t Value: https://api.github.com/users/Connor-SM/followers\n",
      "Key: following_url \t Value: https://api.github.com/users/Connor-SM/following{/other_user}\n",
      "Key: gists_url \t Value: https://api.github.com/users/Connor-SM/gists{/gist_id}\n",
      "Key: starred_url \t Value: https://api.github.com/users/Connor-SM/starred{/owner}{/repo}\n",
      "Key: subscriptions_url \t Value: https://api.github.com/users/Connor-SM/subscriptions\n",
      "Key: organizations_url \t Value: https://api.github.com/users/Connor-SM/orgs\n",
      "Key: repos_url \t Value: https://api.github.com/users/Connor-SM/repos\n",
      "Key: events_url \t Value: https://api.github.com/users/Connor-SM/events{/privacy}\n",
      "Key: received_events_url \t Value: https://api.github.com/users/Connor-SM/received_events\n",
      "Key: type \t Value: User\n",
      "Key: site_admin \t Value: False\n",
      "Key: name \t Value: Connor Milliken\n",
      "Key: company \t Value: HubSpot, Inc.\n",
      "Key: blog \t Value: www.connormilliken.com\n",
      "Key: location \t Value: Boston, MA\n",
      "Key: email \t Value: None\n",
      "Key: hireable \t Value: None\n",
      "Key: bio \t Value: - Author of Python Projects for Beginners\r\n",
      "\r\n",
      "- Python Instructor\r\n",
      "\r\n",
      "- Adventurer/Traveler\n",
      "Key: twitter_username \t Value: None\n",
      "Key: public_repos \t Value: 51\n",
      "Key: public_gists \t Value: 0\n",
      "Key: followers \t Value: 65\n",
      "Key: following \t Value: 36\n",
      "Key: created_at \t Value: 2016-08-10T22:39:46Z\n",
      "Key: updated_at \t Value: 2020-07-02T14:21:09Z\n",
      "Connor Milliken\n"
     ]
    }
   ],
   "source": [
    "#converting data from JSON into a Python dictionary and outputting all key-value pairs\n",
    "data =r.json() #converting the data from a string to a dictionary\n",
    "for k,v in data.items():\n",
    "    print(\"Key: {} \\t Value: {}\".format(k,v))\n",
    "print(data['name']) #accessing data directly"
   ]
  },
  {
   "cell_type": "code",
   "execution_count": 7,
   "metadata": {},
   "outputs": [
    {
     "name": "stdout",
     "output_type": "stream",
     "text": [
      "6274007\n"
     ]
    }
   ],
   "source": [
    "#outputting specifit key-value pairs from data\n",
    "r = requests.get(\"https://api.github.com/search/repositories?q=language:python\")\n",
    "data = r.json()\n",
    "print(data[\"total_count\"]) #output the total number of repositories that use python"
   ]
  },
  {
   "cell_type": "markdown",
   "metadata": {},
   "source": [
    "Monday Exercises"
   ]
  },
  {
   "cell_type": "code",
   "execution_count": 1,
   "metadata": {},
   "outputs": [],
   "source": [
    "#1 Test Environment"
   ]
  },
  {
   "cell_type": "code",
   "execution_count": 6,
   "metadata": {},
   "outputs": [
    {
     "name": "stdout",
     "output_type": "stream",
     "text": [
      "12924591\n"
     ]
    }
   ],
   "source": [
    "#2 JavaScript Repositories\n",
    "import requests\n",
    "\n",
    "r = requests.get(\"https://api.github.com/search/repositories?q=language:javascript\")\n",
    "data=r.json()\n",
    "print(data['total_count'])"
   ]
  },
  {
   "cell_type": "markdown",
   "metadata": {},
   "source": [
    "Tuesday: Pansdas"
   ]
  },
  {
   "cell_type": "code",
   "execution_count": 2,
   "metadata": {},
   "outputs": [],
   "source": [
    "#importing the pands library\n",
    "import pandas as pd # industry stadard name of pd when importing"
   ]
  },
  {
   "cell_type": "code",
   "execution_count": 3,
   "metadata": {},
   "outputs": [
    {
     "name": "stdout",
     "output_type": "stream",
     "text": [
      "     names  ages\n",
      "0     Jess    25\n",
      "1   Jordan    35\n",
      "2    Sandy    22\n",
      "3      Ted    29\n",
      "4   Barney    33\n",
      "5    Tyler    20\n",
      "6  Rebecca    18\n"
     ]
    }
   ],
   "source": [
    "#using the from_dict method ot convert a dictionary into a Pandas DataFrame\n",
    "import random\n",
    "\n",
    "random.seed(3) #generate same random numbers every time, number used doesn't matter\n",
    "\n",
    "names = ['Jess', 'Jordan', 'Sandy', 'Ted', 'Barney', 'Tyler', 'Rebecca']\n",
    "ages = [random.randint(18, 35) for x in range(len(names))]\n",
    "\n",
    "people = {'names' : names, \"ages\" : ages}\n",
    "\n",
    "df = pd.DataFrame.from_dict(people)\n",
    "print(df)"
   ]
  },
  {
   "cell_type": "code",
   "execution_count": 4,
   "metadata": {},
   "outputs": [
    {
     "name": "stdout",
     "output_type": "stream",
     "text": [
      "0    25\n",
      "1    35\n",
      "2    22\n",
      "3    29\n",
      "4    33\n",
      "5    20\n",
      "6    18\n",
      "Name: ages, dtype: int64\n",
      "29\n"
     ]
    }
   ],
   "source": [
    "#directly selecting a column in Pandas\n",
    "print(df['ages'])\n",
    "print(df['ages'][3]) #select the value of \"ages\" in the fourth row (0-index based)\n",
    "\n",
    "#print(df[4]) doesn't work, 4 is not column name"
   ]
  },
  {
   "cell_type": "code",
   "execution_count": 5,
   "metadata": {},
   "outputs": [
    {
     "name": "stdout",
     "output_type": "stream",
     "text": [
      "names    Jess\n",
      "ages       25\n",
      "Name: 0, dtype: object\n",
      "Jess\n"
     ]
    }
   ],
   "source": [
    "#directly selecting a record in Pandas using .loc\n",
    "print(df.loc[0])\n",
    "print(df.loc[0]['names']) #selecting the value at record 0 in the 'names' column"
   ]
  },
  {
   "cell_type": "code",
   "execution_count": 6,
   "metadata": {},
   "outputs": [
    {
     "name": "stdout",
     "output_type": "stream",
     "text": [
      "    names  ages\n",
      "2   Sandy    22\n",
      "3     Ted    29\n",
      "4  Barney    33\n"
     ]
    }
   ],
   "source": [
    "#slicing a DataFrame to grab specific records\n",
    "print(df[2:5])"
   ]
  },
  {
   "cell_type": "code",
   "execution_count": 7,
   "metadata": {},
   "outputs": [
    {
     "data": {
      "text/html": [
       "<div>\n",
       "<style scoped>\n",
       "    .dataframe tbody tr th:only-of-type {\n",
       "        vertical-align: middle;\n",
       "    }\n",
       "\n",
       "    .dataframe tbody tr th {\n",
       "        vertical-align: top;\n",
       "    }\n",
       "\n",
       "    .dataframe thead th {\n",
       "        text-align: right;\n",
       "    }\n",
       "</style>\n",
       "<table border=\"1\" class=\"dataframe\">\n",
       "  <thead>\n",
       "    <tr style=\"text-align: right;\">\n",
       "      <th></th>\n",
       "      <th>names</th>\n",
       "      <th>ages</th>\n",
       "    </tr>\n",
       "  </thead>\n",
       "  <tbody>\n",
       "    <tr>\n",
       "      <th>0</th>\n",
       "      <td>Jess</td>\n",
       "      <td>25</td>\n",
       "    </tr>\n",
       "    <tr>\n",
       "      <th>1</th>\n",
       "      <td>Jordan</td>\n",
       "      <td>35</td>\n",
       "    </tr>\n",
       "    <tr>\n",
       "      <th>2</th>\n",
       "      <td>Sandy</td>\n",
       "      <td>22</td>\n",
       "    </tr>\n",
       "    <tr>\n",
       "      <th>3</th>\n",
       "      <td>Ted</td>\n",
       "      <td>29</td>\n",
       "    </tr>\n",
       "    <tr>\n",
       "      <th>4</th>\n",
       "      <td>Barney</td>\n",
       "      <td>33</td>\n",
       "    </tr>\n",
       "  </tbody>\n",
       "</table>\n",
       "</div>"
      ],
      "text/plain": [
       "    names  ages\n",
       "0    Jess    25\n",
       "1  Jordan    35\n",
       "2   Sandy    22\n",
       "3     Ted    29\n",
       "4  Barney    33"
      ]
     },
     "execution_count": 7,
     "metadata": {},
     "output_type": "execute_result"
    }
   ],
   "source": [
    "#accessing the top 5 records using .head()\n",
    "df.head(5)"
   ]
  },
  {
   "cell_type": "code",
   "execution_count": 8,
   "metadata": {},
   "outputs": [
    {
     "data": {
      "text/html": [
       "<div>\n",
       "<style scoped>\n",
       "    .dataframe tbody tr th:only-of-type {\n",
       "        vertical-align: middle;\n",
       "    }\n",
       "\n",
       "    .dataframe tbody tr th {\n",
       "        vertical-align: top;\n",
       "    }\n",
       "\n",
       "    .dataframe thead th {\n",
       "        text-align: right;\n",
       "    }\n",
       "</style>\n",
       "<table border=\"1\" class=\"dataframe\">\n",
       "  <thead>\n",
       "    <tr style=\"text-align: right;\">\n",
       "      <th></th>\n",
       "      <th>names</th>\n",
       "      <th>ages</th>\n",
       "    </tr>\n",
       "  </thead>\n",
       "  <tbody>\n",
       "    <tr>\n",
       "      <th>4</th>\n",
       "      <td>Barney</td>\n",
       "      <td>33</td>\n",
       "    </tr>\n",
       "    <tr>\n",
       "      <th>5</th>\n",
       "      <td>Tyler</td>\n",
       "      <td>20</td>\n",
       "    </tr>\n",
       "    <tr>\n",
       "      <th>6</th>\n",
       "      <td>Rebecca</td>\n",
       "      <td>18</td>\n",
       "    </tr>\n",
       "  </tbody>\n",
       "</table>\n",
       "</div>"
      ],
      "text/plain": [
       "     names  ages\n",
       "4   Barney    33\n",
       "5    Tyler    20\n",
       "6  Rebecca    18"
      ]
     },
     "execution_count": 8,
     "metadata": {},
     "output_type": "execute_result"
    }
   ],
   "source": [
    "#accessing the bottom 3 records using .tail()\n",
    "df.tail(3)"
   ]
  },
  {
   "cell_type": "code",
   "execution_count": 9,
   "metadata": {},
   "outputs": [
    {
     "name": "stdout",
     "output_type": "stream",
     "text": [
      "Index(['names', 'ages'], dtype='object')\n"
     ]
    }
   ],
   "source": [
    "#accessing the column headers (keys) using the .keys() method\n",
    "headers = df.keys()\n",
    "print(headers)"
   ]
  },
  {
   "cell_type": "code",
   "execution_count": 10,
   "metadata": {},
   "outputs": [
    {
     "name": "stdout",
     "output_type": "stream",
     "text": [
      "(7, 2)\n"
     ]
    }
   ],
   "source": [
    "#checking the shape, which is the number of records and columns\n",
    "print(df.shape)"
   ]
  },
  {
   "cell_type": "code",
   "execution_count": 11,
   "metadata": {},
   "outputs": [
    {
     "data": {
      "text/html": [
       "<div>\n",
       "<style scoped>\n",
       "    .dataframe tbody tr th:only-of-type {\n",
       "        vertical-align: middle;\n",
       "    }\n",
       "\n",
       "    .dataframe tbody tr th {\n",
       "        vertical-align: top;\n",
       "    }\n",
       "\n",
       "    .dataframe thead th {\n",
       "        text-align: right;\n",
       "    }\n",
       "</style>\n",
       "<table border=\"1\" class=\"dataframe\">\n",
       "  <thead>\n",
       "    <tr style=\"text-align: right;\">\n",
       "      <th></th>\n",
       "      <th>ages</th>\n",
       "    </tr>\n",
       "  </thead>\n",
       "  <tbody>\n",
       "    <tr>\n",
       "      <th>count</th>\n",
       "      <td>7.000000</td>\n",
       "    </tr>\n",
       "    <tr>\n",
       "      <th>mean</th>\n",
       "      <td>26.000000</td>\n",
       "    </tr>\n",
       "    <tr>\n",
       "      <th>std</th>\n",
       "      <td>6.531973</td>\n",
       "    </tr>\n",
       "    <tr>\n",
       "      <th>min</th>\n",
       "      <td>18.000000</td>\n",
       "    </tr>\n",
       "    <tr>\n",
       "      <th>25%</th>\n",
       "      <td>21.000000</td>\n",
       "    </tr>\n",
       "    <tr>\n",
       "      <th>50%</th>\n",
       "      <td>25.000000</td>\n",
       "    </tr>\n",
       "    <tr>\n",
       "      <th>75%</th>\n",
       "      <td>31.000000</td>\n",
       "    </tr>\n",
       "    <tr>\n",
       "      <th>max</th>\n",
       "      <td>35.000000</td>\n",
       "    </tr>\n",
       "  </tbody>\n",
       "</table>\n",
       "</div>"
      ],
      "text/plain": [
       "            ages\n",
       "count   7.000000\n",
       "mean   26.000000\n",
       "std     6.531973\n",
       "min    18.000000\n",
       "25%    21.000000\n",
       "50%    25.000000\n",
       "75%    31.000000\n",
       "max    35.000000"
      ]
     },
     "execution_count": 11,
     "metadata": {},
     "output_type": "execute_result"
    }
   ],
   "source": [
    "#checking the general statistics of the DataFrame using .describe() only works on numerical columns\n",
    "df.describe()"
   ]
  },
  {
   "cell_type": "code",
   "execution_count": 12,
   "metadata": {},
   "outputs": [
    {
     "data": {
      "text/html": [
       "<div>\n",
       "<style scoped>\n",
       "    .dataframe tbody tr th:only-of-type {\n",
       "        vertical-align: middle;\n",
       "    }\n",
       "\n",
       "    .dataframe tbody tr th {\n",
       "        vertical-align: top;\n",
       "    }\n",
       "\n",
       "    .dataframe thead th {\n",
       "        text-align: right;\n",
       "    }\n",
       "</style>\n",
       "<table border=\"1\" class=\"dataframe\">\n",
       "  <thead>\n",
       "    <tr style=\"text-align: right;\">\n",
       "      <th></th>\n",
       "      <th>names</th>\n",
       "      <th>ages</th>\n",
       "    </tr>\n",
       "  </thead>\n",
       "  <tbody>\n",
       "    <tr>\n",
       "      <th>6</th>\n",
       "      <td>Rebecca</td>\n",
       "      <td>18</td>\n",
       "    </tr>\n",
       "    <tr>\n",
       "      <th>5</th>\n",
       "      <td>Tyler</td>\n",
       "      <td>20</td>\n",
       "    </tr>\n",
       "    <tr>\n",
       "      <th>2</th>\n",
       "      <td>Sandy</td>\n",
       "      <td>22</td>\n",
       "    </tr>\n",
       "    <tr>\n",
       "      <th>0</th>\n",
       "      <td>Jess</td>\n",
       "      <td>25</td>\n",
       "    </tr>\n",
       "    <tr>\n",
       "      <th>3</th>\n",
       "      <td>Ted</td>\n",
       "      <td>29</td>\n",
       "    </tr>\n",
       "  </tbody>\n",
       "</table>\n",
       "</div>"
      ],
      "text/plain": [
       "     names  ages\n",
       "6  Rebecca    18\n",
       "5    Tyler    20\n",
       "2    Sandy    22\n",
       "0     Jess    25\n",
       "3      Ted    29"
      ]
     },
     "execution_count": 12,
     "metadata": {},
     "output_type": "execute_result"
    }
   ],
   "source": [
    "#sort based on a given column, but keep the DataFrame in tact using sort_values()\n",
    "df = df.sort_values(\"ages\")\n",
    "df.head(5)"
   ]
  },
  {
   "cell_type": "code",
   "execution_count": 13,
   "metadata": {},
   "outputs": [
    {
     "name": "stdout",
     "output_type": "stream",
     "text": [
      "6    False\n",
      "5    False\n",
      "2     True\n",
      "0     True\n",
      "3     True\n",
      "4     True\n",
      "1     True\n",
      "Name: ages, dtype: bool\n"
     ]
    }
   ],
   "source": [
    "#using a conditional to create a true/false column to work with\n",
    "can_drink = df['ages'] > 21\n",
    "print(can_drink)"
   ]
  },
  {
   "cell_type": "code",
   "execution_count": 14,
   "metadata": {},
   "outputs": [
    {
     "data": {
      "text/html": [
       "<div>\n",
       "<style scoped>\n",
       "    .dataframe tbody tr th:only-of-type {\n",
       "        vertical-align: middle;\n",
       "    }\n",
       "\n",
       "    .dataframe tbody tr th {\n",
       "        vertical-align: top;\n",
       "    }\n",
       "\n",
       "    .dataframe thead th {\n",
       "        text-align: right;\n",
       "    }\n",
       "</style>\n",
       "<table border=\"1\" class=\"dataframe\">\n",
       "  <thead>\n",
       "    <tr style=\"text-align: right;\">\n",
       "      <th></th>\n",
       "      <th>names</th>\n",
       "      <th>ages</th>\n",
       "    </tr>\n",
       "  </thead>\n",
       "  <tbody>\n",
       "    <tr>\n",
       "      <th>2</th>\n",
       "      <td>Sandy</td>\n",
       "      <td>22</td>\n",
       "    </tr>\n",
       "    <tr>\n",
       "      <th>0</th>\n",
       "      <td>Jess</td>\n",
       "      <td>25</td>\n",
       "    </tr>\n",
       "    <tr>\n",
       "      <th>3</th>\n",
       "      <td>Ted</td>\n",
       "      <td>29</td>\n",
       "    </tr>\n",
       "    <tr>\n",
       "      <th>4</th>\n",
       "      <td>Barney</td>\n",
       "      <td>33</td>\n",
       "    </tr>\n",
       "    <tr>\n",
       "      <th>1</th>\n",
       "      <td>Jordan</td>\n",
       "      <td>35</td>\n",
       "    </tr>\n",
       "  </tbody>\n",
       "</table>\n",
       "</div>"
      ],
      "text/plain": [
       "    names  ages\n",
       "2   Sandy    22\n",
       "0    Jess    25\n",
       "3     Ted    29\n",
       "4  Barney    33\n",
       "1  Jordan    35"
      ]
     },
     "execution_count": 14,
     "metadata": {},
     "output_type": "execute_result"
    }
   ],
   "source": [
    "#using subsetting to filter out records and keep DataFrame intact\n",
    "df[df['ages'] > 21]"
   ]
  },
  {
   "cell_type": "code",
   "execution_count": 17,
   "metadata": {},
   "outputs": [
    {
     "data": {
      "text/html": [
       "<div>\n",
       "<style scoped>\n",
       "    .dataframe tbody tr th:only-of-type {\n",
       "        vertical-align: middle;\n",
       "    }\n",
       "\n",
       "    .dataframe tbody tr th {\n",
       "        vertical-align: top;\n",
       "    }\n",
       "\n",
       "    .dataframe thead th {\n",
       "        text-align: right;\n",
       "    }\n",
       "</style>\n",
       "<table border=\"1\" class=\"dataframe\">\n",
       "  <thead>\n",
       "    <tr style=\"text-align: right;\">\n",
       "      <th></th>\n",
       "      <th>names</th>\n",
       "      <th>ages</th>\n",
       "      <th>tenure</th>\n",
       "    </tr>\n",
       "  </thead>\n",
       "  <tbody>\n",
       "    <tr>\n",
       "      <th>6</th>\n",
       "      <td>Rebecca</td>\n",
       "      <td>18</td>\n",
       "      <td>4</td>\n",
       "    </tr>\n",
       "    <tr>\n",
       "      <th>5</th>\n",
       "      <td>Tyler</td>\n",
       "      <td>20</td>\n",
       "      <td>6</td>\n",
       "    </tr>\n",
       "    <tr>\n",
       "      <th>2</th>\n",
       "      <td>Sandy</td>\n",
       "      <td>22</td>\n",
       "      <td>2</td>\n",
       "    </tr>\n",
       "    <tr>\n",
       "      <th>0</th>\n",
       "      <td>Jess</td>\n",
       "      <td>25</td>\n",
       "      <td>5</td>\n",
       "    </tr>\n",
       "    <tr>\n",
       "      <th>3</th>\n",
       "      <td>Ted</td>\n",
       "      <td>29</td>\n",
       "      <td>8</td>\n",
       "    </tr>\n",
       "  </tbody>\n",
       "</table>\n",
       "</div>"
      ],
      "text/plain": [
       "     names  ages  tenure\n",
       "6  Rebecca    18       4\n",
       "5    Tyler    20       6\n",
       "2    Sandy    22       2\n",
       "0     Jess    25       5\n",
       "3      Ted    29       8"
      ]
     },
     "execution_count": 17,
     "metadata": {},
     "output_type": "execute_result"
    }
   ],
   "source": [
    "#generating a new column of fake data for each record in the DataFrame to represent customer tenure\n",
    "random.seed(321)\n",
    "\n",
    "tenure = [random.randint(0,10) for x in range(len(df))]\n",
    "\n",
    "df['tenure'] = tenure #same as adding a new key-value fair in a dictionary\n",
    "df.head()"
   ]
  },
  {
   "cell_type": "code",
   "execution_count": 19,
   "metadata": {},
   "outputs": [
    {
     "data": {
      "text/html": [
       "<div>\n",
       "<style scoped>\n",
       "    .dataframe tbody tr th:only-of-type {\n",
       "        vertical-align: middle;\n",
       "    }\n",
       "\n",
       "    .dataframe tbody tr th {\n",
       "        vertical-align: top;\n",
       "    }\n",
       "\n",
       "    .dataframe thead th {\n",
       "        text-align: right;\n",
       "    }\n",
       "</style>\n",
       "<table border=\"1\" class=\"dataframe\">\n",
       "  <thead>\n",
       "    <tr style=\"text-align: right;\">\n",
       "      <th></th>\n",
       "      <th>names</th>\n",
       "      <th>ages</th>\n",
       "      <th>tenure</th>\n",
       "      <th>age_group</th>\n",
       "    </tr>\n",
       "  </thead>\n",
       "  <tbody>\n",
       "    <tr>\n",
       "      <th>6</th>\n",
       "      <td>Rebecca</td>\n",
       "      <td>18</td>\n",
       "      <td>4</td>\n",
       "      <td>Teenager</td>\n",
       "    </tr>\n",
       "    <tr>\n",
       "      <th>5</th>\n",
       "      <td>Tyler</td>\n",
       "      <td>20</td>\n",
       "      <td>6</td>\n",
       "      <td>Teenager</td>\n",
       "    </tr>\n",
       "    <tr>\n",
       "      <th>2</th>\n",
       "      <td>Sandy</td>\n",
       "      <td>22</td>\n",
       "      <td>2</td>\n",
       "      <td>Adult</td>\n",
       "    </tr>\n",
       "    <tr>\n",
       "      <th>0</th>\n",
       "      <td>Jess</td>\n",
       "      <td>25</td>\n",
       "      <td>5</td>\n",
       "      <td>Adult</td>\n",
       "    </tr>\n",
       "    <tr>\n",
       "      <th>3</th>\n",
       "      <td>Ted</td>\n",
       "      <td>29</td>\n",
       "      <td>8</td>\n",
       "      <td>Adult</td>\n",
       "    </tr>\n",
       "    <tr>\n",
       "      <th>4</th>\n",
       "      <td>Barney</td>\n",
       "      <td>33</td>\n",
       "      <td>7</td>\n",
       "      <td>Adult</td>\n",
       "    </tr>\n",
       "    <tr>\n",
       "      <th>1</th>\n",
       "      <td>Jordan</td>\n",
       "      <td>35</td>\n",
       "      <td>5</td>\n",
       "      <td>Adult</td>\n",
       "    </tr>\n",
       "  </tbody>\n",
       "</table>\n",
       "</div>"
      ],
      "text/plain": [
       "     names  ages  tenure age_group\n",
       "6  Rebecca    18       4  Teenager\n",
       "5    Tyler    20       6  Teenager\n",
       "2    Sandy    22       2     Adult\n",
       "0     Jess    25       5     Adult\n",
       "3      Ted    29       8     Adult\n",
       "4   Barney    33       7     Adult\n",
       "1   Jordan    35       5     Adult"
      ]
     },
     "execution_count": 19,
     "metadata": {},
     "output_type": "execute_result"
    }
   ],
   "source": [
    "#feature engineering a new column from known data using a UDF\n",
    "def ageGroup(age):\n",
    "    return \"Teenager\" if age < 21 else \"Adult\"\n",
    "df[\"age_group\"] = df[\"ages\"].apply(ageGroup)\n",
    "df.head(10)"
   ]
  },
  {
   "cell_type": "code",
   "execution_count": 20,
   "metadata": {},
   "outputs": [
    {
     "data": {
      "text/html": [
       "<div>\n",
       "<style scoped>\n",
       "    .dataframe tbody tr th:only-of-type {\n",
       "        vertical-align: middle;\n",
       "    }\n",
       "\n",
       "    .dataframe tbody tr th {\n",
       "        vertical-align: top;\n",
       "    }\n",
       "\n",
       "    .dataframe thead th {\n",
       "        text-align: right;\n",
       "    }\n",
       "</style>\n",
       "<table border=\"1\" class=\"dataframe\">\n",
       "  <thead>\n",
       "    <tr style=\"text-align: right;\">\n",
       "      <th></th>\n",
       "      <th>age_group</th>\n",
       "      <th>names</th>\n",
       "      <th>ages</th>\n",
       "      <th>tenure</th>\n",
       "    </tr>\n",
       "  </thead>\n",
       "  <tbody>\n",
       "    <tr>\n",
       "      <th>0</th>\n",
       "      <td>Adult</td>\n",
       "      <td>5</td>\n",
       "      <td>5</td>\n",
       "      <td>5</td>\n",
       "    </tr>\n",
       "    <tr>\n",
       "      <th>1</th>\n",
       "      <td>Teenager</td>\n",
       "      <td>2</td>\n",
       "      <td>2</td>\n",
       "      <td>2</td>\n",
       "    </tr>\n",
       "  </tbody>\n",
       "</table>\n",
       "</div>"
      ],
      "text/plain": [
       "  age_group  names  ages  tenure\n",
       "0     Adult      5     5       5\n",
       "1  Teenager      2     2       2"
      ]
     },
     "execution_count": 20,
     "metadata": {},
     "output_type": "execute_result"
    }
   ],
   "source": [
    "#grouping the records together to count how many records in each group\n",
    "df.groupby(\"age_group\", as_index = False).count().head()"
   ]
  },
  {
   "cell_type": "code",
   "execution_count": 21,
   "metadata": {},
   "outputs": [
    {
     "data": {
      "text/html": [
       "<div>\n",
       "<style scoped>\n",
       "    .dataframe tbody tr th:only-of-type {\n",
       "        vertical-align: middle;\n",
       "    }\n",
       "\n",
       "    .dataframe tbody tr th {\n",
       "        vertical-align: top;\n",
       "    }\n",
       "\n",
       "    .dataframe thead th {\n",
       "        text-align: right;\n",
       "    }\n",
       "</style>\n",
       "<table border=\"1\" class=\"dataframe\">\n",
       "  <thead>\n",
       "    <tr style=\"text-align: right;\">\n",
       "      <th></th>\n",
       "      <th>age_group</th>\n",
       "      <th>ages</th>\n",
       "      <th>tenure</th>\n",
       "    </tr>\n",
       "  </thead>\n",
       "  <tbody>\n",
       "    <tr>\n",
       "      <th>0</th>\n",
       "      <td>Adult</td>\n",
       "      <td>28.8</td>\n",
       "      <td>5.4</td>\n",
       "    </tr>\n",
       "    <tr>\n",
       "      <th>1</th>\n",
       "      <td>Teenager</td>\n",
       "      <td>19.0</td>\n",
       "      <td>5.0</td>\n",
       "    </tr>\n",
       "  </tbody>\n",
       "</table>\n",
       "</div>"
      ],
      "text/plain": [
       "  age_group  ages  tenure\n",
       "0     Adult  28.8     5.4\n",
       "1  Teenager  19.0     5.0"
      ]
     },
     "execution_count": 21,
     "metadata": {},
     "output_type": "execute_result"
    }
   ],
   "source": [
    "#grouping the data to see averages of all columns\n",
    "df.groupby(\"age_group\", as_index = False).mean().head()"
   ]
  },
  {
   "cell_type": "code",
   "execution_count": 22,
   "metadata": {},
   "outputs": [
    {
     "data": {
      "text/html": [
       "<div>\n",
       "<style scoped>\n",
       "    .dataframe tbody tr th:only-of-type {\n",
       "        vertical-align: middle;\n",
       "    }\n",
       "\n",
       "    .dataframe tbody tr th {\n",
       "        vertical-align: top;\n",
       "    }\n",
       "\n",
       "    .dataframe thead th {\n",
       "        text-align: right;\n",
       "    }\n",
       "</style>\n",
       "<table border=\"1\" class=\"dataframe\">\n",
       "  <thead>\n",
       "    <tr style=\"text-align: right;\">\n",
       "      <th></th>\n",
       "      <th>age_group</th>\n",
       "      <th>tenure</th>\n",
       "      <th>names</th>\n",
       "      <th>ages</th>\n",
       "    </tr>\n",
       "  </thead>\n",
       "  <tbody>\n",
       "    <tr>\n",
       "      <th>0</th>\n",
       "      <td>Adult</td>\n",
       "      <td>2</td>\n",
       "      <td>1</td>\n",
       "      <td>1</td>\n",
       "    </tr>\n",
       "    <tr>\n",
       "      <th>1</th>\n",
       "      <td>Adult</td>\n",
       "      <td>5</td>\n",
       "      <td>2</td>\n",
       "      <td>2</td>\n",
       "    </tr>\n",
       "    <tr>\n",
       "      <th>2</th>\n",
       "      <td>Adult</td>\n",
       "      <td>7</td>\n",
       "      <td>1</td>\n",
       "      <td>1</td>\n",
       "    </tr>\n",
       "    <tr>\n",
       "      <th>3</th>\n",
       "      <td>Adult</td>\n",
       "      <td>8</td>\n",
       "      <td>1</td>\n",
       "      <td>1</td>\n",
       "    </tr>\n",
       "    <tr>\n",
       "      <th>4</th>\n",
       "      <td>Teenager</td>\n",
       "      <td>4</td>\n",
       "      <td>1</td>\n",
       "      <td>1</td>\n",
       "    </tr>\n",
       "  </tbody>\n",
       "</table>\n",
       "</div>"
      ],
      "text/plain": [
       "  age_group  tenure  names  ages\n",
       "0     Adult       2      1     1\n",
       "1     Adult       5      2     2\n",
       "2     Adult       7      1     1\n",
       "3     Adult       8      1     1\n",
       "4  Teenager       4      1     1"
      ]
     },
     "execution_count": 22,
     "metadata": {},
     "output_type": "execute_result"
    }
   ],
   "source": [
    "#grouping information by their age group, then by their tenure\n",
    "df.groupby([\"age_group\", \"tenure\"], as_index = False).count().head()"
   ]
  },
  {
   "cell_type": "code",
   "execution_count": 24,
   "metadata": {},
   "outputs": [
    {
     "data": {
      "text/html": [
       "<div>\n",
       "<style scoped>\n",
       "    .dataframe tbody tr th:only-of-type {\n",
       "        vertical-align: middle;\n",
       "    }\n",
       "\n",
       "    .dataframe tbody tr th {\n",
       "        vertical-align: top;\n",
       "    }\n",
       "\n",
       "    .dataframe thead th {\n",
       "        text-align: right;\n",
       "    }\n",
       "</style>\n",
       "<table border=\"1\" class=\"dataframe\">\n",
       "  <thead>\n",
       "    <tr style=\"text-align: right;\">\n",
       "      <th></th>\n",
       "      <th>names</th>\n",
       "      <th>ages</th>\n",
       "      <th>tenure</th>\n",
       "      <th>age_group</th>\n",
       "    </tr>\n",
       "  </thead>\n",
       "  <tbody>\n",
       "    <tr>\n",
       "      <th>6</th>\n",
       "      <td>Rebecca</td>\n",
       "      <td>18</td>\n",
       "      <td>4</td>\n",
       "      <td>Teenager</td>\n",
       "    </tr>\n",
       "    <tr>\n",
       "      <th>5</th>\n",
       "      <td>Tyler</td>\n",
       "      <td>20</td>\n",
       "      <td>6</td>\n",
       "      <td>Teenager</td>\n",
       "    </tr>\n",
       "    <tr>\n",
       "      <th>2</th>\n",
       "      <td>Sandy</td>\n",
       "      <td>22</td>\n",
       "      <td>2</td>\n",
       "      <td>Adult</td>\n",
       "    </tr>\n",
       "    <tr>\n",
       "      <th>0</th>\n",
       "      <td>Jess</td>\n",
       "      <td>25</td>\n",
       "      <td>5</td>\n",
       "      <td>Adult</td>\n",
       "    </tr>\n",
       "    <tr>\n",
       "      <th>3</th>\n",
       "      <td>Ted</td>\n",
       "      <td>29</td>\n",
       "      <td>8</td>\n",
       "      <td>Adult</td>\n",
       "    </tr>\n",
       "    <tr>\n",
       "      <th>4</th>\n",
       "      <td>Barney</td>\n",
       "      <td>33</td>\n",
       "      <td>7</td>\n",
       "      <td>Adult</td>\n",
       "    </tr>\n",
       "    <tr>\n",
       "      <th>1</th>\n",
       "      <td>Jordan</td>\n",
       "      <td>35</td>\n",
       "      <td>5</td>\n",
       "      <td>Adult</td>\n",
       "    </tr>\n",
       "    <tr>\n",
       "      <th>7</th>\n",
       "      <td>Jess</td>\n",
       "      <td>25</td>\n",
       "      <td>2</td>\n",
       "      <td>Adult</td>\n",
       "    </tr>\n",
       "  </tbody>\n",
       "</table>\n",
       "</div>"
      ],
      "text/plain": [
       "     names ages  tenure age_group\n",
       "6  Rebecca   18       4  Teenager\n",
       "5    Tyler   20       6  Teenager\n",
       "2    Sandy   22       2     Adult\n",
       "0     Jess   25       5     Adult\n",
       "3      Ted   29       8     Adult\n",
       "4   Barney   33       7     Adult\n",
       "1   Jordan   35       5     Adult\n",
       "7     Jess   25       2     Adult"
      ]
     },
     "execution_count": 24,
     "metadata": {},
     "output_type": "execute_result"
    }
   ],
   "source": [
    "#adding a record to the bottom of the DataFrame\n",
    "df.loc[7] = [\"Jess\",25, 2, \"Adult\"] #add a record\n",
    "df.head(10)"
   ]
  },
  {
   "cell_type": "code",
   "execution_count": 26,
   "metadata": {},
   "outputs": [
    {
     "data": {
      "text/html": [
       "<div>\n",
       "<style scoped>\n",
       "    .dataframe tbody tr th:only-of-type {\n",
       "        vertical-align: middle;\n",
       "    }\n",
       "\n",
       "    .dataframe tbody tr th {\n",
       "        vertical-align: top;\n",
       "    }\n",
       "\n",
       "    .dataframe thead th {\n",
       "        text-align: right;\n",
       "    }\n",
       "</style>\n",
       "<table border=\"1\" class=\"dataframe\">\n",
       "  <thead>\n",
       "    <tr style=\"text-align: right;\">\n",
       "      <th></th>\n",
       "      <th>names</th>\n",
       "      <th>ages</th>\n",
       "      <th>tenure</th>\n",
       "      <th>age_group</th>\n",
       "    </tr>\n",
       "  </thead>\n",
       "  <tbody>\n",
       "    <tr>\n",
       "      <th>6</th>\n",
       "      <td>Rebecca</td>\n",
       "      <td>18</td>\n",
       "      <td>4</td>\n",
       "      <td>Teenager</td>\n",
       "    </tr>\n",
       "    <tr>\n",
       "      <th>5</th>\n",
       "      <td>Tyler</td>\n",
       "      <td>20</td>\n",
       "      <td>6</td>\n",
       "      <td>Teenager</td>\n",
       "    </tr>\n",
       "    <tr>\n",
       "      <th>2</th>\n",
       "      <td>Sandy</td>\n",
       "      <td>22</td>\n",
       "      <td>2</td>\n",
       "      <td>Adult</td>\n",
       "    </tr>\n",
       "    <tr>\n",
       "      <th>0</th>\n",
       "      <td>Jess</td>\n",
       "      <td>25</td>\n",
       "      <td>5</td>\n",
       "      <td>Adult</td>\n",
       "    </tr>\n",
       "    <tr>\n",
       "      <th>3</th>\n",
       "      <td>Ted</td>\n",
       "      <td>29</td>\n",
       "      <td>8</td>\n",
       "      <td>Adult</td>\n",
       "    </tr>\n",
       "    <tr>\n",
       "      <th>4</th>\n",
       "      <td>Barney</td>\n",
       "      <td>33</td>\n",
       "      <td>7</td>\n",
       "      <td>Adult</td>\n",
       "    </tr>\n",
       "    <tr>\n",
       "      <th>1</th>\n",
       "      <td>Jordan</td>\n",
       "      <td>35</td>\n",
       "      <td>5</td>\n",
       "      <td>Adult</td>\n",
       "    </tr>\n",
       "  </tbody>\n",
       "</table>\n",
       "</div>"
      ],
      "text/plain": [
       "     names ages  tenure age_group\n",
       "6  Rebecca   18       4  Teenager\n",
       "5    Tyler   20       6  Teenager\n",
       "2    Sandy   22       2     Adult\n",
       "0     Jess   25       5     Adult\n",
       "3      Ted   29       8     Adult\n",
       "4   Barney   33       7     Adult\n",
       "1   Jordan   35       5     Adult"
      ]
     },
     "execution_count": 26,
     "metadata": {},
     "output_type": "execute_result"
    }
   ],
   "source": [
    "#removing duplicates based on same names\n",
    "df = df.drop_duplicates(subset = \"names\")\n",
    "df.head(10)"
   ]
  },
  {
   "cell_type": "code",
   "execution_count": 27,
   "metadata": {},
   "outputs": [
    {
     "data": {
      "text/html": [
       "<div>\n",
       "<style scoped>\n",
       "    .dataframe tbody tr th:only-of-type {\n",
       "        vertical-align: middle;\n",
       "    }\n",
       "\n",
       "    .dataframe tbody tr th {\n",
       "        vertical-align: top;\n",
       "    }\n",
       "\n",
       "    .dataframe thead th {\n",
       "        text-align: right;\n",
       "    }\n",
       "</style>\n",
       "<table border=\"1\" class=\"dataframe\">\n",
       "  <thead>\n",
       "    <tr style=\"text-align: right;\">\n",
       "      <th></th>\n",
       "      <th>names</th>\n",
       "      <th>ratings</th>\n",
       "    </tr>\n",
       "  </thead>\n",
       "  <tbody>\n",
       "    <tr>\n",
       "      <th>0</th>\n",
       "      <td>Jess</td>\n",
       "      <td>10</td>\n",
       "    </tr>\n",
       "    <tr>\n",
       "      <th>1</th>\n",
       "      <td>Tyler</td>\n",
       "      <td>9</td>\n",
       "    </tr>\n",
       "    <tr>\n",
       "      <th>2</th>\n",
       "      <td>Ted</td>\n",
       "      <td>6</td>\n",
       "    </tr>\n",
       "  </tbody>\n",
       "</table>\n",
       "</div>"
      ],
      "text/plain": [
       "   names  ratings\n",
       "0   Jess       10\n",
       "1  Tyler        9\n",
       "2    Ted        6"
      ]
     },
     "execution_count": 27,
     "metadata": {},
     "output_type": "execute_result"
    }
   ],
   "source": [
    "#creating another fake DataFrame to work with, having same names and a new ratings colum\n",
    "ratings = {\"names\" : [\"Jess\", \"Tyler\", \"Ted\"],\n",
    "          \"ratings\" : [10, 9, 6]\n",
    "          }\n",
    "ratings = df.from_dict(ratings)\n",
    "ratings.head()"
   ]
  },
  {
   "cell_type": "code",
   "execution_count": 28,
   "metadata": {},
   "outputs": [
    {
     "data": {
      "text/html": [
       "<div>\n",
       "<style scoped>\n",
       "    .dataframe tbody tr th:only-of-type {\n",
       "        vertical-align: middle;\n",
       "    }\n",
       "\n",
       "    .dataframe tbody tr th {\n",
       "        vertical-align: top;\n",
       "    }\n",
       "\n",
       "    .dataframe thead th {\n",
       "        text-align: right;\n",
       "    }\n",
       "</style>\n",
       "<table border=\"1\" class=\"dataframe\">\n",
       "  <thead>\n",
       "    <tr style=\"text-align: right;\">\n",
       "      <th></th>\n",
       "      <th>names</th>\n",
       "      <th>ages</th>\n",
       "      <th>tenure</th>\n",
       "      <th>age_group</th>\n",
       "      <th>ratings</th>\n",
       "    </tr>\n",
       "  </thead>\n",
       "  <tbody>\n",
       "    <tr>\n",
       "      <th>0</th>\n",
       "      <td>Tyler</td>\n",
       "      <td>20</td>\n",
       "      <td>6</td>\n",
       "      <td>Teenager</td>\n",
       "      <td>9</td>\n",
       "    </tr>\n",
       "    <tr>\n",
       "      <th>1</th>\n",
       "      <td>Jess</td>\n",
       "      <td>25</td>\n",
       "      <td>5</td>\n",
       "      <td>Adult</td>\n",
       "      <td>10</td>\n",
       "    </tr>\n",
       "    <tr>\n",
       "      <th>2</th>\n",
       "      <td>Ted</td>\n",
       "      <td>29</td>\n",
       "      <td>8</td>\n",
       "      <td>Adult</td>\n",
       "      <td>6</td>\n",
       "    </tr>\n",
       "  </tbody>\n",
       "</table>\n",
       "</div>"
      ],
      "text/plain": [
       "   names ages  tenure age_group  ratings\n",
       "0  Tyler   20       6  Teenager        9\n",
       "1   Jess   25       5     Adult       10\n",
       "2    Ted   29       8     Adult        6"
      ]
     },
     "execution_count": 28,
     "metadata": {},
     "output_type": "execute_result"
    }
   ],
   "source": [
    "#performing an inner join with our df and ratings DataFrames based on names, get data that matches\n",
    "matched_ratings = df.merge(ratings, on=\"names\", how=\"inner\")\n",
    "matched_ratings.head()"
   ]
  },
  {
   "cell_type": "code",
   "execution_count": 29,
   "metadata": {},
   "outputs": [
    {
     "data": {
      "text/html": [
       "<div>\n",
       "<style scoped>\n",
       "    .dataframe tbody tr th:only-of-type {\n",
       "        vertical-align: middle;\n",
       "    }\n",
       "\n",
       "    .dataframe tbody tr th {\n",
       "        vertical-align: top;\n",
       "    }\n",
       "\n",
       "    .dataframe thead th {\n",
       "        text-align: right;\n",
       "    }\n",
       "</style>\n",
       "<table border=\"1\" class=\"dataframe\">\n",
       "  <thead>\n",
       "    <tr style=\"text-align: right;\">\n",
       "      <th></th>\n",
       "      <th>names</th>\n",
       "      <th>ages</th>\n",
       "      <th>tenure</th>\n",
       "      <th>age_group</th>\n",
       "      <th>ratings</th>\n",
       "    </tr>\n",
       "  </thead>\n",
       "  <tbody>\n",
       "    <tr>\n",
       "      <th>0</th>\n",
       "      <td>Rebecca</td>\n",
       "      <td>18</td>\n",
       "      <td>4</td>\n",
       "      <td>Teenager</td>\n",
       "      <td>NaN</td>\n",
       "    </tr>\n",
       "    <tr>\n",
       "      <th>1</th>\n",
       "      <td>Tyler</td>\n",
       "      <td>20</td>\n",
       "      <td>6</td>\n",
       "      <td>Teenager</td>\n",
       "      <td>9.0</td>\n",
       "    </tr>\n",
       "    <tr>\n",
       "      <th>2</th>\n",
       "      <td>Sandy</td>\n",
       "      <td>22</td>\n",
       "      <td>2</td>\n",
       "      <td>Adult</td>\n",
       "      <td>NaN</td>\n",
       "    </tr>\n",
       "    <tr>\n",
       "      <th>3</th>\n",
       "      <td>Jess</td>\n",
       "      <td>25</td>\n",
       "      <td>5</td>\n",
       "      <td>Adult</td>\n",
       "      <td>10.0</td>\n",
       "    </tr>\n",
       "    <tr>\n",
       "      <th>4</th>\n",
       "      <td>Ted</td>\n",
       "      <td>29</td>\n",
       "      <td>8</td>\n",
       "      <td>Adult</td>\n",
       "      <td>6.0</td>\n",
       "    </tr>\n",
       "  </tbody>\n",
       "</table>\n",
       "</div>"
      ],
      "text/plain": [
       "     names ages  tenure age_group  ratings\n",
       "0  Rebecca   18       4  Teenager      NaN\n",
       "1    Tyler   20       6  Teenager      9.0\n",
       "2    Sandy   22       2     Adult      NaN\n",
       "3     Jess   25       5     Adult     10.0\n",
       "4      Ted   29       8     Adult      6.0"
      ]
     },
     "execution_count": 29,
     "metadata": {},
     "output_type": "execute_result"
    }
   ],
   "source": [
    "#performing an outer join with our df and ratings DataFrames based on names, get all data\n",
    "all_ratings = df.merge(ratings, on = 'names', how = \"outer\")\n",
    "all_ratings.head()"
   ]
  },
  {
   "cell_type": "markdown",
   "metadata": {},
   "source": [
    "Tuesday Exercises"
   ]
  },
  {
   "cell_type": "code",
   "execution_count": 31,
   "metadata": {},
   "outputs": [
    {
     "data": {
      "text/html": [
       "<div>\n",
       "<style scoped>\n",
       "    .dataframe tbody tr th:only-of-type {\n",
       "        vertical-align: middle;\n",
       "    }\n",
       "\n",
       "    .dataframe tbody tr th {\n",
       "        vertical-align: top;\n",
       "    }\n",
       "\n",
       "    .dataframe thead th {\n",
       "        text-align: right;\n",
       "    }\n",
       "</style>\n",
       "<table border=\"1\" class=\"dataframe\">\n",
       "  <thead>\n",
       "    <tr style=\"text-align: right;\">\n",
       "      <th></th>\n",
       "      <th>Unnamed: 0</th>\n",
       "      <th>date</th>\n",
       "      <th>target</th>\n",
       "      <th>insult</th>\n",
       "      <th>tweet</th>\n",
       "    </tr>\n",
       "  </thead>\n",
       "  <tbody>\n",
       "    <tr>\n",
       "      <th>0</th>\n",
       "      <td>1</td>\n",
       "      <td>2014-10-09</td>\n",
       "      <td>thomas-frieden</td>\n",
       "      <td>fool</td>\n",
       "      <td>Can you believe this fool, Dr. Thomas Frieden ...</td>\n",
       "    </tr>\n",
       "    <tr>\n",
       "      <th>1</th>\n",
       "      <td>2</td>\n",
       "      <td>2014-10-09</td>\n",
       "      <td>thomas-frieden</td>\n",
       "      <td>DOPE</td>\n",
       "      <td>Can you believe this fool, Dr. Thomas Frieden ...</td>\n",
       "    </tr>\n",
       "    <tr>\n",
       "      <th>2</th>\n",
       "      <td>3</td>\n",
       "      <td>2015-06-16</td>\n",
       "      <td>politicians</td>\n",
       "      <td>all talk and no action</td>\n",
       "      <td>Big time in U.S. today - MAKE AMERICA GREAT AG...</td>\n",
       "    </tr>\n",
       "    <tr>\n",
       "      <th>3</th>\n",
       "      <td>4</td>\n",
       "      <td>2015-06-24</td>\n",
       "      <td>ben-cardin</td>\n",
       "      <td>It's politicians like Cardin that have destroy...</td>\n",
       "      <td>Politician @SenatorCardin didn't like that I s...</td>\n",
       "    </tr>\n",
       "    <tr>\n",
       "      <th>4</th>\n",
       "      <td>5</td>\n",
       "      <td>2015-06-24</td>\n",
       "      <td>neil-young</td>\n",
       "      <td>total hypocrite</td>\n",
       "      <td>For the nonbeliever, here is a photo of @Neily...</td>\n",
       "    </tr>\n",
       "  </tbody>\n",
       "</table>\n",
       "</div>"
      ],
      "text/plain": [
       "   Unnamed: 0        date          target  \\\n",
       "0           1  2014-10-09  thomas-frieden   \n",
       "1           2  2014-10-09  thomas-frieden   \n",
       "2           3  2015-06-16     politicians   \n",
       "3           4  2015-06-24      ben-cardin   \n",
       "4           5  2015-06-24      neil-young   \n",
       "\n",
       "                                              insult  \\\n",
       "0                                               fool   \n",
       "1                                               DOPE   \n",
       "2                             all talk and no action   \n",
       "3  It's politicians like Cardin that have destroy...   \n",
       "4                                    total hypocrite   \n",
       "\n",
       "                                               tweet  \n",
       "0  Can you believe this fool, Dr. Thomas Frieden ...  \n",
       "1  Can you believe this fool, Dr. Thomas Frieden ...  \n",
       "2  Big time in U.S. today - MAKE AMERICA GREAT AG...  \n",
       "3  Politician @SenatorCardin didn't like that I s...  \n",
       "4  For the nonbeliever, here is a photo of @Neily...  "
      ]
     },
     "execution_count": 31,
     "metadata": {},
     "output_type": "execute_result"
    }
   ],
   "source": [
    "#1 Loading a Dataset\n",
    "\n",
    "import pandas as pd\n",
    "\n",
    "Trump = pd.read_csv('trump_insult_tweets_2014_to_2021.csv')\n",
    "\n",
    "Trump.head(5)\n",
    "    "
   ]
  },
  {
   "cell_type": "code",
   "execution_count": 34,
   "metadata": {},
   "outputs": [
    {
     "name": "stdout",
     "output_type": "stream",
     "text": [
      "10360\n",
      "<class 'pandas.core.series.Series'> <class 'pandas.core.series.Series'> <class 'pandas.core.series.Series'> <class 'pandas.core.series.Series'>\n"
     ]
    }
   ],
   "source": [
    "#2 Dataset Analysis\n",
    "\n",
    "import pandas as pd\n",
    "\n",
    "Trump = pd.read_csv('trump_insult_tweets_2014_to_2021.csv')\n",
    "\n",
    "print(len(Trump))\n",
    "\n",
    "print(type(Trump[\"date\"]), type(Trump[\"target\"]), type(Trump[\"insult\"]), type(Trump[\"tweet\"]))\n",
    "\n"
   ]
  },
  {
   "cell_type": "markdown",
   "metadata": {},
   "source": [
    "Matplotlib"
   ]
  },
  {
   "cell_type": "code",
   "execution_count": 2,
   "metadata": {},
   "outputs": [],
   "source": [
    "#importing the matplotlib library \n",
    "from matplotlib import pyplot as plt #industry standard name of plt when importing"
   ]
  },
  {
   "cell_type": "code",
   "execution_count": 4,
   "metadata": {},
   "outputs": [
    {
     "data": {
      "image/png": "[encoded data removed]",
      "text/plain": [
       "<Figure size 432x288 with 1 Axes>"
      ]
     },
     "metadata": {
      "needs_background": "light"
     },
     "output_type": "display_data"
    }
   ],
   "source": [
    "#creating a line plot using x and y coords\n",
    "x, y = [1600, 1700, 1800, 1900, 2000], [0.2, 0.5, 1.1, 2.2, 7.7]\n",
    "plt.plot(x,y) #creates the line\n",
    "plt.title(\"World Population Over Time\")\n",
    "plt.xlabel(\"Year\")\n",
    "plt.ylabel(\"Population (billions)\")\n",
    "plt.show()"
   ]
  },
  {
   "cell_type": "code",
   "execution_count": 5,
   "metadata": {},
   "outputs": [
    {
     "data": {
      "image/png": "[encoded data removed]",
      "text/plain": [
       "<Figure size 432x288 with 1 Axes>"
      ]
     },
     "metadata": {
      "needs_background": "light"
     },
     "output_type": "display_data"
    }
   ],
   "source": [
    "#creating a line plot with multiple lines\n",
    "x1, y1 = [1600, 1700, 1800, 1900, 2000], [0.2, 0.5, 1.1, 2.2, 7.7]\n",
    "x2, y2 = [1600,1700,1800,1900,2000], [1,1,2,3,4]\n",
    "\n",
    "plt.plot(x1,y1, \"rx-\", label = \"Actual\") #create a red solid line with x dots\n",
    "plt.plot(x2,y2, \"bo--\", label = \"Fake\") #create a blue dashed line with circle dots\n",
    "\n",
    "plt.title(\"World Population Over Time\")\n",
    "plt.xlabel(\"Year\")\n",
    "plt.ylabel(\"Population (billions)\")\n",
    "plt.legend() #show labels in best corner\n",
    "plt.show()\n"
   ]
  },
  {
   "cell_type": "code",
   "execution_count": 7,
   "metadata": {},
   "outputs": [
    {
     "data": {
      "image/png": "[encoded data removed]",
      "text/plain": [
       "<Figure size 432x288 with 1 Axes>"
      ]
     },
     "metadata": {
      "needs_background": "light"
     },
     "output_type": "display_data"
    }
   ],
   "source": [
    "#creating a bar plot using x and y coords\n",
    "\n",
    "num_people, categories = [4,8,3,6,2], [\"Comedy\", \"Action\", \"Thriller\", \"Romance\", \"Horror\"]\n",
    "\n",
    "plt.bar(categories, num_people)\n",
    "\n",
    "plt.title(\"Favorite Movie Category\", fontsize = 24)\n",
    "plt.xlabel(\"Category\", fontsize = 16)\n",
    "plt.ylabel(\"# of People\", fontsize = 16)\n",
    "plt.xticks(fontname = \"Fantasy\")\n",
    "plt.yticks(fontname = \"Fantasy\")\n",
    "plt.show()"
   ]
  },
  {
   "cell_type": "code",
   "execution_count": 11,
   "metadata": {},
   "outputs": [
    {
     "data": {
      "image/png": "[encoded data removed]",
      "text/plain": [
       "<Figure size 1080x576 with 1 Axes>"
      ]
     },
     "metadata": {
      "needs_background": "light"
     },
     "output_type": "display_data"
    }
   ],
   "source": [
    "#creating a box plot - showing height data for male-female\n",
    "\n",
    "males, females = [72,68,65,77,73,71,69], [60,65,68,61,63,64]\n",
    "heights = [males, females]\n",
    "\n",
    "plt.figure(figsize=(15,8)) #makes chart bigger\n",
    "plt.boxplot(heights) #takes in list of data, each box is its' own array, heights contains two lists\n",
    "\n",
    "plt.xticks([1,2], [\"Male\", \"Female\"]) #sets number of ticks and labels on x-axis\n",
    "plt.title(\"Height by Gender\", fontsize = 22)\n",
    "plt.ylabel(\"Height(inches)\", fontsize = 14)\n",
    "plt.xlabel(\"Gender\", fontsize = 14)\n",
    "plt.show()"
   ]
  },
  {
   "cell_type": "code",
   "execution_count": 16,
   "metadata": {},
   "outputs": [
    {
     "data": {
      "image/png": "[encoded data removed]",
      "text/plain": [
       "<Figure size 432x288 with 1 Axes>"
      ]
     },
     "metadata": {
      "needs_background": "light"
     },
     "output_type": "display_data"
    }
   ],
   "source": [
    "##creating a scatter plot to represent height-weight distributino\n",
    "import random\n",
    "random.seed(2)\n",
    "\n",
    "height = [randint(58,78) for x in range(20)] #20 records between 4'10\" and 6'6\"\n",
    "weight = [randint(90,250) for x in range(20)] #20 records between 90lbs. and 250lbs.\n",
    "\n",
    "plt.scatter(weight, height)\n",
    "\n",
    "plt.title(\"Height-Weight Distribution\")\n",
    "plt.xlabel(\"Weight (lbs)\")\n",
    "plt.ylabel(\"Height (inches)\")\n",
    "\n",
    "plt.show()"
   ]
  },
  {
   "cell_type": "code",
   "execution_count": 18,
   "metadata": {},
   "outputs": [
    {
     "data": {
      "image/png": "[encoded data removed]",
      "text/plain": [
       "<Figure size 432x288 with 1 Axes>"
      ]
     },
     "metadata": {
      "needs_background": "light"
     },
     "output_type": "display_data"
    }
   ],
   "source": [
    "#creating a histogram to show age data for a fake population\n",
    "import numpy as np #import the numpy module to generate data\n",
    "np.random.seed(5)\n",
    "\n",
    "ages= [np.random.normal(loc=40, scale = 10) for x in range(1000)] #ages distributes around 40\n",
    "\n",
    "plt.hist(ages, bins = 45) #bins is the number of bars\n",
    "\n",
    "plt.title(\"Ages per Population\")\n",
    "plt.xlabel(\"Age\")\n",
    "plt.ylabel(\"# of People\")\n",
    "plt.show()\n"
   ]
  },
  {
   "cell_type": "code",
   "execution_count": 19,
   "metadata": {},
   "outputs": [
    {
     "data": {
      "image/png": "[encoded data removed]",
      "text/plain": [
       "<Figure size 432x288 with 1 Axes>"
      ]
     },
     "metadata": {
      "needs_background": "light"
     },
     "output_type": "display_data"
    },
    {
     "data": {
      "image/png": "[encoded data removed]",
      "text/plain": [
       "<Figure size 432x288 with 1 Axes>"
      ]
     },
     "metadata": {
      "needs_background": "light"
     },
     "output_type": "display_data"
    },
    {
     "data": {
      "image/png": "[encoded data removed]",
      "text/plain": [
       "<Figure size 432x288 with 1 Axes>"
      ]
     },
     "metadata": {
      "needs_background": "light"
     },
     "output_type": "display_data"
    }
   ],
   "source": [
    "#showing the importance of histogram's display central distribution\n",
    "florida = [np.random.normal(loc = 60, scale = 15) for x in range(1000)] #assume numpy is imported\n",
    "california = [np.random.normal(loc=35, scale = 5) for x in range(1000)] \n",
    "\n",
    "#chart 1\n",
    "plt.hist(florida, bins = 45, color = \"r\", alpha = 0.4) #alpha is opacity, making it see through\n",
    "plt.show()\n",
    "\n",
    "#chart 2\n",
    "plt.hist(california, bins =45, color =\"b\", alpha =0.4) #alpha is opacity, making it see through\n",
    "plt.show()\n",
    "\n",
    "#chart 3\n",
    "plt.hist(florida, bins = 45, color = \"r\", alpha = 0.4) #alpha is opacity, making it see through\n",
    "plt.hist(california, bins = 45, color = \"b\", alpha = 0.4) #alpha is opacity, making it see through\n",
    "plt.show()"
   ]
  },
  {
   "cell_type": "code",
   "execution_count": 20,
   "metadata": {},
   "outputs": [
    {
     "data": {
      "image/png": "[encoded data removed]",
      "text/plain": [
       "<Figure size 432x288 with 1 Axes>"
      ]
     },
     "metadata": {
      "needs_background": "light"
     },
     "output_type": "display_data"
    }
   ],
   "source": [
    "#using savefig method to save the chart as a jpg to the local folder\n",
    "x, y = [1600, 1700, 1800, 1900, 2000], [0.2, 0.5, 1.1, 2.2, 7.7]\n",
    "\n",
    "plt.plot(x,y,\"bo-\") #creates a blue solid line with circle dots\n",
    "\n",
    "plt.title(\"World Population Over Time\")\n",
    "plt.xlabel(\"Year\")\n",
    "plt.ylabel(\"Population (billions)\")\n",
    "\n",
    "plt.savefig(\"population.jpg\")"
   ]
  },
  {
   "cell_type": "code",
   "execution_count": 21,
   "metadata": {},
   "outputs": [
    {
     "data": {
      "image/png": "[encoded data removed]",
      "text/plain": [
       "<Figure size 432x288 with 2 Axes>"
      ]
     },
     "metadata": {
      "needs_background": "light"
     },
     "output_type": "display_data"
    }
   ],
   "source": [
    "#creating a scatter plot to represent height-weight distribution\n",
    "import random\n",
    "random.seed(2)\n",
    "\n",
    "height = [randint(58,78) for x in range(20)]\n",
    "weight = [randint(90,250) for x in range(20)]\n",
    "age = [randint(18,65) for x in range(20)] #20 records between 18 and 65 years old\n",
    "\n",
    "plt.scatter(weight, height, c=age) #sets the age list to be shown by color\n",
    "\n",
    "plt.title(\"Height-Weight Distribution\")\n",
    "plt.xlabel(\"Weight (lbs)\")\n",
    "plt.ylabel(\"Height (inches)\")\n",
    "plt.colorbar(label = \"Age\") #adds color bar to right side\n",
    "\n",
    "plt.show()"
   ]
  },
  {
   "cell_type": "markdown",
   "metadata": {},
   "source": [
    "Wednesday Exercises"
   ]
  },
  {
   "cell_type": "code",
   "execution_count": 28,
   "metadata": {},
   "outputs": [
    {
     "data": {
      "image/png": "[encoded data removed]",
      "text/plain": [
       "<Figure size 432x288 with 1 Axes>"
      ]
     },
     "metadata": {
      "needs_background": "light"
     },
     "output_type": "display_data"
    }
   ],
   "source": [
    "#1 Three Line Plot\n",
    "import matplotlib, random\n",
    "\n",
    "x1, y1 = [randint (1,10) for x in range(20)], [x for x in range(20)]\n",
    "x2, y2 = [randint (1,10) for x in range(20)], [x for x in range(20)]\n",
    "x3, y3 = [randint (1,10) for x in range(20)], [x for x in range(20)]\n",
    "\n",
    "plt.plot(x1,y1,\"rx-\", label = \"Hello\")\n",
    "plt.plot(x2,y2,\"bo--\", label = \"World\")\n",
    "plt.plot(x3,y3,\"rx--\", label = \"Bye\")\n",
    "\n",
    "plt.title(\"Exercise 1\")\n",
    "plt.xlabel(\"Name\")\n",
    "plt.ylabel(\"Number\")\n",
    "\n",
    "plt.show()"
   ]
  },
  {
   "cell_type": "code",
   "execution_count": 32,
   "metadata": {},
   "outputs": [
    {
     "name": "stdout",
     "output_type": "stream",
     "text": [
      "What would you rate this movie (1-5)? 5\n",
      "Is there another user that would like to review (y/n)? 2\n",
      "What would you rate this movie (1-5)? 3\n",
      "Is there another user that would like to review (y/n)? 1\n",
      "What would you rate this movie (1-5)? 34\n",
      "Is there another user that would like to review (y/n)? 23\n",
      "What would you rate this movie (1-5)? 4512\n",
      "Is there another user that would like to review (y/n)? 34\n",
      "What would you rate this movie (1-5)? n\n",
      "Is there another user that would like to review (y/n)? n\n"
     ]
    },
    {
     "data": {
      "image/png": "[encoded data removed]",
      "text/plain": [
       "<Figure size 432x288 with 1 Axes>"
      ]
     },
     "metadata": {
      "needs_background": "light"
     },
     "output_type": "display_data"
    }
   ],
   "source": [
    "#2 User Information\n",
    "from matplotlib import pyplot as plt\n",
    "\n",
    "def Program():\n",
    "    credit_data = []\n",
    "    credit_user = []\n",
    "    ans = True\n",
    "    i = 0\n",
    "    while ans:\n",
    "        credit = input(\"What would you rate this movie (1-5)? \")\n",
    "        credit_user.append(i)\n",
    "        credit_data.append(credit)\n",
    "        i += 1\n",
    "        check = input(\"Is there another user that would like to review (y/n)? \").lower()\n",
    "        if check == \"y\":\n",
    "            continue\n",
    "        elif check == \"n\":\n",
    "            ans = False\n",
    "    \n",
    "    plt.bar(credit_user,credit_data)\n",
    "    \n",
    "Program()\n",
    "        "
   ]
  },
  {
   "cell_type": "markdown",
   "metadata": {},
   "source": [
    "Web Scraping"
   ]
  },
  {
   "cell_type": "code",
   "execution_count": 1,
   "metadata": {},
   "outputs": [],
   "source": [
    "#importing the beautiful soup and requests library\n",
    "from bs4 import BeautifulSoup\n",
    "import requests"
   ]
  },
  {
   "cell_type": "code",
   "execution_count": 2,
   "metadata": {},
   "outputs": [
    {
     "name": "stdout",
     "output_type": "stream",
     "text": [
      "<Response [200]>\n"
     ]
    }
   ],
   "source": [
    "#performing a request and outputting the status code\n",
    "page = requests.get(\"http://www.arthurleej.com/e-love.html\")\n",
    "print(page)"
   ]
  },
  {
   "cell_type": "code",
   "execution_count": 3,
   "metadata": {},
   "outputs": [
    {
     "name": "stdout",
     "output_type": "stream",
     "text": [
      "b'<!DOCTYPE HTML PUBLIC \"-//W3C//DTD HTML 3.2 Final//EN\">\\r<html>\\r<head>\\r\\t<title>Essay on Love by Arthur Lee Jacobson</title>\\r<meta name=\"description\" content=\"Trees,gardening, wild and domestic plant life are the specialty of author Arthur Lee Jacobson.\">\\r<meta name=\"keywords\" content=\"trees, gardening, wild plants, domestic plants, gardening author, gardening books, Arthur Lee Jacobson, A L J, A L Jacobson, Arthur Jacobson, arthur lee, plants, flowers, seattle, washington\">\\r<meta name=\"resource-type\" content=\"document\">\\r<meta name=\"generator\" content=\"BBEdit 4.5\">\\r<meta name=\"robots\" content=\"all\">\\r<meta name=\"classification\" content=\"Gardening\">\\r<meta name=\"distribution\" content=\"global\">\\r<meta name=\"rating\" content=\"general\">\\r<meta name=\"copyright\" content=\"2001 Arthur Lee Jacobson\">\\r<meta name=\"author\" content=\"eriktyme@eriktyme.com\">\\r<meta name=\"language\" content=\"en-us\">\\r</head>\\r<body background=\"images/background1a.jpg\" bgcolor=\"#FFFFCC\" text=\"#000000\" link=\"#0000FF\" alink=\"#33CC33\" vlink=\"#FF00FF\">\\r<! -- #include virtual=\"/includes/header.html\" -- >\\r<br><center><table border=\"0\" cellspacing=\"2\" cellpadding=\"1\">\\r\\t<tr>\\r\\t\\t<td width=\"480\" align=\"center\" valign=\"top\">\\r<table border=\"0\" cellspacing=\"2\" cellpadding=\"1\">\\r\\t<tr>\\r\\t\\t<td width=\"480\" align=\"center\" valign=\"top\"><font size=\"5\"><b>Love</b></font></td>\\r\\t</tr>\\r\\t<tr>\\r\\t\\t<td width=\"480\" align=\"left\" valign=\"top\"><font size=\"3\"><b>&nbsp;&nbsp;&nbsp;&nbsp;Of the fourteen essays I\\'m writing, only this one treats an emotion. That love is the most important emotion is the deduction. I think other emotions may be as important, but are not so powerfully moving or interesting to most of us. Love is exciting. There is no need to justify choosing to write about it. Are not most songs love songs? Are not most novels stories featuring love?</b></font></td>\\r\\t</tr>\\r\\t<tr>\\r\\t\\t<td width=\"480\" align=\"left\" valign=\"top\"><font size=\"3\"><b>&nbsp;&nbsp;&nbsp;&nbsp;Love in its broad sense is the feeling of strong attraction, and often attachment and protection. It is felt towards other people, towards pets, towards inanimate objects, towards abstractions such as patriotism, religious matters, hobbies, and I suppose nearly everything. It is multifaceted, and includes ordinary self-love, chivalrous love, carnal or sexual love, friendly love, family love. It is an emotion that is closely related to certain others, such as hope. At its simplest level it is what we strongly like.</b></font></td>\\r\\t</tr>\\r\\t<tr>\\r\\t\\t<td width=\"480\" align=\"left\" valign=\"top\"><font size=\"3\"><b>&nbsp;&nbsp;&nbsp;&nbsp;I have a hunch that love, like the rose, owes much of its appeal to our mainstream Western culture -- and that in some other societies it is by no means such a big deal. Somehow, especially in recent centuries, the notion of romantic love has become elevated far more than it used to be. Why this has happened is for social historians to explain; I don\\'t know. I will merely say that if one reads the ancient Greeks and Romans, then it is obvious that today love is relatively more significant in our culture. A plethora of differences exist between us and people 2,000 years ago. That doesn\\'t invalidate my observation that we moderns rate love more importantly now than our ancestors used to.</b></font></td>\\r\\t</tr>\\r\\t<tr>\\r\\t\\t<td width=\"480\" align=\"left\" valign=\"top\"><font size=\"3\"><b>&nbsp;&nbsp;&nbsp;&nbsp;It is presumed that sexual attraction, being instinctive, is comparatively constant over the centuries and across cultures. But let\\'s be clear: sexual attraction is only one manifestation of love. One can be sexually aroused and still feel no love, just as a couple can be married and possess no mutual sexual appetite or love. Some people find they can fulfill sexual needs one way, and they love something else, such as a hobby or their work.</b></font></td>\\r\\t</tr>\\r\\t<tr>\\r\\t\\t<td width=\"480\" align=\"left\" valign=\"top\"><font size=\"3\"><b>&nbsp;&nbsp;&nbsp;&nbsp;When sexual desire, or go ahead and call it sexual need, is very strong, it certainly gets called love. To be precise it may be best termed carnal love. Similarly, a glutton loves food, and an addict perversely loves whatever drug or activity he\\'s hooked on. Sexual love, then, is not necessarily anything more than an equivalent of an animal being in heat. On the other hand, if two people share a wholehearted, broad-based love for each other, then their sexual relations may be more an expression of their affection than of their instinctive drive.</b></font></td>\\r\\t</tr>\\r\\t<tr>\\r\\t\\t<td width=\"480\" align=\"left\" valign=\"top\"><font size=\"3\"><b>&nbsp;&nbsp;&nbsp;&nbsp;Yes, love and sex are too much confused. It is frightful how many beastly rapes and molestations take place, which are sexual but devoid of love completely. Love can be found thriving far from sex, as in a mother\\'s love for her child, or a religious order\\'s mystical love of doing glory to God, or of the knight\\'s chivalrous love towards his country and rulers. The soldier\\'s courage to defend his family is a kind of love in action. The artist who starves in an attic, living a celibate existence to produce masterpieces, is illuminated by love. Childhood friends who go through life together know love, though not sex, as regards each other. Have I made my point obvious?</b></font></td>\\r\\t</tr>\\r\\t<tr>\\r\\t\\t<td width=\"480\" align=\"left\" valign=\"top\"><font size=\"3\"><b>&nbsp;&nbsp;&nbsp;&nbsp;It is, I\\'m sure. But I\\'m on a roll and don\\'t want to stop yet. Love\\'s antithesis is hate. Hate is often associated with harm or destruction, even death. But again, it is not <i>equal</i> to those. It is strongly held negative emotions, even as love is strongly held positive ones.</b><br><br></font></td>\\r\\t</tr>\\r\\t<tr>\\r\\t\\t<td width=\"480\" align=\"left\" valign=\"top\"><font size=\"3\"><b>&nbsp;&nbsp;&nbsp;&nbsp;The golden rule, &quot;Love thy neighbor as thyself,&quot; or &quot;do unto others as you would have them do unto you,&quot; helps us see that if we want people to enjoy peaceful, content existence, we must work together cooperatively, and not let our passions, of either love or hate, get us out of line.</b></font></td>\\r\\t</tr>\\r\\t<tr>\\r\\t\\t<td width=\"480\" align=\"left\" valign=\"top\"><font size=\"3\"><b>&nbsp;&nbsp;&nbsp;&nbsp;One thing I\\'m sure of, is the world would be a better place if all of us individuals had someone or something we loved. I feel sorry for people who are neutral about this, indifferent regarding that, and don\\'t know what really turns them on. I almost wish there was a law against having no love in one\\'s life. Well, that kind of thinking is too extreme. Is it possible, without love, to be healthy in a mental sense? To be balanced? Can an individual\\'s self-esteem be proper without love? It is certainly possible for a person to be <i>temporarily</i> devoid of love. For example, pick up a random individual, transport him across the planet, and set him into a strange culture, where he knows no one, he knows not a word of the language. He will be in shock, and will love no one, and probably his only love then would be of longing for his familiar life. Temporarily, his shock, his sadness, and his bewilderment will be more powerful feelings than any love he feels.</b></font></td>\\r\\t</tr>\\r\\t<tr>\\r\\t\\t<td width=\"480\" align=\"left\" valign=\"top\"><font size=\"3\"><b>&nbsp;&nbsp;&nbsp;&nbsp;Since love can be felt in so many different ways, it is a good thing our culture allows people freedom to choose. All the more wondrous that some of us seem to love nothing! What explains this? Are children who were in dysfunctional, abusive situations forced to retreat as it were into a shell, to be calloused against freely opening themselves to the flow of their emotions? Are certain people born with chemical imbalances in their brains which make it impossible for them to feel love? Are some people so prone to liking numerous things that they tend to not strongly like (<i>i.e.,</i> love) any one thing in particular?</b></font></td>\\r\\t</tr>\\r\\t<tr>\\r\\t\\t<td width=\"480\" align=\"left\" valign=\"top\"><font size=\"3\"><b>&nbsp;&nbsp;&nbsp;&nbsp;To love is to express oneself. Usually one\\'s love is obviously manifested. It may be that even as some of us are generally shy and inhibited, some of us are poorer at loving. Doubtless there are complex, peculiar combinations of factors operating in every individual case. And most of our general rules or commonplace assumptions are based on behavior prevalent in our <i>culture.</i></b></font></td>\\r\\t</tr>\\r\\t<tr>\\r\\t\\t<td width=\"480\" align=\"left\" valign=\"top\"><font size=\"3\"><b>&nbsp;&nbsp;&nbsp;&nbsp;The chief motivating factor in many of our lives is love. People go to extraordinary lengths and costs to find love, or to give it, to keep it, to hope for it. In some cultures, such as primitive stone-age ones, I\\'m sure that basic food gathering and survival work is more dominating than any interpretation of love other than love of continuing to <i>live.</i></b></font></td>\\r\\t</tr>\\r\\t<tr>\\r\\t\\t<td width=\"480\" align=\"left\" valign=\"top\"><font size=\"3\"><b>&nbsp;&nbsp;&nbsp;&nbsp;In my life, I prefer to give my time to being with people I love, rather than being paid to spend time working for people whom I don\\'t love. Similarly, I would rather remain single and wait until I can marry a woman with whom I can share profound love, than cohabit with a woman about who I am indifferent. It is often said &quot;what really counts is that a person does what he or she loves.&quot; Yet how many of us <i>really</i> do? How many of us <i>would</i> keep doing our jobs if we didn\\'t need the money? Few of us. Even if I was suddenly rich financially, I\\'d still do most of what I do now; I\\'d not fundamentally change.</b></font></td>\\r\\t</tr>\\r\\t<tr>\\r\\t\\t<td width=\"480\" align=\"left\" valign=\"top\"><font size=\"3\"><b>&nbsp;&nbsp;&nbsp;&nbsp;No, money won\\'t alter me much. Love may. If I decide to marry a woman, and she is eager also, I would stop merely doing whatever I please, and start giving my attention equally to pleasing her. Ideally we\\'d work very well together. But times would occur when we\\'d disagree, so I\\'d yield whenever I possibly could, out of my love and respect, and concern for our marriage.</b></font></td>\\r\\t</tr>\\r\\t<tr>\\r\\t\\t<td width=\"480\" align=\"left\" valign=\"top\"><font size=\"3\"><b>&nbsp;&nbsp;&nbsp;&nbsp;The love that motivates people to give freely their very lives is greatly inspiring. If martyrs didn\\'t have love propelling them, then they at any rate had <i>strong</i> emotions. Sometimes I dream about hypothetical situations that test my love. For example, if the woman I think the very world of, asked me to give up my Seattle existence, to live with her 1,000 miles away -- would I do it? Maybe. If I figured there was good odds of living happily ever after, I might. But such questions are answered not just by deliberation, they\\'re affected by emotion. Love can blind us to logic, reason and common sense. I love so many things about my life in Seattle, and there are so many eligible women here  -- that the chance of me heading out of town, loveblind, is remote. But that I <i>think</i> about such things, shows I am moved mightily by love.</b></font></td>\\r\\t</tr>\\r\\t<tr>\\r\\t\\t<td width=\"480\" align=\"left\" valign=\"top\"><font size=\"3\"><b>&nbsp;&nbsp;&nbsp;&nbsp;I am so glad to love my work, to love my family and friends, to love my city, and to love nature. Yes, I want to also love a woman who loves me. That will come. So far it has alway been one-way rather than mutual. I\\'m particular, patient, and confident. It\\'s sort of a &quot;patting oneself on the back&quot; to say it, but I wish more people would show restraint about forming intimate relationships of the sort that are called marriages. Too many young folks hurry into such arrangements, and all too soon failure comes about. People think it\\'s easier than it really is. Loving is often easy, but the long-term nurturing and sustaining of the love is work. I develop this theme more in my essay FAMILY.</b></font></td>\\r\\t</tr>\\r\\t<tr>\\r\\r</table>\\r\\r</td>\\r\\t\\t<td width=\"125\" align=\"center\" valign=\"top\"><br><br><br><! -- #include virtual=\"/includes/panel1.html\" -- >\\r</td>\\r\\t</tr>\\r</table></center>\\r<! -- #include virtual=\"/includes/footer.html\" -- >\\r\\r</body>\\r</html>\\r'\n"
     ]
    }
   ],
   "source": [
    "#outputting the request response content\n",
    "print(page.content)"
   ]
  },
  {
   "cell_type": "code",
   "execution_count": 4,
   "metadata": {},
   "outputs": [
    {
     "name": "stdout",
     "output_type": "stream",
     "text": [
      "<!DOCTYPE HTML PUBLIC \"-//W3C//DTD HTML 3.2 Final//EN\">\n",
      "<html>\n",
      " <head>\n",
      "  <title>\n",
      "   Essay on Love by Arthur Lee Jacobson\n",
      "  </title>\n",
      "  <meta content=\"Trees,gardening, wild and domestic plant life are the specialty of author Arthur Lee Jacobson.\" name=\"description\"/>\n",
      "  <meta content=\"trees, gardening, wild plants, domestic plants, gardening author, gardening books, Arthur Lee Jacobson, A L J, A L Jacobson, Arthur Jacobson, arthur lee, plants, flowers, seattle, washington\" name=\"keywords\"/>\n",
      "  <meta content=\"document\" name=\"resource-type\"/>\n",
      "  <meta content=\"BBEdit 4.5\" name=\"generator\"/>\n",
      "  <meta content=\"all\" name=\"robots\"/>\n",
      "  <meta content=\"Gardening\" name=\"classification\"/>\n",
      "  <meta content=\"global\" name=\"distribution\"/>\n",
      "  <meta content=\"general\" name=\"rating\"/>\n",
      "  <meta content=\"2001 Arthur Lee Jacobson\" name=\"copyright\"/>\n",
      "  <meta content=\"eriktyme@eriktyme.com\" name=\"author\"/>\n",
      "  <meta content=\"en-us\" name=\"language\"/>\n",
      " </head>\n",
      " <body alink=\"#33CC33\" background=\"images/background1a.jpg\" bgcolor=\"#FFFFCC\" link=\"#0000FF\" text=\"#000000\" vlink=\"#FF00FF\">\n",
      "  <!-- -- #include virtual=\"/includes/header.html\" -- -->\n",
      "  <br/>\n",
      "  <center>\n",
      "   <table border=\"0\" cellpadding=\"1\" cellspacing=\"2\">\n",
      "    <tr>\n",
      "     <td align=\"center\" valign=\"top\" width=\"480\">\n",
      "      <table border=\"0\" cellpadding=\"1\" cellspacing=\"2\">\n",
      "       <tr>\n",
      "        <td align=\"center\" valign=\"top\" width=\"480\">\n",
      "         <font size=\"5\">\n",
      "          <b>\n",
      "           Love\n",
      "          </b>\n",
      "         </font>\n",
      "        </td>\n",
      "       </tr>\n",
      "       <tr>\n",
      "        <td align=\"left\" valign=\"top\" width=\"480\">\n",
      "         <font size=\"3\">\n",
      "          <b>\n",
      "           Of the fourteen essays I'm writing, only this one treats an emotion. That love is the most important emotion is the deduction. I think other emotions may be as important, but are not so powerfully moving or interesting to most of us. Love is exciting. There is no need to justify choosing to write about it. Are not most songs love songs? Are not most novels stories featuring love?\n",
      "          </b>\n",
      "         </font>\n",
      "        </td>\n",
      "       </tr>\n",
      "       <tr>\n",
      "        <td align=\"left\" valign=\"top\" width=\"480\">\n",
      "         <font size=\"3\">\n",
      "          <b>\n",
      "           Love in its broad sense is the feeling of strong attraction, and often attachment and protection. It is felt towards other people, towards pets, towards inanimate objects, towards abstractions such as patriotism, religious matters, hobbies, and I suppose nearly everything. It is multifaceted, and includes ordinary self-love, chivalrous love, carnal or sexual love, friendly love, family love. It is an emotion that is closely related to certain others, such as hope. At its simplest level it is what we strongly like.\n",
      "          </b>\n",
      "         </font>\n",
      "        </td>\n",
      "       </tr>\n",
      "       <tr>\n",
      "        <td align=\"left\" valign=\"top\" width=\"480\">\n",
      "         <font size=\"3\">\n",
      "          <b>\n",
      "           I have a hunch that love, like the rose, owes much of its appeal to our mainstream Western culture -- and that in some other societies it is by no means such a big deal. Somehow, especially in recent centuries, the notion of romantic love has become elevated far more than it used to be. Why this has happened is for social historians to explain; I don't know. I will merely say that if one reads the ancient Greeks and Romans, then it is obvious that today love is relatively more significant in our culture. A plethora of differences exist between us and people 2,000 years ago. That doesn't invalidate my observation that we moderns rate love more importantly now than our ancestors used to.\n",
      "          </b>\n",
      "         </font>\n",
      "        </td>\n",
      "       </tr>\n",
      "       <tr>\n",
      "        <td align=\"left\" valign=\"top\" width=\"480\">\n",
      "         <font size=\"3\">\n",
      "          <b>\n",
      "           It is presumed that sexual attraction, being instinctive, is comparatively constant over the centuries and across cultures. But let's be clear: sexual attraction is only one manifestation of love. One can be sexually aroused and still feel no love, just as a couple can be married and possess no mutual sexual appetite or love. Some people find they can fulfill sexual needs one way, and they love something else, such as a hobby or their work.\n",
      "          </b>\n",
      "         </font>\n",
      "        </td>\n",
      "       </tr>\n",
      "       <tr>\n",
      "        <td align=\"left\" valign=\"top\" width=\"480\">\n",
      "         <font size=\"3\">\n",
      "          <b>\n",
      "           When sexual desire, or go ahead and call it sexual need, is very strong, it certainly gets called love. To be precise it may be best termed carnal love. Similarly, a glutton loves food, and an addict perversely loves whatever drug or activity he's hooked on. Sexual love, then, is not necessarily anything more than an equivalent of an animal being in heat. On the other hand, if two people share a wholehearted, broad-based love for each other, then their sexual relations may be more an expression of their affection than of their instinctive drive.\n",
      "          </b>\n",
      "         </font>\n",
      "        </td>\n",
      "       </tr>\n",
      "       <tr>\n",
      "        <td align=\"left\" valign=\"top\" width=\"480\">\n",
      "         <font size=\"3\">\n",
      "          <b>\n",
      "           Yes, love and sex are too much confused. It is frightful how many beastly rapes and molestations take place, which are sexual but devoid of love completely. Love can be found thriving far from sex, as in a mother's love for her child, or a religious order's mystical love of doing glory to God, or of the knight's chivalrous love towards his country and rulers. The soldier's courage to defend his family is a kind of love in action. The artist who starves in an attic, living a celibate existence to produce masterpieces, is illuminated by love. Childhood friends who go through life together know love, though not sex, as regards each other. Have I made my point obvious?\n",
      "          </b>\n",
      "         </font>\n",
      "        </td>\n",
      "       </tr>\n",
      "       <tr>\n",
      "        <td align=\"left\" valign=\"top\" width=\"480\">\n",
      "         <font size=\"3\">\n",
      "          <b>\n",
      "           It is, I'm sure. But I'm on a roll and don't want to stop yet. Love's antithesis is hate. Hate is often associated with harm or destruction, even death. But again, it is not\n",
      "           <i>\n",
      "            equal\n",
      "           </i>\n",
      "           to those. It is strongly held negative emotions, even as love is strongly held positive ones.\n",
      "          </b>\n",
      "          <br/>\n",
      "          <br/>\n",
      "         </font>\n",
      "        </td>\n",
      "       </tr>\n",
      "       <tr>\n",
      "        <td align=\"left\" valign=\"top\" width=\"480\">\n",
      "         <font size=\"3\">\n",
      "          <b>\n",
      "           The golden rule, \"Love thy neighbor as thyself,\" or \"do unto others as you would have them do unto you,\" helps us see that if we want people to enjoy peaceful, content existence, we must work together cooperatively, and not let our passions, of either love or hate, get us out of line.\n",
      "          </b>\n",
      "         </font>\n",
      "        </td>\n",
      "       </tr>\n",
      "       <tr>\n",
      "        <td align=\"left\" valign=\"top\" width=\"480\">\n",
      "         <font size=\"3\">\n",
      "          <b>\n",
      "           One thing I'm sure of, is the world would be a better place if all of us individuals had someone or something we loved. I feel sorry for people who are neutral about this, indifferent regarding that, and don't know what really turns them on. I almost wish there was a law against having no love in one's life. Well, that kind of thinking is too extreme. Is it possible, without love, to be healthy in a mental sense? To be balanced? Can an individual's self-esteem be proper without love? It is certainly possible for a person to be\n",
      "           <i>\n",
      "            temporarily\n",
      "           </i>\n",
      "           devoid of love. For example, pick up a random individual, transport him across the planet, and set him into a strange culture, where he knows no one, he knows not a word of the language. He will be in shock, and will love no one, and probably his only love then would be of longing for his familiar life. Temporarily, his shock, his sadness, and his bewilderment will be more powerful feelings than any love he feels.\n",
      "          </b>\n",
      "         </font>\n",
      "        </td>\n",
      "       </tr>\n",
      "       <tr>\n",
      "        <td align=\"left\" valign=\"top\" width=\"480\">\n",
      "         <font size=\"3\">\n",
      "          <b>\n",
      "           Since love can be felt in so many different ways, it is a good thing our culture allows people freedom to choose. All the more wondrous that some of us seem to love nothing! What explains this? Are children who were in dysfunctional, abusive situations forced to retreat as it were into a shell, to be calloused against freely opening themselves to the flow of their emotions? Are certain people born with chemical imbalances in their brains which make it impossible for them to feel love? Are some people so prone to liking numerous things that they tend to not strongly like (\n",
      "           <i>\n",
      "            i.e.,\n",
      "           </i>\n",
      "           love) any one thing in particular?\n",
      "          </b>\n",
      "         </font>\n",
      "        </td>\n",
      "       </tr>\n",
      "       <tr>\n",
      "        <td align=\"left\" valign=\"top\" width=\"480\">\n",
      "         <font size=\"3\">\n",
      "          <b>\n",
      "           To love is to express oneself. Usually one's love is obviously manifested. It may be that even as some of us are generally shy and inhibited, some of us are poorer at loving. Doubtless there are complex, peculiar combinations of factors operating in every individual case. And most of our general rules or commonplace assumptions are based on behavior prevalent in our\n",
      "           <i>\n",
      "            culture.\n",
      "           </i>\n",
      "          </b>\n",
      "         </font>\n",
      "        </td>\n",
      "       </tr>\n",
      "       <tr>\n",
      "        <td align=\"left\" valign=\"top\" width=\"480\">\n",
      "         <font size=\"3\">\n",
      "          <b>\n",
      "           The chief motivating factor in many of our lives is love. People go to extraordinary lengths and costs to find love, or to give it, to keep it, to hope for it. In some cultures, such as primitive stone-age ones, I'm sure that basic food gathering and survival work is more dominating than any interpretation of love other than love of continuing to\n",
      "           <i>\n",
      "            live.\n",
      "           </i>\n",
      "          </b>\n",
      "         </font>\n",
      "        </td>\n",
      "       </tr>\n",
      "       <tr>\n",
      "        <td align=\"left\" valign=\"top\" width=\"480\">\n",
      "         <font size=\"3\">\n",
      "          <b>\n",
      "           In my life, I prefer to give my time to being with people I love, rather than being paid to spend time working for people whom I don't love. Similarly, I would rather remain single and wait until I can marry a woman with whom I can share profound love, than cohabit with a woman about who I am indifferent. It is often said \"what really counts is that a person does what he or she loves.\" Yet how many of us\n",
      "           <i>\n",
      "            really\n",
      "           </i>\n",
      "           do? How many of us\n",
      "           <i>\n",
      "            would\n",
      "           </i>\n",
      "           keep doing our jobs if we didn't need the money? Few of us. Even if I was suddenly rich financially, I'd still do most of what I do now; I'd not fundamentally change.\n",
      "          </b>\n",
      "         </font>\n",
      "        </td>\n",
      "       </tr>\n",
      "       <tr>\n",
      "        <td align=\"left\" valign=\"top\" width=\"480\">\n",
      "         <font size=\"3\">\n",
      "          <b>\n",
      "           No, money won't alter me much. Love may. If I decide to marry a woman, and she is eager also, I would stop merely doing whatever I please, and start giving my attention equally to pleasing her. Ideally we'd work very well together. But times would occur when we'd disagree, so I'd yield whenever I possibly could, out of my love and respect, and concern for our marriage.\n",
      "          </b>\n",
      "         </font>\n",
      "        </td>\n",
      "       </tr>\n",
      "       <tr>\n",
      "        <td align=\"left\" valign=\"top\" width=\"480\">\n",
      "         <font size=\"3\">\n",
      "          <b>\n",
      "           The love that motivates people to give freely their very lives is greatly inspiring. If martyrs didn't have love propelling them, then they at any rate had\n",
      "           <i>\n",
      "            strong\n",
      "           </i>\n",
      "           emotions. Sometimes I dream about hypothetical situations that test my love. For example, if the woman I think the very world of, asked me to give up my Seattle existence, to live with her 1,000 miles away -- would I do it? Maybe. If I figured there was good odds of living happily ever after, I might. But such questions are answered not just by deliberation, they're affected by emotion. Love can blind us to logic, reason and common sense. I love so many things about my life in Seattle, and there are so many eligible women here  -- that the chance of me heading out of town, loveblind, is remote. But that I\n",
      "           <i>\n",
      "            think\n",
      "           </i>\n",
      "           about such things, shows I am moved mightily by love.\n",
      "          </b>\n",
      "         </font>\n",
      "        </td>\n",
      "       </tr>\n",
      "       <tr>\n",
      "        <td align=\"left\" valign=\"top\" width=\"480\">\n",
      "         <font size=\"3\">\n",
      "          <b>\n",
      "           I am so glad to love my work, to love my family and friends, to love my city, and to love nature. Yes, I want to also love a woman who loves me. That will come. So far it has alway been one-way rather than mutual. I'm particular, patient, and confident. It's sort of a \"patting oneself on the back\" to say it, but I wish more people would show restraint about forming intimate relationships of the sort that are called marriages. Too many young folks hurry into such arrangements, and all too soon failure comes about. People think it's easier than it really is. Loving is often easy, but the long-term nurturing and sustaining of the love is work. I develop this theme more in my essay FAMILY.\n",
      "          </b>\n",
      "         </font>\n",
      "        </td>\n",
      "       </tr>\n",
      "       <tr>\n",
      "       </tr>\n",
      "      </table>\n",
      "     </td>\n",
      "     <td align=\"center\" valign=\"top\" width=\"125\">\n",
      "      <br/>\n",
      "      <br/>\n",
      "      <br/>\n",
      "      <!-- -- #include virtual=\"/includes/panel1.html\" -- -->\n",
      "     </td>\n",
      "    </tr>\n",
      "   </table>\n",
      "  </center>\n",
      "  <!-- -- #include virtual=\"/includes/footer.html\" -- -->\n",
      " </body>\n",
      "</html>\n",
      "\n"
     ]
    }
   ],
   "source": [
    "#turning the response into a BeautifulSoup object to extract data\n",
    "soup = BeautifulSoup(page.content, \"html.parser\")\n",
    "print(soup.prettify())"
   ]
  },
  {
   "cell_type": "code",
   "execution_count": 5,
   "metadata": {},
   "outputs": [
    {
     "name": "stdout",
     "output_type": "stream",
     "text": [
      "<b>Love</b>\n",
      "Love\n"
     ]
    }
   ],
   "source": [
    "#using the find method to scrape the text within the first bold tag\n",
    "title = soup.find(\"b\")\n",
    "print(title)\n",
    "print(title.get_text()) #extracts all text within element"
   ]
  },
  {
   "cell_type": "code",
   "execution_count": 6,
   "metadata": {},
   "outputs": [
    {
     "name": "stdout",
     "output_type": "stream",
     "text": [
      "Love\n",
      "    Of the fourteen essays I'm writing, only this one treats an emotion. That love is the most important emotion is the deduction. I think other emotions may be as important, but are not so powerfully moving or interesting to most of us. Love is exciting. There is no need to justify choosing to write about it. Are not most songs love songs? Are not most novels stories featuring love?\n",
      "    Love in its broad sense is the feeling of strong attraction, and often attachment and protection. It is felt towards other people, towards pets, towards inanimate objects, towards abstractions such as patriotism, religious matters, hobbies, and I suppose nearly everything. It is multifaceted, and includes ordinary self-love, chivalrous love, carnal or sexual love, friendly love, family love. It is an emotion that is closely related to certain others, such as hope. At its simplest level it is what we strongly like.\n",
      "    I have a hunch that love, like the rose, owes much of its appeal to our mainstream Western culture -- and that in some other societies it is by no means such a big deal. Somehow, especially in recent centuries, the notion of romantic love has become elevated far more than it used to be. Why this has happened is for social historians to explain; I don't know. I will merely say that if one reads the ancient Greeks and Romans, then it is obvious that today love is relatively more significant in our culture. A plethora of differences exist between us and people 2,000 years ago. That doesn't invalidate my observation that we moderns rate love more importantly now than our ancestors used to.\n",
      "    It is presumed that sexual attraction, being instinctive, is comparatively constant over the centuries and across cultures. But let's be clear: sexual attraction is only one manifestation of love. One can be sexually aroused and still feel no love, just as a couple can be married and possess no mutual sexual appetite or love. Some people find they can fulfill sexual needs one way, and they love something else, such as a hobby or their work.\n",
      "    When sexual desire, or go ahead and call it sexual need, is very strong, it certainly gets called love. To be precise it may be best termed carnal love. Similarly, a glutton loves food, and an addict perversely loves whatever drug or activity he's hooked on. Sexual love, then, is not necessarily anything more than an equivalent of an animal being in heat. On the other hand, if two people share a wholehearted, broad-based love for each other, then their sexual relations may be more an expression of their affection than of their instinctive drive.\n",
      "    Yes, love and sex are too much confused. It is frightful how many beastly rapes and molestations take place, which are sexual but devoid of love completely. Love can be found thriving far from sex, as in a mother's love for her child, or a religious order's mystical love of doing glory to God, or of the knight's chivalrous love towards his country and rulers. The soldier's courage to defend his family is a kind of love in action. The artist who starves in an attic, living a celibate existence to produce masterpieces, is illuminated by love. Childhood friends who go through life together know love, though not sex, as regards each other. Have I made my point obvious?\n",
      "    It is, I'm sure. But I'm on a roll and don't want to stop yet. Love's antithesis is hate. Hate is often associated with harm or destruction, even death. But again, it is not equal to those. It is strongly held negative emotions, even as love is strongly held positive ones.\n",
      "    The golden rule, \"Love thy neighbor as thyself,\" or \"do unto others as you would have them do unto you,\" helps us see that if we want people to enjoy peaceful, content existence, we must work together cooperatively, and not let our passions, of either love or hate, get us out of line.\n",
      "    One thing I'm sure of, is the world would be a better place if all of us individuals had someone or something we loved. I feel sorry for people who are neutral about this, indifferent regarding that, and don't know what really turns them on. I almost wish there was a law against having no love in one's life. Well, that kind of thinking is too extreme. Is it possible, without love, to be healthy in a mental sense? To be balanced? Can an individual's self-esteem be proper without love? It is certainly possible for a person to be temporarily devoid of love. For example, pick up a random individual, transport him across the planet, and set him into a strange culture, where he knows no one, he knows not a word of the language. He will be in shock, and will love no one, and probably his only love then would be of longing for his familiar life. Temporarily, his shock, his sadness, and his bewilderment will be more powerful feelings than any love he feels.\n",
      "    Since love can be felt in so many different ways, it is a good thing our culture allows people freedom to choose. All the more wondrous that some of us seem to love nothing! What explains this? Are children who were in dysfunctional, abusive situations forced to retreat as it were into a shell, to be calloused against freely opening themselves to the flow of their emotions? Are certain people born with chemical imbalances in their brains which make it impossible for them to feel love? Are some people so prone to liking numerous things that they tend to not strongly like (i.e., love) any one thing in particular?\n",
      "    To love is to express oneself. Usually one's love is obviously manifested. It may be that even as some of us are generally shy and inhibited, some of us are poorer at loving. Doubtless there are complex, peculiar combinations of factors operating in every individual case. And most of our general rules or commonplace assumptions are based on behavior prevalent in our culture.\n",
      "    The chief motivating factor in many of our lives is love. People go to extraordinary lengths and costs to find love, or to give it, to keep it, to hope for it. In some cultures, such as primitive stone-age ones, I'm sure that basic food gathering and survival work is more dominating than any interpretation of love other than love of continuing to live.\n",
      "    In my life, I prefer to give my time to being with people I love, rather than being paid to spend time working for people whom I don't love. Similarly, I would rather remain single and wait until I can marry a woman with whom I can share profound love, than cohabit with a woman about who I am indifferent. It is often said \"what really counts is that a person does what he or she loves.\" Yet how many of us really do? How many of us would keep doing our jobs if we didn't need the money? Few of us. Even if I was suddenly rich financially, I'd still do most of what I do now; I'd not fundamentally change.\n",
      "    No, money won't alter me much. Love may. If I decide to marry a woman, and she is eager also, I would stop merely doing whatever I please, and start giving my attention equally to pleasing her. Ideally we'd work very well together. But times would occur when we'd disagree, so I'd yield whenever I possibly could, out of my love and respect, and concern for our marriage.\n",
      "    The love that motivates people to give freely their very lives is greatly inspiring. If martyrs didn't have love propelling them, then they at any rate had strong emotions. Sometimes I dream about hypothetical situations that test my love. For example, if the woman I think the very world of, asked me to give up my Seattle existence, to live with her 1,000 miles away -- would I do it? Maybe. If I figured there was good odds of living happily ever after, I might. But such questions are answered not just by deliberation, they're affected by emotion. Love can blind us to logic, reason and common sense. I love so many things about my life in Seattle, and there are so many eligible women here  -- that the chance of me heading out of town, loveblind, is remote. But that I think about such things, shows I am moved mightily by love.\n",
      "    I am so glad to love my work, to love my family and friends, to love my city, and to love nature. Yes, I want to also love a woman who loves me. That will come. So far it has alway been one-way rather than mutual. I'm particular, patient, and confident. It's sort of a \"patting oneself on the back\" to say it, but I wish more people would show restraint about forming intimate relationships of the sort that are called marriages. Too many young folks hurry into such arrangements, and all too soon failure comes about. People think it's easier than it really is. Loving is often easy, but the long-term nurturing and sustaining of the love is work. I develop this theme more in my essay FAMILY.\n"
     ]
    }
   ],
   "source": [
    "#get all text within the bold element tag then output each\n",
    "poem_text = soup.find_all(\"b\")\n",
    "for text in poem_text:\n",
    "    print(text.get_text())"
   ]
  },
  {
   "cell_type": "code",
   "execution_count": 9,
   "metadata": {},
   "outputs": [
    {
     "name": "stdout",
     "output_type": "stream",
     "text": [
      "<span class=\"p-nickname vcard-username d-block\" itemprop=\"additionalName\">Connor-SM</span>\n",
      "Connor-SM\n"
     ]
    }
   ],
   "source": [
    "#finding an element by specific attribute key-values\n",
    "page = requests.get(\"https://github.com/Connor-SM\")\n",
    "soup = BeautifulSoup(page.content, \"html.parser\")\n",
    "username = soup.find('span', attrs = {\"class\" : \"vcard-username\"}) #find first span within this class\n",
    "\n",
    "print(username) #will show that element has class of vcard-username among others\n",
    "print(username.get_text())"
   ]
  },
  {
   "cell_type": "code",
   "execution_count": 10,
   "metadata": {},
   "outputs": [
    {
     "name": "stdout",
     "output_type": "stream",
     "text": [
      "<list_iterator object at 0x000001EBCB9508E0>\n"
     ]
    }
   ],
   "source": [
    "#traversing through the DOM using Beautiful Soup - using the childer attribute\n",
    "page = requests.get(\"http://www.arthurleej.com/e-love.html\")\n",
    "soup = BeautifulSoup(page.content, \"html.parser\")\n",
    "print(soup.children) #outputs an iterator object"
   ]
  },
  {
   "cell_type": "code",
   "execution_count": 11,
   "metadata": {},
   "outputs": [
    {
     "name": "stdout",
     "output_type": "stream",
     "text": [
      "<class 'bs4.element.Doctype'>\n",
      "<class 'bs4.element.NavigableString'>\n",
      "<class 'bs4.element.Tag'>\n",
      "<class 'bs4.element.NavigableString'>\n"
     ]
    }
   ],
   "source": [
    "#understanding the children within the soup object\n",
    "for child in list(soup.children):\n",
    "    print(type(child))"
   ]
  },
  {
   "cell_type": "code",
   "execution_count": 13,
   "metadata": {},
   "outputs": [
    {
     "name": "stdout",
     "output_type": "stream",
     "text": [
      "\n",
      "\n",
      " Start of new section\n",
      " \n",
      "\n",
      "\n",
      " Start of new section\n",
      "<head> <title>Essay on Love by Arthur Lee Jacobson</title> <meta content=\"Trees,gardening, wild and domestic plant life are the specialty of author Arthur Lee Jacobson.\" name=\"description\"/> <meta content=\"trees, gardening, wild plants, domestic plants, gardening author, gardening books, Arthur Lee Jacobson, A L J, A L Jacobson, Arthur Jacobson, arthur lee, plants, flowers, seattle, washington\" name=\"keywords\"/> <meta content=\"document\" name=\"resource-type\"/> <meta content=\"BBEdit 4.5\" name=\"generator\"/> <meta content=\"all\" name=\"robots\"/> <meta content=\"Gardening\" name=\"classification\"/> <meta content=\"global\" name=\"distribution\"/> <meta content=\"general\" name=\"rating\"/> <meta content=\"2001 Arthur Lee Jacobson\" name=\"copyright\"/> <meta content=\"eriktyme@eriktyme.com\" name=\"author\"/> <meta content=\"en-us\" name=\"language\"/> </head>\n",
      "\n",
      "\n",
      " Start of new section\n",
      " \n",
      "\n",
      "\n",
      " Start of new section\n",
      "<body alink=\"#33CC33\" background=\"images/background1a.jpg\" bgcolor=\"#FFFFCC\" link=\"#0000FF\" text=\"#000000\" vlink=\"#FF00FF\"> <!-- -- #include virtual=\"/includes/header.html\" -- --> <br/><center><table border=\"0\" cellpadding=\"1\" cellspacing=\"2\"> <tr> <td align=\"center\" valign=\"top\" width=\"480\"> <table border=\"0\" cellpadding=\"1\" cellspacing=\"2\"> <tr> <td align=\"center\" valign=\"top\" width=\"480\"><font size=\"5\"><b>Love</b></font></td> </tr> <tr> <td align=\"left\" valign=\"top\" width=\"480\"><font size=\"3\"><b>    Of the fourteen essays I'm writing, only this one treats an emotion. That love is the most important emotion is the deduction. I think other emotions may be as important, but are not so powerfully moving or interesting to most of us. Love is exciting. There is no need to justify choosing to write about it. Are not most songs love songs? Are not most novels stories featuring love?</b></font></td> </tr> <tr> <td align=\"left\" valign=\"top\" width=\"480\"><font size=\"3\"><b>    Love in its broad sense is the feeling of strong attraction, and often attachment and protection. It is felt towards other people, towards pets, towards inanimate objects, towards abstractions such as patriotism, religious matters, hobbies, and I suppose nearly everything. It is multifaceted, and includes ordinary self-love, chivalrous love, carnal or sexual love, friendly love, family love. It is an emotion that is closely related to certain others, such as hope. At its simplest level it is what we strongly like.</b></font></td> </tr> <tr> <td align=\"left\" valign=\"top\" width=\"480\"><font size=\"3\"><b>    I have a hunch that love, like the rose, owes much of its appeal to our mainstream Western culture -- and that in some other societies it is by no means such a big deal. Somehow, especially in recent centuries, the notion of romantic love has become elevated far more than it used to be. Why this has happened is for social historians to explain; I don't know. I will merely say that if one reads the ancient Greeks and Romans, then it is obvious that today love is relatively more significant in our culture. A plethora of differences exist between us and people 2,000 years ago. That doesn't invalidate my observation that we moderns rate love more importantly now than our ancestors used to.</b></font></td> </tr> <tr> <td align=\"left\" valign=\"top\" width=\"480\"><font size=\"3\"><b>    It is presumed that sexual attraction, being instinctive, is comparatively constant over the centuries and across cultures. But let's be clear: sexual attraction is only one manifestation of love. One can be sexually aroused and still feel no love, just as a couple can be married and possess no mutual sexual appetite or love. Some people find they can fulfill sexual needs one way, and they love something else, such as a hobby or their work.</b></font></td> </tr> <tr> <td align=\"left\" valign=\"top\" width=\"480\"><font size=\"3\"><b>    When sexual desire, or go ahead and call it sexual need, is very strong, it certainly gets called love. To be precise it may be best termed carnal love. Similarly, a glutton loves food, and an addict perversely loves whatever drug or activity he's hooked on. Sexual love, then, is not necessarily anything more than an equivalent of an animal being in heat. On the other hand, if two people share a wholehearted, broad-based love for each other, then their sexual relations may be more an expression of their affection than of their instinctive drive.</b></font></td> </tr> <tr> <td align=\"left\" valign=\"top\" width=\"480\"><font size=\"3\"><b>    Yes, love and sex are too much confused. It is frightful how many beastly rapes and molestations take place, which are sexual but devoid of love completely. Love can be found thriving far from sex, as in a mother's love for her child, or a religious order's mystical love of doing glory to God, or of the knight's chivalrous love towards his country and rulers. The soldier's courage to defend his family is a kind of love in action. The artist who starves in an attic, living a celibate existence to produce masterpieces, is illuminated by love. Childhood friends who go through life together know love, though not sex, as regards each other. Have I made my point obvious?</b></font></td> </tr> <tr> <td align=\"left\" valign=\"top\" width=\"480\"><font size=\"3\"><b>    It is, I'm sure. But I'm on a roll and don't want to stop yet. Love's antithesis is hate. Hate is often associated with harm or destruction, even death. But again, it is not <i>equal</i> to those. It is strongly held negative emotions, even as love is strongly held positive ones.</b><br/><br/></font></td> </tr> <tr> <td align=\"left\" valign=\"top\" width=\"480\"><font size=\"3\"><b>    The golden rule, \"Love thy neighbor as thyself,\" or \"do unto others as you would have them do unto you,\" helps us see that if we want people to enjoy peaceful, content existence, we must work together cooperatively, and not let our passions, of either love or hate, get us out of line.</b></font></td> </tr> <tr> <td align=\"left\" valign=\"top\" width=\"480\"><font size=\"3\"><b>    One thing I'm sure of, is the world would be a better place if all of us individuals had someone or something we loved. I feel sorry for people who are neutral about this, indifferent regarding that, and don't know what really turns them on. I almost wish there was a law against having no love in one's life. Well, that kind of thinking is too extreme. Is it possible, without love, to be healthy in a mental sense? To be balanced? Can an individual's self-esteem be proper without love? It is certainly possible for a person to be <i>temporarily</i> devoid of love. For example, pick up a random individual, transport him across the planet, and set him into a strange culture, where he knows no one, he knows not a word of the language. He will be in shock, and will love no one, and probably his only love then would be of longing for his familiar life. Temporarily, his shock, his sadness, and his bewilderment will be more powerful feelings than any love he feels.</b></font></td> </tr> <tr> <td align=\"left\" valign=\"top\" width=\"480\"><font size=\"3\"><b>    Since love can be felt in so many different ways, it is a good thing our culture allows people freedom to choose. All the more wondrous that some of us seem to love nothing! What explains this? Are children who were in dysfunctional, abusive situations forced to retreat as it were into a shell, to be calloused against freely opening themselves to the flow of their emotions? Are certain people born with chemical imbalances in their brains which make it impossible for them to feel love? Are some people so prone to liking numerous things that they tend to not strongly like (<i>i.e.,</i> love) any one thing in particular?</b></font></td> </tr> <tr> <td align=\"left\" valign=\"top\" width=\"480\"><font size=\"3\"><b>    To love is to express oneself. Usually one's love is obviously manifested. It may be that even as some of us are generally shy and inhibited, some of us are poorer at loving. Doubtless there are complex, peculiar combinations of factors operating in every individual case. And most of our general rules or commonplace assumptions are based on behavior prevalent in our <i>culture.</i></b></font></td> </tr> <tr> <td align=\"left\" valign=\"top\" width=\"480\"><font size=\"3\"><b>    The chief motivating factor in many of our lives is love. People go to extraordinary lengths and costs to find love, or to give it, to keep it, to hope for it. In some cultures, such as primitive stone-age ones, I'm sure that basic food gathering and survival work is more dominating than any interpretation of love other than love of continuing to <i>live.</i></b></font></td> </tr> <tr> <td align=\"left\" valign=\"top\" width=\"480\"><font size=\"3\"><b>    In my life, I prefer to give my time to being with people I love, rather than being paid to spend time working for people whom I don't love. Similarly, I would rather remain single and wait until I can marry a woman with whom I can share profound love, than cohabit with a woman about who I am indifferent. It is often said \"what really counts is that a person does what he or she loves.\" Yet how many of us <i>really</i> do? How many of us <i>would</i> keep doing our jobs if we didn't need the money? Few of us. Even if I was suddenly rich financially, I'd still do most of what I do now; I'd not fundamentally change.</b></font></td> </tr> <tr> <td align=\"left\" valign=\"top\" width=\"480\"><font size=\"3\"><b>    No, money won't alter me much. Love may. If I decide to marry a woman, and she is eager also, I would stop merely doing whatever I please, and start giving my attention equally to pleasing her. Ideally we'd work very well together. But times would occur when we'd disagree, so I'd yield whenever I possibly could, out of my love and respect, and concern for our marriage.</b></font></td> </tr> <tr> <td align=\"left\" valign=\"top\" width=\"480\"><font size=\"3\"><b>    The love that motivates people to give freely their very lives is greatly inspiring. If martyrs didn't have love propelling them, then they at any rate had <i>strong</i> emotions. Sometimes I dream about hypothetical situations that test my love. For example, if the woman I think the very world of, asked me to give up my Seattle existence, to live with her 1,000 miles away -- would I do it? Maybe. If I figured there was good odds of living happily ever after, I might. But such questions are answered not just by deliberation, they're affected by emotion. Love can blind us to logic, reason and common sense. I love so many things about my life in Seattle, and there are so many eligible women here  -- that the chance of me heading out of town, loveblind, is remote. But that I <i>think</i> about such things, shows I am moved mightily by love.</b></font></td> </tr> <tr> <td align=\"left\" valign=\"top\" width=\"480\"><font size=\"3\"><b>    I am so glad to love my work, to love my family and friends, to love my city, and to love nature. Yes, I want to also love a woman who loves me. That will come. So far it has alway been one-way rather than mutual. I'm particular, patient, and confident. It's sort of a \"patting oneself on the back\" to say it, but I wish more people would show restraint about forming intimate relationships of the sort that are called marriages. Too many young folks hurry into such arrangements, and all too soon failure comes about. People think it's easier than it really is. Loving is often easy, but the long-term nurturing and sustaining of the love is work. I develop this theme more in my essay FAMILY.</b></font></td> </tr> <tr> </tr></table> </td> <td align=\"center\" valign=\"top\" width=\"125\"><br/><br/><br/><!-- -- #include virtual=\"/includes/panel1.html\" -- --> </td> </tr> </table></center> <!-- -- #include virtual=\"/includes/footer.html\" -- --> </body>\n",
      "\n",
      "\n",
      " Start of new section\n",
      " \n"
     ]
    }
   ],
   "source": [
    "#accessing the .Tag object which holds the html - trying to access the title tag\n",
    "html = list(soup.children)[2]\n",
    "for section in html:\n",
    "    print(\"\\n\\n Start of new section\")\n",
    "    print(section)"
   ]
  },
  {
   "cell_type": "code",
   "execution_count": 14,
   "metadata": {},
   "outputs": [
    {
     "name": "stdout",
     "output_type": "stream",
     "text": [
      "\n",
      "\n",
      " New Tag\n",
      " \n",
      "\n",
      "\n",
      " New Tag\n",
      "<title>Essay on Love by Arthur Lee Jacobson</title>\n",
      "\n",
      "\n",
      " New Tag\n",
      " \n",
      "\n",
      "\n",
      " New Tag\n",
      "<meta content=\"Trees,gardening, wild and domestic plant life are the specialty of author Arthur Lee Jacobson.\" name=\"description\"/>\n",
      "\n",
      "\n",
      " New Tag\n",
      " \n",
      "\n",
      "\n",
      " New Tag\n",
      "<meta content=\"trees, gardening, wild plants, domestic plants, gardening author, gardening books, Arthur Lee Jacobson, A L J, A L Jacobson, Arthur Jacobson, arthur lee, plants, flowers, seattle, washington\" name=\"keywords\"/>\n",
      "\n",
      "\n",
      " New Tag\n",
      " \n",
      "\n",
      "\n",
      " New Tag\n",
      "<meta content=\"document\" name=\"resource-type\"/>\n",
      "\n",
      "\n",
      " New Tag\n",
      " \n",
      "\n",
      "\n",
      " New Tag\n",
      "<meta content=\"BBEdit 4.5\" name=\"generator\"/>\n",
      "\n",
      "\n",
      " New Tag\n",
      " \n",
      "\n",
      "\n",
      " New Tag\n",
      "<meta content=\"all\" name=\"robots\"/>\n",
      "\n",
      "\n",
      " New Tag\n",
      " \n",
      "\n",
      "\n",
      " New Tag\n",
      "<meta content=\"Gardening\" name=\"classification\"/>\n",
      "\n",
      "\n",
      " New Tag\n",
      " \n",
      "\n",
      "\n",
      " New Tag\n",
      "<meta content=\"global\" name=\"distribution\"/>\n",
      "\n",
      "\n",
      " New Tag\n",
      " \n",
      "\n",
      "\n",
      " New Tag\n",
      "<meta content=\"general\" name=\"rating\"/>\n",
      "\n",
      "\n",
      " New Tag\n",
      " \n",
      "\n",
      "\n",
      " New Tag\n",
      "<meta content=\"2001 Arthur Lee Jacobson\" name=\"copyright\"/>\n",
      "\n",
      "\n",
      " New Tag\n",
      " \n",
      "\n",
      "\n",
      " New Tag\n",
      "<meta content=\"eriktyme@eriktyme.com\" name=\"author\"/>\n",
      "\n",
      "\n",
      " New Tag\n",
      " \n",
      "\n",
      "\n",
      " New Tag\n",
      "<meta content=\"en-us\" name=\"language\"/>\n",
      "\n",
      "\n",
      " New Tag\n",
      " \n"
     ]
    }
   ],
   "source": [
    "#accessing the head element using the children attribute\n",
    "head = list(html.children)[1]\n",
    "for item in head:\n",
    "    print(\"\\n\\n New Tag\")\n",
    "    print(item)"
   ]
  },
  {
   "cell_type": "code",
   "execution_count": 15,
   "metadata": {},
   "outputs": [
    {
     "name": "stdout",
     "output_type": "stream",
     "text": [
      "Essay on Love by Arthur Lee Jacobson\n",
      "<class 'bs4.element.NavigableString'>\n",
      "Essay on Love by Arthur Lee Jacobson\n"
     ]
    }
   ],
   "source": [
    "#scraping the title text\n",
    "title = list(head)[1]\n",
    "print(title.string) #.string is used to extract text as well\n",
    "print(type(title.string)) #results in NavigableString\n",
    "print(title.get_text())"
   ]
  },
  {
   "cell_type": "markdown",
   "metadata": {},
   "source": [
    "Thursday Exercises"
   ]
  },
  {
   "cell_type": "code",
   "execution_count": 25,
   "metadata": {},
   "outputs": [
    {
     "name": "stdout",
     "output_type": "stream",
     "text": [
      "<bound method Tag.get_text of <hmtl>\n",
      "<head>\n",
      "<title>webpage1</title>\n",
      "</head>\n",
      "<body alink=\"8B4513\" bgcolor=\"FFFFFf\" link=\"006666\" vlink=\"006666\">\n",
      "<table align=\"center\" width=\"75%\">\n",
      "<tr>\n",
      "<td>\n",
      "<div align=\"center\"><h1>STARTING . . . </h1></div>\n",
      "<div align=\"justify\"><p>There are lots of ways to create web pages using already coded programmes. These lessons will teach you how to use the underlying HyperText Markup Language -  HTML. \n",
      "<br/>\n",
      "<p>HTML isn't computer code, but is a language that uses US English to enable texts (words, images, sounds) to be inserted and formatting such as colo(u)r and centre/ering to be written in. The process is fairly simple; the main difficulties often lie in small mistakes - if you slip up while word processing your reader may pick up your typos, but the page will still be legible. However, if your HTML is inaccurate the page may not appear - writing web pages is, at the least, very good practice for proof reading!</p>\n",
      "<p>Learning HTML will enable you to:\n",
      "<ul>\n",
      "<li>create your own simple pages\n",
      "<li>read and appreciate pages created by others\n",
      "<li>develop an understanding of the creative and literary implications of web-texts\n",
      "<li>have the confidence to branch out into more complex web design \n",
      "</li></li></li></li></ul></p>\n",
      "<p>A HTML web page is made up of tags. Tags are placed in brackets like this <b>&lt; tag &gt; </b>. A tag tells the browser how to display information. Most tags need to be opened &lt; tag &gt; and closed &lt; /tag &gt;.\n",
      "\n",
      "<p> To make a simple web page you need to know only four tags:\n",
      "<ul>\n",
      "<li>&lt; HTML &gt; tells the browser your page is written in HTML format\n",
      "<li>&lt; HEAD &gt; this is a kind of preface of vital information that doesn't appear on the screen. \n",
      "<li>&lt; TITLE &gt;Write the title of the web page here - this is the information that viewers see on the upper bar of their screen. (I've given this page the title 'webpage1').\n",
      "<li>&lt; BODY &gt;This is where you put the content of your page, the words and pictures that people read on the screen. \n",
      "</li></li></li></li></ul>\n",
      "<p>All these tags need to be closed.\n",
      "\n",
      "<h4>EXERCISE</h4>\n",
      "<p>Write a simple web page.</p>\n",
      "<p> Copy out exactly the HTML below, using a WP program such as Notepad.<br/>\n",
      "Information in <i>italics</i> indicates where you can insert your own text, other information is HTML and needs to be exact. However, make sure there are no spaces between the tag brackets and the text inside.<br/>\n",
      "(Find Notepad by going to the START menu\\ PROGRAMS\\ ACCESSORIES\\ NOTEPAD). \n",
      "<p>\n",
      "&lt; HTML &gt;<br/>\n",
      "&lt; HEAD &gt;<br/>\n",
      "&lt; TITLE &gt;<i> title of page</i>&lt; /TITLE &gt;<br/>\n",
      "&lt; /HEAD &gt;<br/>\n",
      "&lt; BODY&gt;<br/>\n",
      "<i> write what you like here: 'my first web page', or a piece about what you are reading, or a few thoughts on the course, or copy out a few words from a book or cornflake packet.  Just type in your words using no extras such as bold, or italics, as these have special HTML tags, although you may use upper and lower case letters and single spaces. </i><br/>\n",
      "\n",
      "&lt; /BODY &gt;<br/>\n",
      "&lt; /HTML &gt;<br/>\n",
      "<p>Save the file as 'first.html' (ie. call the file anything at all) It's useful if you start a folder - just as you would for word-processing - and call it something like WEBPAGES, and put your first.html file in the folder.\n",
      "\n",
      "<p>NOW - open your browser.<br/>\n",
      "On Netscape the process is: <br/>  \n",
      "Top menu; FILE\\ OPEN PAGE\\ CHOOSE FILE<br/> \n",
      "Click on your WEBPAGES folder\\ FIRST file<br/>\n",
      "Click 'open' and your page should appear.\n",
      "<p>On Internet Explorer: <br/>\n",
      "Top menu; FILE\\ OPEN\\ BROWSE <br/> \n",
      "Click on your WEBPAGES folder\\ FIRST file<br/>\n",
      "Click 'open' and your page should appear.<br/>\n",
      "<p>If the page doesn't open, go back over your notepad typing and make sure that all the HTML tags are correct. Check there are no spaces between tags and internal text; check that all tags are closed; check that you haven't written &lt; HTLM &gt; or &lt; BDDY &gt;.  Your page will work eventually. \n",
      "<p>\n",
      "Make another page. Call it somethingdifferent.html and place it in the same WEBPAGES folder as detailed above.\n",
      "<p>start formatting in <a href=\"webpage2.html\">lesson two</a>\n",
      "<br/><a href=\"col3.html\">back to wws index</a> </p>\n",
      "</p>\n",
      "</p></p></p></p></p></p></p></p></p></p></div>\n",
      "</td>\n",
      "</tr>\n",
      "</table>\n",
      "</body>\n",
      "</hmtl>\n",
      ">\n"
     ]
    }
   ],
   "source": [
    "#1 Word Count\n",
    "from bs4 import BeautifulSoup\n",
    "import requests\n",
    "\n",
    "page = requests.get(\"https://www.york.ac.uk/teaching/cws/wws/webpage1.html\")\n",
    "\n",
    "soup = BeautifulSoup(page.content, \"html.parser\")\n",
    "\n",
    "print(soup.get_text)"
   ]
  },
  {
   "cell_type": "code",
   "execution_count": 42,
   "metadata": {},
   "outputs": [
    {
     "name": "stdout",
     "output_type": "stream",
     "text": [
      "Allegiant Stadium\n",
      "\n",
      "Arrowhead Stadium\n",
      "\n",
      "AT&T Stadium\n",
      "\n",
      "Bank of America Stadium\n",
      "\n",
      "Bills Stadium\n",
      "\n",
      "Empower Field at Mile High\n",
      "\n",
      "FedExField\n",
      "\n",
      "FirstEnergy Stadium\n",
      "\n",
      "Ford Field\n",
      "\n",
      "Gillette Stadium\n",
      "\n",
      "Hard Rock Stadium\n",
      "\n",
      "Heinz Field\n",
      "\n",
      "Lambeau Field\n",
      "\n",
      "Levi's Stadium\n",
      "\n",
      "Lincoln Financial Field\n",
      "\n",
      "Lucas Oil Stadium\n",
      "\n",
      "Lumen Field\n",
      "\n",
      "M&T Bank Stadium\n",
      "\n",
      "Mercedes-Benz Stadium\n",
      "\n",
      "Mercedes-Benz Superdome\n",
      "\n",
      "MetLife Stadium\n",
      "\n",
      "Nissan Stadium\n",
      "\n",
      "NRG Stadium\n",
      "\n",
      "Paul Brown Stadium\n",
      "\n",
      "Raymond James Stadium\n",
      "\n",
      "SoFi Stadium\n",
      "\n",
      "Soldier Field\n",
      "\n",
      "State Farm Stadium\n",
      "\n",
      "TIAA Bank Field\n",
      "\n",
      "U.S. Bank Stadium\n",
      "\n",
      "Estadio Azteca\n",
      "\n",
      "Tom Benson Hall of Fame Stadium\n",
      "\n",
      "Wembley Stadium\n",
      "\n",
      "Tottenham Hotspur Stadium\n",
      "\n",
      "Future Buffalo Bills stadium\n",
      "\n",
      "Future Washington Stadium\n",
      "\n",
      "AFC\n",
      "NFC\n",
      "Hall of Fame Game\n",
      "Pro Bowl\n",
      "International Series\n",
      "AFC\n",
      "NFC\n",
      "Seasons\n",
      "History\n",
      "Business\n",
      "Other\n"
     ]
    }
   ],
   "source": [
    "#Question Number 2\n",
    "from bs4 import BeautifulSoup\n",
    "import requests\n",
    "\n",
    "page = requests.get(\"https://en.wikipedia.org/wiki/List_of_current_National_Football_League_stadiums\")\n",
    "\n",
    "soup = BeautifulSoup(page.content, \"html.parser\")\n",
    "\n",
    "#print(soup.prettify())\n",
    "\n",
    "texts = soup.find_all(\"th\", attrs = {\"scope\" : \"row\"})\n",
    "\n",
    "for text in texts:\n",
    "    print(text.get_text())"
   ]
  },
  {
   "cell_type": "markdown",
   "metadata": {},
   "source": [
    "Friday Project: Website Analysis"
   ]
  },
  {
   "cell_type": "code",
   "execution_count": 1,
   "metadata": {},
   "outputs": [],
   "source": [
    "#import all necessary libraries\n",
    "import requests\n",
    "import matplotlib.pyplot as plt\n",
    "from bs4 import BeautifulSoup\n",
    "from bs4.element import Comment\n",
    "from IPython.display import clear_output"
   ]
  },
  {
   "cell_type": "code",
   "execution_count": 29,
   "metadata": {},
   "outputs": [
    {
     "name": "stdout",
     "output_type": "stream",
     "text": [
      "Enter a website to analyze: http://www.microsoft.com/en-us\n",
      "The top word is: Microsoft\n"
     ]
    },
    {
     "data": {
      "image/png": "[encoded data removed]",
      "text/plain": [
       "<Figure size 1440x720 with 1 Axes>"
      ]
     },
     "metadata": {
      "needs_background": "light"
     },
     "output_type": "display_data"
    },
    {
     "ename": "KeyboardInterrupt",
     "evalue": "Interrupted by user",
     "output_type": "error",
     "traceback": [
      "\u001b[1;31m---------------------------------------------------------------------------\u001b[0m",
      "\u001b[1;31mKeyboardInterrupt\u001b[0m                         Traceback (most recent call last)",
      "\u001b[1;32m<ipython-input-29-bdf90c95e098>\u001b[0m in \u001b[0;36m<module>\u001b[1;34m\u001b[0m\n\u001b[0;32m     75\u001b[0m \u001b[1;33m\u001b[0m\u001b[0m\n\u001b[0;32m     76\u001b[0m \u001b[1;31m#main loop should ask if user wants to scrape, then what site to scrape\u001b[0m\u001b[1;33m\u001b[0m\u001b[1;33m\u001b[0m\u001b[1;33m\u001b[0m\u001b[0m\n\u001b[1;32m---> 77\u001b[1;33m \u001b[1;32mwhile\u001b[0m \u001b[0minput\u001b[0m\u001b[1;33m(\u001b[0m\u001b[1;34m\"Would you like to scrape a website? (y/n) \"\u001b[0m\u001b[1;33m)\u001b[0m \u001b[1;33m==\u001b[0m \u001b[1;34m\"y\"\u001b[0m\u001b[1;33m:\u001b[0m\u001b[1;33m\u001b[0m\u001b[1;33m\u001b[0m\u001b[0m\n\u001b[0m\u001b[0;32m     78\u001b[0m     \u001b[1;32mtry\u001b[0m\u001b[1;33m:\u001b[0m\u001b[1;33m\u001b[0m\u001b[1;33m\u001b[0m\u001b[0m\n\u001b[0;32m     79\u001b[0m         \u001b[0mclear_output\u001b[0m\u001b[1;33m(\u001b[0m\u001b[1;33m)\u001b[0m\u001b[1;33m\u001b[0m\u001b[1;33m\u001b[0m\u001b[0m\n",
      "\u001b[1;32m~\\anaconda3\\lib\\site-packages\\ipykernel\\kernelbase.py\u001b[0m in \u001b[0;36mraw_input\u001b[1;34m(self, prompt)\u001b[0m\n\u001b[0;32m    858\u001b[0m                 \u001b[1;34m\"raw_input was called, but this frontend does not support input requests.\"\u001b[0m\u001b[1;33m\u001b[0m\u001b[1;33m\u001b[0m\u001b[0m\n\u001b[0;32m    859\u001b[0m             )\n\u001b[1;32m--> 860\u001b[1;33m         return self._input_request(str(prompt),\n\u001b[0m\u001b[0;32m    861\u001b[0m             \u001b[0mself\u001b[0m\u001b[1;33m.\u001b[0m\u001b[0m_parent_ident\u001b[0m\u001b[1;33m,\u001b[0m\u001b[1;33m\u001b[0m\u001b[1;33m\u001b[0m\u001b[0m\n\u001b[0;32m    862\u001b[0m             \u001b[0mself\u001b[0m\u001b[1;33m.\u001b[0m\u001b[0m_parent_header\u001b[0m\u001b[1;33m,\u001b[0m\u001b[1;33m\u001b[0m\u001b[1;33m\u001b[0m\u001b[0m\n",
      "\u001b[1;32m~\\anaconda3\\lib\\site-packages\\ipykernel\\kernelbase.py\u001b[0m in \u001b[0;36m_input_request\u001b[1;34m(self, prompt, ident, parent, password)\u001b[0m\n\u001b[0;32m    902\u001b[0m             \u001b[1;32mexcept\u001b[0m \u001b[0mKeyboardInterrupt\u001b[0m\u001b[1;33m:\u001b[0m\u001b[1;33m\u001b[0m\u001b[1;33m\u001b[0m\u001b[0m\n\u001b[0;32m    903\u001b[0m                 \u001b[1;31m# re-raise KeyboardInterrupt, to truncate traceback\u001b[0m\u001b[1;33m\u001b[0m\u001b[1;33m\u001b[0m\u001b[1;33m\u001b[0m\u001b[0m\n\u001b[1;32m--> 904\u001b[1;33m                 \u001b[1;32mraise\u001b[0m \u001b[0mKeyboardInterrupt\u001b[0m\u001b[1;33m(\u001b[0m\u001b[1;34m\"Interrupted by user\"\u001b[0m\u001b[1;33m)\u001b[0m \u001b[1;32mfrom\u001b[0m \u001b[1;32mNone\u001b[0m\u001b[1;33m\u001b[0m\u001b[1;33m\u001b[0m\u001b[0m\n\u001b[0m\u001b[0;32m    905\u001b[0m             \u001b[1;32mexcept\u001b[0m \u001b[0mException\u001b[0m \u001b[1;32mas\u001b[0m \u001b[0me\u001b[0m\u001b[1;33m:\u001b[0m\u001b[1;33m\u001b[0m\u001b[1;33m\u001b[0m\u001b[0m\n\u001b[0;32m    906\u001b[0m                 \u001b[0mself\u001b[0m\u001b[1;33m.\u001b[0m\u001b[0mlog\u001b[0m\u001b[1;33m.\u001b[0m\u001b[0mwarning\u001b[0m\u001b[1;33m(\u001b[0m\u001b[1;34m\"Invalid Message:\"\u001b[0m\u001b[1;33m,\u001b[0m \u001b[0mexc_info\u001b[0m\u001b[1;33m=\u001b[0m\u001b[1;32mTrue\u001b[0m\u001b[1;33m)\u001b[0m\u001b[1;33m\u001b[0m\u001b[1;33m\u001b[0m\u001b[0m\n",
      "\u001b[1;31mKeyboardInterrupt\u001b[0m: Interrupted by user"
     ]
    }
   ],
   "source": [
    "#graph results of top 7 words\n",
    "def displayResults(words, site):\n",
    "    count = [item[1] for item in words][::-1] #reverses order\n",
    "    word = [item[0] for item in words][:: -1] #gets word out of reverses order\n",
    "    \n",
    "    plt.figure(figsize = (20, 10)) #define how large the figure appears\n",
    "    \n",
    "    plt.bar(word, count)\n",
    "    \n",
    "    plt.title(\"Analyzing Top Words from: {}...\".format(site[:50]), fontname=\"Sans Serif\", fontsize = 24)\n",
    "    plt.xlabel(\"Words\", fontsize = 24)\n",
    "    plt.ylabel(\"# of Appearances\", fontsize  = 24)\n",
    "    plt.xticks(fontname = \"Sans Serif\", fontsize = 20)\n",
    "    plt.yticks(fontname = \"Sans Serif\", fontsize = 20)\n",
    "    \n",
    "    plt.show()\n",
    "\n",
    "#filter article words and hidden characters\n",
    "def filterWaste(word):\n",
    "    bad_words = (\"the\", 'a', \"in\", \"of\", \"to\", \"you\", \"/xa0\", \"and\", \"at\", \"on\", \"for\", \"from\", \"is\", \"that\", \"his\",\n",
    "                \"are\", \"be\", \"-,\" \"as\", \"&,\" \"they\", \"with\", \"how\", 'was', \"her\", \"him\", \"i\", \"has\", '|')\n",
    "    \n",
    "    if word.lower in bad_words:\n",
    "        return False\n",
    "    \n",
    "    else:\n",
    "        return True\n",
    "\n",
    "\n",
    "#filter out all elements that do not contain text that appears on site\n",
    "def filterTags(element):\n",
    "    if element.parent.name in [\"style\", \"script\", \"head\", \"title\", \"meta\", \"[document]\"]:\n",
    "        return False\n",
    "    \n",
    "    if isinstance(element, Comment):\n",
    "        return False\n",
    "    \n",
    "    return True\n",
    "\n",
    "#request site and return top 7 most used words\n",
    "def scrape(site):\n",
    "    page = requests.get(site)\n",
    "    \n",
    "    soup = BeautifulSoup(page.content, \"html.parser\")\n",
    "    \n",
    "    #print(soup.prettify()) #remove after runs properly\n",
    "    \n",
    "    text = soup.find_all(text=True) #will get all text within the document\n",
    "    \n",
    "    visible_text = filter(filterTags, text)\n",
    "    \n",
    "    word_count ={}\n",
    "    \n",
    "    for text in visible_text:\n",
    "        #print(text) #remove afte runs properly\n",
    "        words = text.replace(\"\\n\", \"\").replace(\"\\t\",\"\").split(\" \") #replace all hidden chars\n",
    "        \n",
    "        words = list(filter(filterWaste,words))\n",
    "        for word in words:\n",
    "            #print(word, end=\" \") #remove after runs properly\n",
    "            if word != \"\": #if it doesn't equal an empty string\n",
    "                if word in word_count:\n",
    "                    word_count[word] += 1\n",
    "                    \n",
    "                else:\n",
    "                    word_count[word] = 1\n",
    "    \n",
    "    word_count = sorted(word_count.items(), key=lambda kv:kv[1], reverse = True) #sort on value\n",
    "    #print(word_count[:7])\n",
    "    return word_count[:7]\n",
    "        \n",
    "    #print(word_count) #remove after runs properly\n",
    "    \n",
    "    #print(text) #remove after runs properly\n",
    "    \n",
    "#main loop should ask if user wants to scrape, then what site to scrape\n",
    "while input(\"Would you like to scrape a website? (y/n) \") == \"y\":\n",
    "    try:\n",
    "        clear_output()\n",
    "        \n",
    "        site = input(\"Enter a website to analyze: \")\n",
    "        \n",
    "        top_words = scrape(site)\n",
    "        \n",
    "        top_word = top_words[0] #tuple of (word, count)\n",
    "        \n",
    "        print(\"The top word is: {}\".format(top_word[0])) #don't remove\n",
    "        #print(site) #remove after runs properly    \n",
    "        \n",
    "        displayResults(top_words, site)\n",
    "    except:\n",
    "        print(\"Somthing went wrong, please try again.\")\n",
    "\n",
    "print(\"Thanks for analyzing! Come back again!\")"
   ]
  },
  {
   "cell_type": "code",
   "execution_count": 27,
   "metadata": {},
   "outputs": [
    {
     "data": {
      "text/plain": [
       "[('Microsoft', 33),\n",
       " ('and', 24),\n",
       " ('to', 13),\n",
       " ('Surface', 13),\n",
       " ('Shop', 11),\n",
       " ('365', 10),\n",
       " ('Windows', 9)]"
      ]
     },
     "execution_count": 27,
     "metadata": {},
     "output_type": "execute_result"
    }
   ],
   "source": [
    "scrape(\"http://www.microsoft.com/en-us\")"
   ]
  },
  {
   "cell_type": "code",
   "execution_count": 31,
   "metadata": {},
   "outputs": [
    {
     "name": "stdout",
     "output_type": "stream",
     "text": [
      "Enter a website to analyze: http://www.microsoft.com/en-us/\n",
      "The top word is: Microsoft\n"
     ]
    },
    {
     "data": {
      "image/png": "[encoded data removed]",
      "text/plain": [
       "<Figure size 1440x720 with 1 Axes>"
      ]
     },
     "metadata": {
      "needs_background": "light"
     },
     "output_type": "display_data"
    },
    {
     "name": "stdout",
     "output_type": "stream",
     "text": [
      "Would you like to scrape a website (y/n)? n\n",
      "Thanks for analyzing! Come back again!\n"
     ]
    }
   ],
   "source": [
    "# graph results of top 7 words\n",
    "def displayResults(words, site):\n",
    "    count = [item[1] for item in words][::-1]     # reverses order\n",
    "    word = [item[0] for item in words][::-1]      # reverses order\n",
    "    \n",
    "    plt.figure(figsize=(20, 10))   # define how large the figure appears\n",
    "\n",
    "    plt.bar(word, count)\n",
    "\n",
    "    plt.title(\"Analyzing Top Words from: {}...\".format(site[:50]), fontname=\"Sans Serif\", fontsize=24)\n",
    "    plt.xlabel(\"Words\", fontsize=24)\n",
    "    plt.ylabel(\"# of Appearances\", fontsize=24)\n",
    "    plt.xticks(fontname=\"Sans Serif\", fontsize=20)\n",
    "    plt.yticks(fontname=\"Sans Serif\", fontsize=20)\n",
    "\n",
    "    plt.savefig('microsoft.png')\n",
    "    plt.show()\n",
    "    \n",
    "# filter article words and hidden characters\n",
    "def filterWaste(word):\n",
    "    bad_words = ('the', 'a', 'in', 'of', 'to', 'you', '\\xa0', 'and', 'at', 'on', 'for', 'from', 'is', 'that', 'are', 'be', '-', 'as', '&', 'they', 'with',\n",
    "                 'how', 'was', 'her', 'him', 'i', 'has', '|', 'his')\n",
    "    \n",
    "    if word.lower() in bad_words:\n",
    "        return False\n",
    "    else:\n",
    "        return True\n",
    "    \n",
    "# filter out all elements that do not contain text that appears on site\n",
    "def filterTags(element):\n",
    "    if element.parent.name in ['style', 'script', 'head', 'title', 'meta', '[document]']:\n",
    "        return False\n",
    "    \n",
    "    if isinstance(element, Comment):\n",
    "        return False\n",
    "    \n",
    "    return True\n",
    "\n",
    "# request site and top 7 most used words\n",
    "def scrape(site):    \n",
    "    page = requests.get(site)\n",
    "    \n",
    "    soup = BeautifulSoup(page.content, 'html.parser')\n",
    "    \n",
    "    text = soup.find_all(text=True)     # will get all text within the document\n",
    "    \n",
    "    visible_text = filter(filterTags, text)\n",
    "    \n",
    "    word_count = {}\n",
    "\n",
    "    for text in visible_text:\n",
    "        words = text.replace('\\n', '').replace('\\t', '').split(' ')   # replace all hidden chars\n",
    "\n",
    "        words = list(filter(filterWaste, words))\n",
    "        \n",
    "        for word in words:\n",
    "            if word != '':\n",
    "                if word in word_count:\n",
    "                    word_count[word] += 1\n",
    "                else:\n",
    "                    word_count[word] = 1\n",
    "                     \n",
    "    word_count = sorted(word_count.items(), key=lambda kv: kv[1], reverse=True)        \n",
    "    \n",
    "    return word_count[:7]\n",
    "            \n",
    "# main loop should ask if user wants to scrape, then what site to scrape\n",
    "while input('Would you like to scrape a website (y/n)? ') == 'y':\n",
    "    try:\n",
    "        clear_output()\n",
    "    \n",
    "        site = input('Enter a website to analyze: ')\n",
    "    \n",
    "        top_words = scrape(site)\n",
    "        \n",
    "        top_word = top_words[0]   # tuple of (word, count)\n",
    "        \n",
    "        print(\"The top word is: {}\".format(top_word[0]))\n",
    "        \n",
    "        displayResults(top_words, site)\n",
    "    except:\n",
    "        print('Something went wrong, please try again.')\n",
    "    \n",
    "print('Thanks for analyzing! Come back again!')"
   ]
  },
  {
   "cell_type": "code",
   "execution_count": null,
   "metadata": {},
   "outputs": [],
   "source": []
  }
 ],
 "metadata": {
  "kernelspec": {
   "display_name": "Python 3",
   "language": "python",
   "name": "python3"
  },
  "language_info": {
   "codemirror_mode": {
    "name": "ipython",
    "version": 3
   },
   "file_extension": ".py",
   "mimetype": "text/x-python",
   "name": "python",
   "nbconvert_exporter": "python",
   "pygments_lexer": "ipython3",
   "version": "3.8.5"
  }
 },
 "nbformat": 4,
 "nbformat_minor": 4
}
