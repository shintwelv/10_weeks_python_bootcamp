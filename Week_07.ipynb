{
 "cells": [
  {
   "cell_type": "markdown",
   "metadata": {},
   "source": [
    "Challenge Question"
   ]
  },
  {
   "cell_type": "code",
   "execution_count": 1,
   "metadata": {},
   "outputs": [
    {
     "name": "stdout",
     "output_type": "stream",
     "text": [
      "10\n"
     ]
    }
   ],
   "source": [
    "#What is the result of the following code?\n",
    "values = {4:4, 8:8, \"Q\":10, \"ACE\": 11}\n",
    "card = (\"Q\", \"Hearts\")\n",
    "print(\"{}\".format(values[card[0]]))"
   ]
  },
  {
   "cell_type": "markdown",
   "metadata": {},
   "source": [
    "Creating and Instantiating a Class"
   ]
  },
  {
   "cell_type": "code",
   "execution_count": 2,
   "metadata": {},
   "outputs": [],
   "source": [
    "#creating your first class\n",
    "class car():\n",
    "    pass #simply using as a placeholder until we add more code tomorrow"
   ]
  },
  {
   "cell_type": "code",
   "execution_count": 3,
   "metadata": {},
   "outputs": [
    {
     "name": "stdout",
     "output_type": "stream",
     "text": [
      "<__main__.Car object at 0x0000020B2DA8B970>\n"
     ]
    }
   ],
   "source": [
    "#instantiating an object from a class\n",
    "class Car(): #parens are optional here\n",
    "    pass\n",
    "ford = Car() #creates an instance of the Car class and stores into the variable ford\n",
    "print(ford)"
   ]
  },
  {
   "cell_type": "code",
   "execution_count": 4,
   "metadata": {},
   "outputs": [
    {
     "name": "stdout",
     "output_type": "stream",
     "text": [
      "140439623723\n",
      "140439614455\n"
     ]
    }
   ],
   "source": [
    "#instantiating multiple objects from the same class\n",
    "class Car():\n",
    "    pass\n",
    "ford = Car()\n",
    "subaru = Car() #creates another object from the car class\n",
    "print(hash(ford))\n",
    "print(hash(subaru)) #hash ouputs a numerical representation of the location in memory for the variable"
   ]
  },
  {
   "cell_type": "markdown",
   "metadata": {},
   "source": [
    "Monday Exercises"
   ]
  },
  {
   "cell_type": "code",
   "execution_count": 6,
   "metadata": {},
   "outputs": [
    {
     "name": "stdout",
     "output_type": "stream",
     "text": [
      "<__main__.Animals object at 0x0000020B2DA9E580> <__main__.Animals object at 0x0000020B2DA9E670>\n"
     ]
    }
   ],
   "source": [
    "#Animals\n",
    "class Animals():\n",
    "    pass\n",
    "lion = Animals()\n",
    "tiger = Animals()\n",
    "print(lion, tiger)"
   ]
  },
  {
   "cell_type": "code",
   "execution_count": 7,
   "metadata": {},
   "outputs": [],
   "source": [
    "#Problem Solving\n",
    "#class Bus:\n",
    "#pass\n",
    "#school_bus = Bus()\n",
    "\n",
    "class Bus():\n",
    "    pass\n",
    "school_bus = Bus()"
   ]
  },
  {
   "cell_type": "markdown",
   "metadata": {},
   "source": [
    "Attributes"
   ]
  },
  {
   "cell_type": "code",
   "execution_count": 2,
   "metadata": {},
   "outputs": [
    {
     "name": "stdout",
     "output_type": "stream",
     "text": [
      "red\n"
     ]
    }
   ],
   "source": [
    "#how to define a class attribute\n",
    "class Car():\n",
    "    sound = 'beep' #all car objects will have this sound attribute and it's value\n",
    "    color = \"red\" #all car objects will have this color attribute and it's value\n",
    "\n",
    "ford = Car()\n",
    "print(ford.color) #known as 'dot syntax'"
   ]
  },
  {
   "cell_type": "code",
   "execution_count": 3,
   "metadata": {},
   "outputs": [
    {
     "name": "stdout",
     "output_type": "stream",
     "text": [
      "beep\n",
      "honk\n"
     ]
    }
   ],
   "source": [
    "#changing the value of an attribute\n",
    "class Car():\n",
    "    sound = 'beep'\n",
    "    color = 'red'\n",
    "    \n",
    "ford = Car()\n",
    "print(ford.sound) #will ouput 'beep'\n",
    "\n",
    "ford.sound = 'honk' #from now on the value of fords sound is honk, this does not affect other instances\n",
    "print(ford.sound) #will output 'honk'"
   ]
  },
  {
   "cell_type": "code",
   "execution_count": 4,
   "metadata": {},
   "outputs": [
    {
     "name": "stdout",
     "output_type": "stream",
     "text": [
      "blue\n"
     ]
    }
   ],
   "source": [
    "#using the init method to give instances personalized attributes upon creation\n",
    "class Car():\n",
    "    def __init__(self, color):\n",
    "        self.color = color #sets the attriutes color to the value passed in\n",
    "\n",
    "ford = Car(\"blue\") #instantiating a Car class with the color blue\n",
    "print(ford.color)"
   ]
  },
  {
   "cell_type": "code",
   "execution_count": 6,
   "metadata": {},
   "outputs": [
    {
     "name": "stdout",
     "output_type": "stream",
     "text": [
      "blue 2016\n",
      "red 2018\n"
     ]
    }
   ],
   "source": [
    "#defining different values for multiple instances\n",
    "class Car():\n",
    "    def __init__(self, color, year):\n",
    "        self.color = color #sets the attribute color to the value passed in\n",
    "        self.year = year\n",
    "        \n",
    "ford = Car(\"blue\", 2016) #create a car object with the color blue and year 2016\n",
    "subaru = Car(\"red\", 2018) #create a car object with the color red and year 2018\n",
    "\n",
    "print(ford.color, ford.year)\n",
    "print(subaru.color, subaru.year)"
   ]
  },
  {
   "cell_type": "code",
   "execution_count": 8,
   "metadata": {},
   "outputs": [
    {
     "name": "stdout",
     "output_type": "stream",
     "text": [
      "beep\n",
      "beep blue\n"
     ]
    }
   ],
   "source": [
    "#using and accessing global class attributes\n",
    "class Car():\n",
    "    sound = \"beep\" #global attribute, accessible through the class itself\n",
    "    def __init__(self, color):\n",
    "        self.color = \"blue\" #instance specific attribute, not accessible through the class itself\n",
    "        \n",
    "print(Car.sound)\n",
    "#print(Car.color) won't work, as color is only available to instances of the Car class, not the class itself\n",
    "\n",
    "ford = Car(\"blue\")\n",
    "print(ford.sound, ford.color) #color will work as this is an instance"
   ]
  },
  {
   "cell_type": "markdown",
   "metadata": {},
   "source": [
    "Tuesday Exercises"
   ]
  },
  {
   "cell_type": "code",
   "execution_count": 9,
   "metadata": {},
   "outputs": [
    {
     "name": "stdout",
     "output_type": "stream",
     "text": [
      "Sammi No\n",
      "Casey No\n"
     ]
    }
   ],
   "source": [
    "#1 Dogs\n",
    "class Dog():\n",
    "    species = \"Canine\"\n",
    "    \n",
    "    def __init__(self, name, breed):\n",
    "        self.name = name\n",
    "        self.breed = breed\n",
    "        \n",
    "Husky = Dog(\"Sammi\", \"No\")\n",
    "Chocolate_Lab = Dog(\"Casey\", \"No\")\n",
    "\n",
    "print(Husky.name, Husky.breed)\n",
    "print(Chocolate_Lab.name, Chocolate_Lab.breed)\n",
    "\n"
   ]
  },
  {
   "cell_type": "code",
   "execution_count": 10,
   "metadata": {},
   "outputs": [
    {
     "name": "stdout",
     "output_type": "stream",
     "text": [
      "type in your name: shini\n",
      "shini\n"
     ]
    }
   ],
   "source": [
    "#2 User Input\n",
    "class Person():\n",
    "    def __init__(self, name):\n",
    "        self.name = name\n",
    "        \n",
    "usr_input = input(\"type in your name: \")\n",
    "my_person = Person(usr_input)\n",
    "print(my_person.name)"
   ]
  },
  {
   "cell_type": "markdown",
   "metadata": {},
   "source": [
    "Methods"
   ]
  },
  {
   "cell_type": "code",
   "execution_count": 1,
   "metadata": {},
   "outputs": [
    {
     "name": "stdout",
     "output_type": "stream",
     "text": [
      "bark\n"
     ]
    }
   ],
   "source": [
    "#defining and calling our first class method\n",
    "class Dog():\n",
    "    def makeSound(self):\n",
    "        print('bark')\n",
    "        \n",
    "sam = Dog()\n",
    "sam.makeSound()"
   ]
  },
  {
   "cell_type": "code",
   "execution_count": 2,
   "metadata": {},
   "outputs": [
    {
     "name": "stdout",
     "output_type": "stream",
     "text": [
      "bark\n"
     ]
    }
   ],
   "source": [
    "#using the self keyword to access attributes within class methods\n",
    "class Dog():\n",
    "    sound = 'bark'\n",
    "    def makeSound(self):\n",
    "        print(self.sound) #self required to access attributes defined in the class\n",
    "        \n",
    "sam = Dog()\n",
    "sam.makeSound()"
   ]
  },
  {
   "cell_type": "code",
   "execution_count": 3,
   "metadata": {
    "scrolled": true
   },
   "outputs": [
    {
     "name": "stdout",
     "output_type": "stream",
     "text": [
      "I am a dog.\n",
      "bark\n"
     ]
    }
   ],
   "source": [
    "#understanding which methods are accessible via the class itself and class instances\n",
    "class Dog():\n",
    "    sound = \"bark\"\n",
    "    def makeSound(self):\n",
    "        print(self.sound)\n",
    "    def printInfo():\n",
    "        print(\"I am a dog.\")\n",
    "\n",
    "Dog.printInfo() #able to run printInfo method becuase it does not include self parameter\n",
    "\n",
    "#Dog.makeSound() would produce error, self is in reference to instances only\n",
    "\n",
    "sam = Dog()\n",
    "sam.makeSound()\n",
    "#sam.printInfo() will produce error, instances require the self parameter to access methods"
   ]
  },
  {
   "cell_type": "code",
   "execution_count": 4,
   "metadata": {},
   "outputs": [
    {
     "name": "stdout",
     "output_type": "stream",
     "text": [
      "6\n"
     ]
    }
   ],
   "source": [
    "#writing methods that accept parameters\n",
    "class Dog():\n",
    "    def showAge(self, age):\n",
    "        print(age) #does not need self, age is referencing parameter not an attribute\n",
    "\n",
    "sam = Dog()\n",
    "sam.showAge(6) #passing the integer 6 as an argument to the showAge method"
   ]
  },
  {
   "cell_type": "code",
   "execution_count": 6,
   "metadata": {},
   "outputs": [
    {
     "name": "stdout",
     "output_type": "stream",
     "text": [
      "Sammi\n"
     ]
    }
   ],
   "source": [
    "#using methods to set or return attribute values, proper programming practice\n",
    "class Dog():\n",
    "    name = '' #would normally use init method to declare, this is for testing purposes\n",
    "    \n",
    "    def setName(self, new_name):\n",
    "        self.name = new_name #declares the new value for the name attirbute\n",
    "    \n",
    "    def getName(self):\n",
    "        return self.name #returns the value of the name attribute\n",
    "    \n",
    "sam = Dog()\n",
    "sam.setName(\"Sammi\")\n",
    "print(sam.getName())"
   ]
  },
  {
   "cell_type": "code",
   "execution_count": 7,
   "metadata": {},
   "outputs": [
    {
     "name": "stdout",
     "output_type": "stream",
     "text": [
      "6\n"
     ]
    }
   ],
   "source": [
    "#incrementing/decrementing attribute values with methods, best programming practice\n",
    "class Dog():\n",
    "    age = 5\n",
    "    def happyBirthday(self):\n",
    "        self.age +=1\n",
    "        \n",
    "sam = Dog()\n",
    "sam.happyBirthday() #calls method to increment value by one\n",
    "print(sam.age) #better practice use getters, this is for testing purposes"
   ]
  },
  {
   "cell_type": "code",
   "execution_count": 8,
   "metadata": {},
   "outputs": [
    {
     "name": "stdout",
     "output_type": "stream",
     "text": [
      "Puppy!\n"
     ]
    }
   ],
   "source": [
    "#calling a class method from another method\n",
    "class Dog():\n",
    "    age = 6\n",
    "    def getAge(self):\n",
    "        return self.age\n",
    "    def printInfo(self):\n",
    "        if self.getAge() <10: #need self to call other method for an instance\n",
    "            print(\"Puppy!\")\n",
    "            \n",
    "sam = Dog()\n",
    "sam.printInfo()\n",
    "            "
   ]
  },
  {
   "cell_type": "code",
   "execution_count": 9,
   "metadata": {},
   "outputs": [
    {
     "name": "stdout",
     "output_type": "stream",
     "text": [
      "This is a dog class\n"
     ]
    }
   ],
   "source": [
    "#using magic methods\n",
    "class Dog():\n",
    "    def __str__(self):\n",
    "        return \"This is a dog class\"\n",
    "\n",
    "sam = Dog()\n",
    "print(sam) #will output the return of the string magic method"
   ]
  },
  {
   "cell_type": "markdown",
   "metadata": {},
   "source": [
    "Wednesday Exercises"
   ]
  },
  {
   "cell_type": "code",
   "execution_count": 16,
   "metadata": {},
   "outputs": [
    {
     "name": "stdout",
     "output_type": "stream",
     "text": [
      "feline\n"
     ]
    }
   ],
   "source": [
    "#1 Animals\n",
    "class animal():\n",
    "    species = \"lion\"\n",
    "    def setSpecies(self):\n",
    "        return self.species\n",
    "    def getSpecies(self):\n",
    "        if self.species == 'lion':\n",
    "            print(\"feline\")\n",
    "        \n",
    "animal1 = animal()\n",
    "animal1.getSpecies()\n",
    "    "
   ]
  },
  {
   "cell_type": "code",
   "execution_count": 24,
   "metadata": {},
   "outputs": [
    {
     "name": "stdout",
     "output_type": "stream",
     "text": [
      "How old are you?25\n",
      "You are 25 years old.\n"
     ]
    }
   ],
   "source": [
    "#2 User Input\n",
    "class Person():\n",
    "    age = 0\n",
    "    def __init__(self,name):\n",
    "        self.name = name\n",
    "    \n",
    "    def getAge(self):\n",
    "        self.age = input(\"How old are you?\")\n",
    "        return self.age\n",
    "    def setAge(self):\n",
    "        print(\"You are {} years old.\".format(self.age))\n",
    "        \n",
    "shinil = Person(\"shinil\")\n",
    "shinil.getAge()\n",
    "shinil.setAge()"
   ]
  },
  {
   "cell_type": "markdown",
   "metadata": {},
   "source": [
    "Inheritance"
   ]
  },
  {
   "cell_type": "code",
   "execution_count": 1,
   "metadata": {},
   "outputs": [
    {
     "name": "stdout",
     "output_type": "stream",
     "text": [
      "roar\n"
     ]
    }
   ],
   "source": [
    "#inheriting a class and accessing the inherited method\n",
    "class Animal():\n",
    "    def makeSound(self):\n",
    "        print(\"roar\")\n",
    "\n",
    "class Dog(Animal): #inheriting Animal class\n",
    "    species = \"Canine\"\n",
    "\n",
    "sam = Dog()\n",
    "sam. makeSound() #accessible through inheritance\n",
    "\n",
    "lion = Animal()\n",
    "#lion.species not accessible, inheritance does not work backwards"
   ]
  },
  {
   "cell_type": "code",
   "execution_count": 2,
   "metadata": {},
   "outputs": [
    {
     "name": "stdout",
     "output_type": "stream",
     "text": [
      "Canine\n"
     ]
    }
   ],
   "source": [
    "#using the super() method to declare inherited attributes\n",
    "class Animal():\n",
    "    def __init__(self, species):\n",
    "        self.species = species\n",
    "\n",
    "class Dog(Animal):\n",
    "    def __init__(self, species, name):\n",
    "        self.name = name\n",
    "        super().__init__(species) #using super to declare the species attribute defined in Animal\n",
    "        \n",
    "sam = Dog(\"Canine\", \"Sammi\")\n",
    "print(sam.species)"
   ]
  },
  {
   "cell_type": "code",
   "execution_count": 3,
   "metadata": {},
   "outputs": [
    {
     "name": "stdout",
     "output_type": "stream",
     "text": [
      "bark\n",
      "roar\n"
     ]
    }
   ],
   "source": [
    "#overriding methods defined in the superclass\n",
    "class Animal():\n",
    "    def makeSound(self):\n",
    "        print(\"roar\")\n",
    "class Dog(Animal):\n",
    "    def makeSound(self):\n",
    "        print(\"bark\")\n",
    "sam, lion = Dog(), Animal() #declaring multiple variables on a single line\n",
    "\n",
    "sam.makeSound() #overriding will call the makeSound method in Dog\n",
    "lion.makeSound() #no overriding occurs as Animal does not inherit anything"
   ]
  },
  {
   "cell_type": "code",
   "execution_count": 5,
   "metadata": {},
   "outputs": [
    {
     "name": "stdout",
     "output_type": "stream",
     "text": [
      "9.8 Ford\n"
     ]
    }
   ],
   "source": [
    "#how to inherit multiple classes\n",
    "class Physics():\n",
    "    gravity = 9.8\n",
    "class Automobile():\n",
    "    def __init__(self, make, model, year):\n",
    "        self.make, self.model, self.year =make, model,  year #declaring all attributes on one line\n",
    "class Ford(Physics, Automobile): #able to access Physics and Automobile attributes and methods\n",
    "    def __init__(self, model, year):\n",
    "        Automobile.__init__(self, \"Ford\", model, year) #super does not work with multiple\n",
    "        \n",
    "truck = Ford(\"F-150\", 2018)\n",
    "print(truck.gravity, truck.make) #output both attributes"
   ]
  },
  {
   "cell_type": "markdown",
   "metadata": {},
   "source": [
    "Thursday Exercises"
   ]
  },
  {
   "cell_type": "code",
   "execution_count": 11,
   "metadata": {},
   "outputs": [
    {
     "name": "stdout",
     "output_type": "stream",
     "text": [
      "Hello, my name is Max and I'm on the good guys.\n",
      "Hello, my name is Tony and I'm on the bad guys.\n"
     ]
    }
   ],
   "source": [
    "#Good Guys/Bad Guys\n",
    "class Characters():\n",
    "    def __init__(self, name, team, height, weight):\n",
    "        self.name, self.team, self.height, self.weight = name, team, height, weight\n",
    "    def sayHello(self):\n",
    "        print(\"Hello, my name is {} and I'm on the {} guys.\".format(self.name, self.team))\n",
    "\n",
    "class GoodPlayers(Characters):\n",
    "    pass\n",
    "\n",
    "class BadPlayers(Characters):\n",
    "    pass\n",
    "\n",
    "Max = GoodPlayers(\"Max\", \"good\", 180, 70)\n",
    "Tony = BadPlayers('Tony', 'bad', 190, 100)\n",
    "\n",
    "Max.sayHello()\n",
    "Tony.sayHello()"
   ]
  },
  {
   "cell_type": "markdown",
   "metadata": {},
   "source": [
    "Friday Project: Creating Blackjack"
   ]
  },
  {
   "cell_type": "code",
   "execution_count": 15,
   "metadata": {
    "scrolled": true
   },
   "outputs": [
    {
     "name": "stdout",
     "output_type": "stream",
     "text": [
      "\n",
      "s\n",
      "===========\n",
      "8 of Diamons\n",
      "2 of Clubs\n",
      "K of Clubs\n",
      "Total = 20\n",
      "\n",
      "Dealer\n",
      "===========\n",
      "2 of Hearts\n",
      "2 of Spades\n",
      "9 of Hearts\n",
      "A of Clubs\n",
      "Q of Clubs\n",
      "Total = 24\n",
      "The dealer busted, you win!\n"
     ]
    }
   ],
   "source": [
    "#importing necessary functions\n",
    "from random import randint #allows us to get a random number\n",
    "from IPython.display import clear_output\n",
    "\n",
    "#create the blackjack class, which will hold all game methods and attributes\n",
    "class Blackjack():\n",
    "    def __init__(self):\n",
    "        self.deck = [] #set to an empty list\n",
    "        self.suits = (\"Spades\", 'Hearts', 'Diamons', 'Clubs')\n",
    "        self.values = (2, 3, 4, 5, 6, 7, 8, 9, 10, 'J', 'Q', 'K', 'A')\n",
    "        \n",
    "    #create a method that creates a deck of 52 cards, each card should be a tuple with a value and suit\n",
    "    def makeDeck(self):\n",
    "        for suit in self.suits:\n",
    "            for value in self.values:\n",
    "                self.deck.append((value,suit)) #ex:(7, \"Hearts\")\n",
    "    \n",
    "    #method to pop a card from deck using a random index value\n",
    "    def pullCard(self):\n",
    "        return self.deck.pop(randint(0, len(self.deck)-1))\n",
    "    \n",
    "#create a class for the dealer and player objects\n",
    "class Player():\n",
    "    def __init__(self,name):\n",
    "        self.name = name\n",
    "        self.hand = []\n",
    "\n",
    "        \n",
    "    #take in a tuple and append it to the hand\n",
    "    def addCard(self, card):\n",
    "        self.hand.append(card)\n",
    "        \n",
    "    #if not dealer's turn then only show one of his cards, otherwise show all\n",
    "    def showHand(self, dealer_start = True):\n",
    "        print(\"\\n{}\".format(self.name))\n",
    "        print(\"===========\")\n",
    "        for i in range(len(self.hand)):\n",
    "            if self.name == 'Dealer' and i == 0 and dealer_start:\n",
    "                print(\"- of -\") #hide first card\n",
    "            else:\n",
    "                card = self.hand[i]\n",
    "                print(\"{} of {}\".format(card[0],card[1]))\n",
    "        print(\"Total = {}\".format(self.calcHand(dealer_start)))\n",
    "    \n",
    "    #if not dealer's turn then only give back total of seond card\n",
    "    def calcHand(self, dealer_start = True):\n",
    "        total = 0\n",
    "        aces = 0 #calculate aces afterwards\n",
    "        card_values = {1:1,2:2,3:3,4:4,5:5,6:6,7:7,8:8,9:9,10:10,\"J\":10,\"Q\":10,\"K\":10,\"A\":11}\n",
    "        \n",
    "        if self.name == \"Dealer\" and dealer_start:\n",
    "            card = self.hand[1]\n",
    "            return card_values[card[0]]\n",
    "        \n",
    "        for card in self.hand:\n",
    "            if card[0] == \"A\":\n",
    "                aces += 1\n",
    "            else:\n",
    "                total += card_values[card[0]]\n",
    "        \n",
    "        for i in range(aces):\n",
    "            if total + 11 > 21:\n",
    "                total += 1\n",
    "            else:\n",
    "                total += 11\n",
    "        \n",
    "        return total\n",
    "\n",
    "game = Blackjack()\n",
    "game.makeDeck()\n",
    "\n",
    "name = input(\"What is  your name?\")\n",
    "player = Player(name)\n",
    "dealer = Player(\"Dealer\")\n",
    "\n",
    "#add two cards to the dealer and player hand\n",
    "for i in range(2):\n",
    "    player.addCard(game.pullCard())\n",
    "    dealer.addCard(game.pullCard())\n",
    "\n",
    "#show both hands using method\n",
    "player.showHand()\n",
    "dealer.showHand()\n",
    "\n",
    "player_bust = False #variable to keep track of player going over 21\n",
    "\n",
    "while input(\"Would you like to stay or hit?\").lower() != \"stay\":\n",
    "    clear_output()\n",
    "    \n",
    "    #pull card and put into player's hand\n",
    "    player.addCard(game.pullCard())\n",
    "    #show both hands using method\n",
    "    player.showHand()\n",
    "    dealer.showHand()\n",
    "    \n",
    "    #check if over 21\n",
    "    if player.calcHand() > 21:\n",
    "        player_bust = True #player busted, keep track for later\n",
    "        print(\"You lose!\")\n",
    "        break #break out of the player's loop\n",
    "        \n",
    "#handling the dealer's turn. only run if player didn't bust\n",
    "dealer_bust = False\n",
    "\n",
    "if not player_bust:\n",
    "    while dealer.calcHand(False) < 17: #pass False to calculate all cards\n",
    "        #pull card and put into player's hand\n",
    "        dealer.addCard(game.pullCard())\n",
    "        \n",
    "        #check if over 21\n",
    "        if dealer.calcHand(False) > 21: #pass False to calculate all cards\n",
    "            dealer_bust = True\n",
    "            break #break out of the dealer's loop\n",
    "    \n",
    "clear_output()\n",
    "\n",
    "#show both hands using method\n",
    "player.showHand()\n",
    "dealer.showHand(False) #pass False to calculate and show all cards, even when there are 2\n",
    "\n",
    "#calculate a winner\n",
    "if player_bust:\n",
    "    print(\"You busted, better luck next time!\")\n",
    "elif dealer_bust:\n",
    "    print(\"The dealer busted, you win!\")\n",
    "elif dealer.calcHand(False) > player.calcHand():\n",
    "    print(\"Dealer has higher cards, you lose!\")\n",
    "elif dealer.calcHand(False) < player.calcHand():\n",
    "    print(\"You beat the dealer! Congrats!\")\n",
    "else:\n",
    "    print(\"You pushed, no one wins!\")"
   ]
  },
  {
   "cell_type": "markdown",
   "metadata": {},
   "source": [
    "Weekly Challenges"
   ]
  },
  {
   "cell_type": "code",
   "execution_count": 31,
   "metadata": {},
   "outputs": [
    {
     "name": "stdout",
     "output_type": "stream",
     "text": [
      "\n",
      "shinil\n",
      "===========\n",
      "4 of Hearts\n",
      "Q of Hearts\n",
      "5 of Clubs\n",
      "Total = 19\n",
      "\n",
      "Dealer\n",
      "===========\n",
      "2 of Spades\n",
      "9 of Clubs\n",
      "2 of Hearts\n",
      "J of Diamons\n",
      "Total = 23\n",
      "The dealer busted, you win!\n",
      "Would you like to play one more time? Yes/No: no\n"
     ]
    }
   ],
   "source": [
    "#1 Game Loop\n",
    "#importing necessary functions\n",
    "from random import randint #allows us to get a random number\n",
    "from IPython.display import clear_output\n",
    "\n",
    "#create the blackjack class, which will hold all game methods and attributes\n",
    "class Blackjack():\n",
    "    def __init__(self):\n",
    "        self.deck = [] #set to an empty list\n",
    "        self.suits = (\"Spades\", 'Hearts', 'Diamons', 'Clubs')\n",
    "        self.values = (2, 3, 4, 5, 6, 7, 8, 9, 10, 'J', 'Q', 'K', 'A')\n",
    "        \n",
    "    #create a method that creates a deck of 52 cards, each card should be a tuple with a value and suit\n",
    "    def makeDeck(self):\n",
    "        for suit in self.suits:\n",
    "            for value in self.values:\n",
    "                self.deck.append((value,suit)) #ex:(7, \"Hearts\")\n",
    "    \n",
    "    #method to pop a card from deck using a random index value\n",
    "    def pullCard(self):\n",
    "        return self.deck.pop(randint(0, len(self.deck)-1))\n",
    "    \n",
    "#create a class for the dealer and player objects\n",
    "class Player():\n",
    "    def __init__(self,name):\n",
    "        self.name = name\n",
    "        self.hand = []\n",
    "\n",
    "        \n",
    "    #take in a tuple and append it to the hand\n",
    "    def addCard(self, card):\n",
    "        self.hand.append(card)\n",
    "        \n",
    "    #if not dealer's turn then only show one of his cards, otherwise show all\n",
    "    def showHand(self, dealer_start = True):\n",
    "        print(\"\\n{}\".format(self.name))\n",
    "        print(\"===========\")\n",
    "        for i in range(len(self.hand)):\n",
    "            if self.name == 'Dealer' and i == 0 and dealer_start:\n",
    "                print(\"- of -\") #hide first card\n",
    "            else:\n",
    "                card = self.hand[i]\n",
    "                print(\"{} of {}\".format(card[0],card[1]))\n",
    "        print(\"Total = {}\".format(self.calcHand(dealer_start)))\n",
    "    \n",
    "    #if not dealer's turn then only give back total of seond card\n",
    "    def calcHand(self, dealer_start = True):\n",
    "        total = 0\n",
    "        aces = 0 #calculate aces afterwards\n",
    "        card_values = {1:1,2:2,3:3,4:4,5:5,6:6,7:7,8:8,9:9,10:10,\"J\":10,\"Q\":10,\"K\":10,\"A\":11}\n",
    "        \n",
    "        if self.name == \"Dealer\" and dealer_start:\n",
    "            card = self.hand[1]\n",
    "            return card_values[card[0]]\n",
    "        \n",
    "        for card in self.hand:\n",
    "            if card[0] == \"A\":\n",
    "                aces += 1\n",
    "            else:\n",
    "                total += card_values[card[0]]\n",
    "        \n",
    "        for i in range(aces):\n",
    "            if total + 11 > 21:\n",
    "                total += 1\n",
    "            else:\n",
    "                total += 11\n",
    "        \n",
    "        return total\n",
    "\n",
    "active = True\n",
    "while active:\n",
    "    game = Blackjack()\n",
    "    game.makeDeck()\n",
    "\n",
    "    name = input(\"What is  your name?\")\n",
    "    player = Player(name)\n",
    "    dealer = Player(\"Dealer\")\n",
    "\n",
    "    #add two cards to the dealer and player hand\n",
    "    for i in range(2):\n",
    "        player.addCard(game.pullCard())\n",
    "        dealer.addCard(game.pullCard())\n",
    "\n",
    "    #show both hands using method\n",
    "    player.showHand()\n",
    "    dealer.showHand()\n",
    "\n",
    "    player_bust = False #variable to keep track of player going over 21\n",
    "\n",
    "    while input(\"Would you like to stay or hit?\").lower() != \"stay\":\n",
    "        clear_output()\n",
    "\n",
    "        #pull card and put into player's hand\n",
    "        player.addCard(game.pullCard())\n",
    "        #show both hands using method\n",
    "        player.showHand()\n",
    "        dealer.showHand()\n",
    "\n",
    "        #check if over 21\n",
    "        if player.calcHand() > 21:\n",
    "            player_bust = True #player busted, keep track for later\n",
    "            print(\"You lose!\")\n",
    "            break #break out of the player's loop\n",
    "\n",
    "    #handling the dealer's turn. only run if player didn't bust\n",
    "    dealer_bust = False\n",
    "\n",
    "    if not player_bust:\n",
    "        while dealer.calcHand(False) < 17: #pass False to calculate all cards\n",
    "            #pull card and put into player's hand\n",
    "            dealer.addCard(game.pullCard())\n",
    "\n",
    "            #check if over 21\n",
    "            if dealer.calcHand(False) > 21: #pass False to calculate all cards\n",
    "                dealer_bust = True\n",
    "                break #break out of the dealer's loop\n",
    "\n",
    "    clear_output()\n",
    "\n",
    "    #show both hands using method\n",
    "    player.showHand()\n",
    "    dealer.showHand(False) #pass False to calculate and show all cards, even when there are 2\n",
    "\n",
    "    #calculate a winner\n",
    "    if player_bust:\n",
    "        print(\"You busted, better luck next time!\")\n",
    "    elif dealer_bust:\n",
    "        print(\"The dealer busted, you win!\")\n",
    "    elif dealer.calcHand(False) > player.calcHand():\n",
    "        print(\"Dealer has higher cards, you lose!\")\n",
    "    elif dealer.calcHand(False) < player.calcHand():\n",
    "        print(\"You beat the dealer! Congrats!\")\n",
    "    else:\n",
    "        print(\"You pushed, no one wins!\")\n",
    "    \n",
    "    ans = input(\"Would you like to play one more time? Yes/No: \").lower()\n",
    "    if ans == \"yes\":\n",
    "        clear_output()\n",
    "        continue\n",
    "    else:\n",
    "        active = False"
   ]
  },
  {
   "cell_type": "code",
   "execution_count": 4,
   "metadata": {},
   "outputs": [
    {
     "name": "stdout",
     "output_type": "stream",
     "text": [
      "\n",
      "shinil\n",
      "===========\n",
      "4 of Hearts\n",
      "J of Spades\n",
      "4 of Diamons\n",
      "Total = 18\n",
      "\n",
      "Dealer\n",
      "===========\n",
      "A of Clubs\n",
      "2 of Spades\n",
      "J of Diamons\n",
      "3 of Spades\n",
      "6 of Spades\n",
      "Total = 22\n",
      "The dealer busted, you win!\n",
      "Your currency is 1000 + 5000.0 = 6000.0\n"
     ]
    }
   ],
   "source": [
    "#2 Adding Currency\n",
    "#importing necessary functions\n",
    "from random import randint #allows us to get a random number\n",
    "from IPython.display import clear_output\n",
    "\n",
    "#create the blackjack class, which will hold all game methods and attributes\n",
    "class Blackjack():\n",
    "    def __init__(self):\n",
    "        self.deck = [] #set to an empty list\n",
    "        self.suits = (\"Spades\", 'Hearts', 'Diamons', 'Clubs')\n",
    "        self.values = (2, 3, 4, 5, 6, 7, 8, 9, 10, 'J', 'Q', 'K', 'A')\n",
    "        \n",
    "    #create a method that creates a deck of 52 cards, each card should be a tuple with a value and suit\n",
    "    def makeDeck(self):\n",
    "        for suit in self.suits:\n",
    "            for value in self.values:\n",
    "                self.deck.append((value,suit)) #ex:(7, \"Hearts\")\n",
    "    \n",
    "    #method to pop a card from deck using a random index value\n",
    "    def pullCard(self):\n",
    "        return self.deck.pop(randint(0, len(self.deck)-1))\n",
    "    \n",
    "#create a class for the dealer and player objects\n",
    "class Player():\n",
    "    def __init__(self,name):\n",
    "        self.name = name\n",
    "        self.hand = []\n",
    "        self.currency = 1000\n",
    "        self.total_bet = 0\n",
    "\n",
    "        \n",
    "    #take in a tuple and append it to the hand\n",
    "    def addCard(self, card):\n",
    "        self.hand.append(card)\n",
    "        \n",
    "    #if not dealer's turn then only show one of his cards, otherwise show all\n",
    "    def showHand(self, dealer_start = True):\n",
    "        print(\"\\n{}\".format(self.name))\n",
    "        print(\"===========\")\n",
    "        for i in range(len(self.hand)):\n",
    "            if self.name == 'Dealer' and i == 0 and dealer_start:\n",
    "                print(\"- of -\") #hide first card\n",
    "            else:\n",
    "                card = self.hand[i]\n",
    "                print(\"{} of {}\".format(card[0],card[1]))\n",
    "        print(\"Total = {}\".format(self.calcHand(dealer_start)))\n",
    "    \n",
    "    #if not dealer's turn then only give back total of seond card\n",
    "    def calcHand(self, dealer_start = True):\n",
    "        total = 0\n",
    "        aces = 0 #calculate aces afterwards\n",
    "        card_values = {1:1,2:2,3:3,4:4,5:5,6:6,7:7,8:8,9:9,10:10,\"J\":10,\"Q\":10,\"K\":10,\"A\":11}\n",
    "        \n",
    "        if self.name == \"Dealer\" and dealer_start:\n",
    "            card = self.hand[1]\n",
    "            return card_values[card[0]]\n",
    "        \n",
    "        for card in self.hand:\n",
    "            if card[0] == \"A\":\n",
    "                aces += 1\n",
    "            else:\n",
    "                total += card_values[card[0]]\n",
    "        \n",
    "        for i in range(aces):\n",
    "            if total + 11 > 21:\n",
    "                total += 1\n",
    "            else:\n",
    "                total += 11\n",
    "        \n",
    "        return total\n",
    "    \n",
    "    #add betting system\n",
    "    def wagering(self):\n",
    "        wager_amount = input(\"how much wanna you bet?\")   \n",
    "        wager_amount = float(wager_amount)\n",
    "        self.total_bet += wager_amount\n",
    "    \n",
    "    def showBet(self):\n",
    "        print(\"Your currency: {}\".format(self.currency))\n",
    "        print(\"Your total bet: {}\".format(self.total_bet))\n",
    "        \n",
    "    def successBet(self):\n",
    "        print(\"Your currency is {} + {} = {}\".format(self.currency,self.total_bet, self.currency + self.total_bet))\n",
    "        \n",
    "    def failBet(self):\n",
    "        print(\"Your currency is {} - {} = {}\".format(self.currency,self.total_bet, self.currency - self.total_bet))\n",
    "        \n",
    "game = Blackjack()\n",
    "game.makeDeck()\n",
    "\n",
    "name = input(\"What is  your name?\")\n",
    "player = Player(name)\n",
    "dealer = Player(\"Dealer\")\n",
    "\n",
    "#add two cards to the dealer and player hand\n",
    "for i in range(2):\n",
    "    player.addCard(game.pullCard())\n",
    "    dealer.addCard(game.pullCard())\n",
    "\n",
    "#show both hands using method\n",
    "player.showHand()\n",
    "dealer.showHand()\n",
    "\n",
    "player_bust = False #variable to keep track of player going over 21\n",
    "\n",
    "while input(\"Would you like to stay or hit?\").lower() != \"stay\":\n",
    "    clear_output()\n",
    "\n",
    "    player.wagering()\n",
    "    \n",
    "    #pull card and put into player's hand\n",
    "    player.addCard(game.pullCard())\n",
    "    #show both hands using method\n",
    "    player.showBet()\n",
    "    player.showHand()\n",
    "    dealer.showHand()\n",
    "\n",
    "    #check if over 21\n",
    "    if player.calcHand() > 21:\n",
    "        player_bust = True #player busted, keep track for later\n",
    "        print(\"You lose!\")\n",
    "        break #break out of the player's loop\n",
    "\n",
    "#handling the dealer's turn. only run if player didn't bust\n",
    "dealer_bust = False\n",
    "\n",
    "if not player_bust:\n",
    "    while dealer.calcHand(False) < 17: #pass False to calculate all cards\n",
    "        #pull card and put into player's hand\n",
    "        dealer.addCard(game.pullCard())\n",
    "\n",
    "        #check if over 21\n",
    "        if dealer.calcHand(False) > 21: #pass False to calculate all cards\n",
    "            dealer_bust = True\n",
    "            break #break out of the dealer's loop\n",
    "\n",
    "clear_output()\n",
    "\n",
    "#show both hands using method\n",
    "player.showHand()\n",
    "dealer.showHand(False) #pass False to calculate and show all cards, even when there are 2\n",
    "\n",
    "#calculate a winner\n",
    "if player_bust:\n",
    "    print(\"You busted, better luck next time!\")\n",
    "    player.failBet()\n",
    "elif dealer_bust:\n",
    "    print(\"The dealer busted, you win!\")\n",
    "    player.successBet()\n",
    "elif dealer.calcHand(False) > player.calcHand():\n",
    "    print(\"Dealer has higher cards, you lose!\")\n",
    "    player.failBet()\n",
    "elif dealer.calcHand(False) < player.calcHand():\n",
    "    print(\"You beat the dealer! Congrats!\")\n",
    "    player.successBet()\n",
    "else:\n",
    "    print(\"You pushed, no one wins!\")\n"
   ]
  },
  {
   "cell_type": "code",
   "execution_count": null,
   "metadata": {},
   "outputs": [],
   "source": []
  }
 ],
 "metadata": {
  "kernelspec": {
   "display_name": "Python 3",
   "language": "python",
   "name": "python3"
  },
  "language_info": {
   "codemirror_mode": {
    "name": "ipython",
    "version": 3
   },
   "file_extension": ".py",
   "mimetype": "text/x-python",
   "name": "python",
   "nbconvert_exporter": "python",
   "pygments_lexer": "ipython3",
   "version": "3.8.5"
  }
 },
 "nbformat": 4,
 "nbformat_minor": 4
}
