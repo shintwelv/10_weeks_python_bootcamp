{
 "cells": [
  {
   "cell_type": "markdown",
   "metadata": {},
   "source": [
    "CHallenge Question"
   ]
  },
  {
   "cell_type": "code",
   "execution_count": 70,
   "metadata": {},
   "outputs": [
    {
     "ename": "NameError",
     "evalue": "name 'element' is not defined",
     "output_type": "error",
     "traceback": [
      "\u001b[1;31m---------------------------------------------------------------------------\u001b[0m",
      "\u001b[1;31mNameError\u001b[0m                                 Traceback (most recent call last)",
      "\u001b[1;32m<ipython-input-70-32a6e5b593a1>\u001b[0m in \u001b[0;36m<module>\u001b[1;34m\u001b[0m\n\u001b[1;32m----> 1\u001b[1;33m \u001b[0mprint\u001b[0m\u001b[1;33m(\u001b[0m\u001b[1;34m\"{}is my favoirte sport\"\u001b[0m\u001b[1;33m.\u001b[0m\u001b[0mformat\u001b[0m\u001b[1;33m(\u001b[0m\u001b[0melement\u001b[0m\u001b[1;33m)\u001b[0m\u001b[1;33m)\u001b[0m\u001b[1;33m\u001b[0m\u001b[1;33m\u001b[0m\u001b[0m\n\u001b[0m\u001b[0;32m      2\u001b[0m \u001b[0melement\u001b[0m \u001b[1;33m=\u001b[0m \u001b[1;34m\"Football\"\u001b[0m\u001b[1;33m\u001b[0m\u001b[1;33m\u001b[0m\u001b[0m\n",
      "\u001b[1;31mNameError\u001b[0m: name 'element' is not defined"
     ]
    }
   ],
   "source": [
    "print(\"{}is my favoirte sport\".format(element))\n",
    "element = \"Football\""
   ]
  },
  {
   "cell_type": "markdown",
   "metadata": {},
   "source": [
    "# User Input & Type Converting"
   ]
  },
  {
   "cell_type": "code",
   "execution_count": 2,
   "metadata": {},
   "outputs": [
    {
     "name": "stdout",
     "output_type": "stream",
     "text": [
      "What is your name?ShinIl Heo\n",
      "ShinIl Heo\n"
     ]
    }
   ],
   "source": [
    "#accepting and outputting user input\n",
    "print(input(\"What is your name?\"))"
   ]
  },
  {
   "cell_type": "code",
   "execution_count": 3,
   "metadata": {},
   "outputs": [
    {
     "name": "stdout",
     "output_type": "stream",
     "text": [
      "what is your name?ShinIl Heo\n",
      "Hello ShinIl Heo!\n"
     ]
    }
   ],
   "source": [
    "#saving what the user inputs\n",
    "ans = input(\"what is your name?\")\n",
    "print(\"Hello {}!\".format(ans))"
   ]
  },
  {
   "cell_type": "code",
   "execution_count": 4,
   "metadata": {},
   "outputs": [
    {
     "name": "stdout",
     "output_type": "stream",
     "text": [
      "<class 'int'>\n"
     ]
    }
   ],
   "source": [
    "#how to check the data type of a variable\n",
    "num = 5\n",
    "print(type(num))"
   ]
  },
  {
   "cell_type": "code",
   "execution_count": 6,
   "metadata": {},
   "outputs": [
    {
     "name": "stdout",
     "output_type": "stream",
     "text": [
      "<class 'int'>\n"
     ]
    }
   ],
   "source": [
    "#converting a variable from one data type to another\n",
    "num = \"9\"\n",
    "num = int(num)\n",
    "print(type(num))"
   ]
  },
  {
   "cell_type": "code",
   "execution_count": 7,
   "metadata": {},
   "outputs": [
    {
     "name": "stdout",
     "output_type": "stream",
     "text": [
      "Type a number to add;10\n",
      "<class 'str'>\n",
      "100+10 = 110\n"
     ]
    }
   ],
   "source": [
    "#working with user input to perform calculations\n",
    "ans = input(\"Type a number to add;\")\n",
    "print(type(ans))  #default type is string, must convert\n",
    "result = 100 + int(ans)\n",
    "print(\"100+{} = {}\".format(ans, result))"
   ]
  },
  {
   "cell_type": "code",
   "execution_count": 10,
   "metadata": {},
   "outputs": [
    {
     "name": "stdout",
     "output_type": "stream",
     "text": [
      "Type a number to add:you\n",
      "You did not put in a valid number!\n",
      "The program did not break!\n"
     ]
    }
   ],
   "source": [
    "#using the try and except blocks, use tab to indent where necessary\n",
    "try:\n",
    "    ans = float(input(\"Type a number to add:\"))\n",
    "    print(\"100 + {} = {}\".format(ans, 100 +ans))\n",
    "except:\n",
    "    print(\"You did not put in a valid number!\")\n",
    "#without try/except print statement would not get hit if error occurs \n",
    "print (\"The program did not break!\")"
   ]
  },
  {
   "cell_type": "markdown",
   "metadata": {},
   "source": [
    "Monday Exercises"
   ]
  },
  {
   "cell_type": "code",
   "execution_count": 12,
   "metadata": {},
   "outputs": [
    {
     "name": "stdout",
     "output_type": "stream",
     "text": [
      "<class 'bool'>\n"
     ]
    }
   ],
   "source": [
    "# 1. Converting\n",
    "ans = 'TRUE'\n",
    "ans = bool(ans)\n",
    "print(type(ans))"
   ]
  },
  {
   "cell_type": "code",
   "execution_count": 17,
   "metadata": {},
   "outputs": [
    {
     "name": "stdout",
     "output_type": "stream",
     "text": [
      "plz type in a number:2\n",
      "plz type in another number:3\n",
      "5\n"
     ]
    }
   ],
   "source": [
    "# 2. Sum of Inputs\n",
    "ans1 = input(\"plz type in a number:\")\n",
    "ans2 = input(\"plz type in another number:\")\n",
    "print(int(ans1)+int(ans2))"
   ]
  },
  {
   "cell_type": "code",
   "execution_count": 19,
   "metadata": {},
   "outputs": [
    {
     "name": "stdout",
     "output_type": "stream",
     "text": [
      "plz type in the year of your car: 2018\n",
      "plz type in the maker of your car: Chevrolet\n",
      "plz type in the model of your car: Silverado\n",
      "plz type in the color of your car: Blue\n",
      "2018 Blue Chevrolet Silverado\n"
     ]
    }
   ],
   "source": [
    "# 3. Car Information\n",
    "Input_year = input(\"plz type in the year of your car: \")\n",
    "Input_maker = input(\"plz type in the maker of your car: \")\n",
    "Input_model = input(\"plz type in the model of your car: \")\n",
    "Input_color = input(\"plz type in the color of your car: \")\n",
    "print(\"{} {} {} {}\".format(Input_year, Input_color, Input_maker, Input_model))"
   ]
  },
  {
   "cell_type": "markdown",
   "metadata": {},
   "source": [
    "Tuesday"
   ]
  },
  {
   "cell_type": "code",
   "execution_count": 20,
   "metadata": {},
   "outputs": [
    {
     "name": "stdout",
     "output_type": "stream",
     "text": [
      "x is less than y\n"
     ]
    }
   ],
   "source": [
    "#Using an if statement to only run code if the condition is met\n",
    "x,y = 5, 10\n",
    "if x < y:\n",
    "    print(\"x is less than y\")"
   ]
  },
  {
   "cell_type": "code",
   "execution_count": 22,
   "metadata": {},
   "outputs": [
    {
     "name": "stdout",
     "output_type": "stream",
     "text": [
      "What is 5 + 5?hello\n"
     ]
    },
    {
     "ename": "ValueError",
     "evalue": "invalid literal for int() with base 10: 'hello'",
     "output_type": "error",
     "traceback": [
      "\u001b[1;31m---------------------------------------------------------------------------\u001b[0m",
      "\u001b[1;31mValueError\u001b[0m                                Traceback (most recent call last)",
      "\u001b[1;32m<ipython-input-22-b1eeae397aee>\u001b[0m in \u001b[0;36m<module>\u001b[1;34m\u001b[0m\n\u001b[0;32m      1\u001b[0m \u001b[1;31m#checking user input\u001b[0m\u001b[1;33m\u001b[0m\u001b[1;33m\u001b[0m\u001b[1;33m\u001b[0m\u001b[0m\n\u001b[1;32m----> 2\u001b[1;33m \u001b[0mans\u001b[0m \u001b[1;33m=\u001b[0m \u001b[0mint\u001b[0m\u001b[1;33m(\u001b[0m\u001b[0minput\u001b[0m\u001b[1;33m(\u001b[0m\u001b[1;34m\"What is 5 + 5?\"\u001b[0m\u001b[1;33m)\u001b[0m\u001b[1;33m)\u001b[0m\u001b[1;33m\u001b[0m\u001b[1;33m\u001b[0m\u001b[0m\n\u001b[0m\u001b[0;32m      3\u001b[0m \u001b[1;32mif\u001b[0m \u001b[0mans\u001b[0m \u001b[1;33m==\u001b[0m \u001b[1;36m10\u001b[0m\u001b[1;33m:\u001b[0m\u001b[1;33m\u001b[0m\u001b[1;33m\u001b[0m\u001b[0m\n\u001b[0;32m      4\u001b[0m     \u001b[0mprint\u001b[0m\u001b[1;33m(\u001b[0m\u001b[1;34m\"You got it right\"\u001b[0m\u001b[1;33m)\u001b[0m\u001b[1;33m\u001b[0m\u001b[1;33m\u001b[0m\u001b[0m\n",
      "\u001b[1;31mValueError\u001b[0m: invalid literal for int() with base 10: 'hello'"
     ]
    }
   ],
   "source": [
    "#checking user input\n",
    "ans = int(input(\"What is 5 + 5?\"))\n",
    "if ans == 10:\n",
    "    print(\"You got it right\")"
   ]
  },
  {
   "cell_type": "code",
   "execution_count": 23,
   "metadata": {},
   "outputs": [
    {
     "name": "stdout",
     "output_type": "stream",
     "text": [
      "Both statements were true\n"
     ]
    }
   ],
   "source": [
    "#using the keyword 'and' in an 'if statement'\n",
    "x, y, z = 5, 10, 5\n",
    "if x < y and x == z:\n",
    "    print(\"Both statements were true\")"
   ]
  },
  {
   "cell_type": "code",
   "execution_count": 24,
   "metadata": {},
   "outputs": [
    {
     "name": "stdout",
     "output_type": "stream",
     "text": [
      "One or both statements were true\n"
     ]
    }
   ],
   "source": [
    "#using the keyword 'or'  in an 'if statement'\n",
    "x, y, z = 5, 10, 5\n",
    "if x < y or x != z:\n",
    "    print(\"One or both statements were true\")"
   ]
  },
  {
   "cell_type": "code",
   "execution_count": 25,
   "metadata": {},
   "outputs": [
    {
     "name": "stdout",
     "output_type": "stream",
     "text": [
      "Flag is False\n"
     ]
    }
   ],
   "source": [
    "#using the keyword 'not'  within an 'if statement'\n",
    "flag = False\n",
    "if not flag:   #same as saying if not true\n",
    "    print(\"Flag is False\")"
   ]
  },
  {
   "cell_type": "code",
   "execution_count": 27,
   "metadata": {},
   "outputs": [
    {
     "name": "stdout",
     "output_type": "stream",
     "text": [
      "Baseball contains the character b\n"
     ]
    }
   ],
   "source": [
    "#using the keyword 'in' within an 'if statement'\n",
    "word = \"Baseball\"\n",
    "if \"b\" in word:\n",
    "    print(\"{} contains the character b\".format(word))"
   ]
  },
  {
   "cell_type": "code",
   "execution_count": 28,
   "metadata": {},
   "outputs": [
    {
     "name": "stdout",
     "output_type": "stream",
     "text": [
      "Baseball does not contain the character x\n"
     ]
    }
   ],
   "source": [
    "#using the keyword 'not in'  within an 'if statement'\n",
    "word = 'Baseball'\n",
    "if \"x\" not in word:\n",
    "    print(\"{} does not contain the character x\".format(word))"
   ]
  },
  {
   "cell_type": "markdown",
   "metadata": {},
   "source": [
    "Tuesday Exercises"
   ]
  },
  {
   "cell_type": "code",
   "execution_count": 29,
   "metadata": {},
   "outputs": [
    {
     "name": "stdout",
     "output_type": "stream",
     "text": [
      "type in any wordhees\n",
      "hees includes es\n"
     ]
    }
   ],
   "source": [
    "# 1. Checking Inclusion - part 1\n",
    "ans = input(\"type in any word\")\n",
    "if \"es\" in ans:\n",
    "    print(\"{} includes es\".format(ans))"
   ]
  },
  {
   "cell_type": "code",
   "execution_count": 35,
   "metadata": {},
   "outputs": [
    {
     "name": "stdout",
     "output_type": "stream",
     "text": [
      "Type in any word:working\n",
      "ing\n",
      "working includes ing at the end of the word\n"
     ]
    }
   ],
   "source": [
    "# 2. Checking Incusion - Part 2\n",
    "ans = input(\"Type in any word:\")\n",
    "print(ans[len(ans)-3:len(ans)])\n",
    "if ans[len(ans)-3:len(ans)] == 'ing':\n",
    "    print(\"{} includes ing at the end of the word\".format(ans))"
   ]
  },
  {
   "cell_type": "code",
   "execution_count": 39,
   "metadata": {},
   "outputs": [
    {
     "name": "stdout",
     "output_type": "stream",
     "text": [
      "type in a word:Hello\n",
      "type in another word:heLLO\n",
      "two words are same!\n"
     ]
    }
   ],
   "source": [
    "# 3. Checking Equality\n",
    "word1 = input(\"type in a word:\")\n",
    "word2 = input(\"type in another word:\")\n",
    "if word1.lower() == word2.lower():\n",
    "    print(\"two words are same!\")"
   ]
  },
  {
   "cell_type": "code",
   "execution_count": 43,
   "metadata": {},
   "outputs": [
    {
     "name": "stdout",
     "output_type": "stream",
     "text": [
      "type in a number:2\n",
      "2^2 is lower than 10\n"
     ]
    }
   ],
   "source": [
    "# 4. Returing Exponents\n",
    "num1 = input(\"type in a number:\")\n",
    "result = int(num1)**2\n",
    "if result < 10:\n",
    "    print(\"{}^2 is lower than 10\".format(num1))"
   ]
  },
  {
   "cell_type": "markdown",
   "metadata": {},
   "source": [
    "Wednesday"
   ]
  },
  {
   "cell_type": "code",
   "execution_count": 44,
   "metadata": {},
   "outputs": [
    {
     "name": "stdout",
     "output_type": "stream",
     "text": [
      "x is less\n"
     ]
    }
   ],
   "source": [
    "#using the elif conditional statement\n",
    "x, y = 5, 10\n",
    "if x > y:\n",
    "    print(\"x is greater\")\n",
    "elif x <y:\n",
    "    print(\"x is less\")"
   ]
  },
  {
   "cell_type": "code",
   "execution_count": 45,
   "metadata": {},
   "outputs": [
    {
     "name": "stdout",
     "output_type": "stream",
     "text": [
      "Equal\n"
     ]
    }
   ],
   "source": [
    "#checking more than one elif conditional statement\n",
    "x, y = 5, 10\n",
    "if x > y:\n",
    "    print(\"x is greater\")\n",
    "elif (x + 10) < y:\n",
    "    print(\"x is less\")\n",
    "elif (x+5) == y:\n",
    "    print(\"Equal\")"
   ]
  },
  {
   "cell_type": "code",
   "execution_count": 46,
   "metadata": {},
   "outputs": [
    {
     "name": "stdout",
     "output_type": "stream",
     "text": [
      "x is equal to z\n"
     ]
    }
   ],
   "source": [
    "#writing mulitple conditionals within each other - multiple block levels\n",
    "x, y, z = 5, 10, 5\n",
    "if x > y:\n",
    "    print(\"Greater\")\n",
    "elif x < y:\n",
    "    if x == z:\n",
    "        print(\"x is equal to z\")\n",
    "    elif x != z:\n",
    "        print(\"x is not equal to z\")"
   ]
  },
  {
   "cell_type": "code",
   "execution_count": 47,
   "metadata": {},
   "outputs": [
    {
     "name": "stdout",
     "output_type": "stream",
     "text": [
      "x is less\n",
      "x is equal\n"
     ]
    }
   ],
   "source": [
    "#testing output of two if statements in a row that are both true\n",
    "x, y, z = 5, 10 ,5\n",
    "if x < y:\n",
    "    print(\"x is less\")\n",
    "if x == z:\n",
    "    print(\"x is equal\")"
   ]
  },
  {
   "cell_type": "code",
   "execution_count": 48,
   "metadata": {},
   "outputs": [
    {
     "name": "stdout",
     "output_type": "stream",
     "text": [
      "x is less\n"
     ]
    }
   ],
   "source": [
    "#testing output of an if and elif statement that are both true\n",
    "x, y, z = 5, 10, 5\n",
    "if x < y:\n",
    "    print(\"x is less\")\n",
    "elif x == z:\n",
    "    print(\"x is equal to z\")"
   ]
  },
  {
   "cell_type": "markdown",
   "metadata": {},
   "source": [
    "Wednesday Exercises"
   ]
  },
  {
   "cell_type": "code",
   "execution_count": 49,
   "metadata": {},
   "outputs": [
    {
     "name": "stdout",
     "output_type": "stream",
     "text": [
      "type in a number20\n",
      "20 is lower than 100\n"
     ]
    }
   ],
   "source": [
    "# 1. Higher/Lower\n",
    "num1 = input(\"type in a number\")\n",
    "if int(num1) > 100:\n",
    "    print(\"{} is higher than 100\".format(num1))\n",
    "elif int(num1) < 100:\n",
    "    print(\"{} is lower than 100\".format(num1))"
   ]
  },
  {
   "cell_type": "code",
   "execution_count": 51,
   "metadata": {},
   "outputs": [
    {
     "name": "stdout",
     "output_type": "stream",
     "text": [
      "lower\n"
     ]
    }
   ],
   "source": [
    "# 2. Find the solution\n",
    "x, y = 5, 10\n",
    "if x >  y:\n",
    "    print(\"greater\")\n",
    "elif x < y:\n",
    "    print(\"lower\")"
   ]
  },
  {
   "cell_type": "markdown",
   "metadata": {},
   "source": [
    "Thursday"
   ]
  },
  {
   "cell_type": "code",
   "execution_count": 52,
   "metadata": {},
   "outputs": [
    {
     "name": "stdout",
     "output_type": "stream",
     "text": [
      "Hello John\n"
     ]
    }
   ],
   "source": [
    "#using an else statement\n",
    "name = \"John\"\n",
    "if name == \"Jacob\":\n",
    "    print(\"Hello Jacob\")\n",
    "else:\n",
    "    print(\"Hello {}\".format(name))"
   ]
  },
  {
   "cell_type": "code",
   "execution_count": 53,
   "metadata": {},
   "outputs": [
    {
     "name": "stdout",
     "output_type": "stream",
     "text": [
      "Name starts with a J\n"
     ]
    }
   ],
   "source": [
    "#writing a full conditional statement with if, elif, else\n",
    "name = \"John\"\n",
    "if name[0] == \"A\":\n",
    "    print(\"Name starts with an A\")\n",
    "elif name[0] == \"B\":\n",
    "    print(\"Name starts with a B\")\n",
    "elif name[0] == \"J\":\n",
    "    print(\"Name starts with a J\")\n",
    "else:\n",
    "    print(\"Names starts with a {}\".format(name[0]) )"
   ]
  },
  {
   "cell_type": "markdown",
   "metadata": {},
   "source": [
    "Thursday Exercises"
   ]
  },
  {
   "cell_type": "code",
   "execution_count": 54,
   "metadata": {},
   "outputs": [
    {
     "name": "stdout",
     "output_type": "stream",
     "text": [
      "Hello John\n"
     ]
    }
   ],
   "source": [
    "#1. Fix the Errors\n",
    "name = \"John\"\n",
    "if name == \"Jack\":\n",
    "    print(\"Hello Jack\")\n",
    "else:\n",
    "    print(\"Hello John\")"
   ]
  },
  {
   "cell_type": "code",
   "execution_count": 56,
   "metadata": {},
   "outputs": [
    {
     "name": "stdout",
     "output_type": "stream",
     "text": [
      "type in military time without a colon (1100=11:00 AM)1200\n",
      "Good Afternoon\n"
     ]
    }
   ],
   "source": [
    "#2. User Input\n",
    "ans = input(\"type in military time without a colon (1100=11:00 AM):\")\n",
    "if int(ans) < 1200:\n",
    "    print(\"Good Morning\")\n",
    "elif int(ans) >= 1200 and int(ans) < 1700:\n",
    "    print(\"Good Afternoon\")\n",
    "elif int(ans) >= 1700:\n",
    "    print(\"Good Evening\")"
   ]
  },
  {
   "cell_type": "markdown",
   "metadata": {},
   "source": [
    "Friday Project: Creating a Calculator"
   ]
  },
  {
   "cell_type": "code",
   "execution_count": 63,
   "metadata": {},
   "outputs": [
    {
     "name": "stdout",
     "output_type": "stream",
     "text": [
      "Would you like to add/subtract/multiply/divide?divide\n",
      "You chose divide\n",
      "Please keep in mind that the order of your numbers matter.\n",
      "What is the first number?20\n",
      "What is the second number?0\n",
      "Error: Imporper numbers used. Please try again.\n"
     ]
    }
   ],
   "source": [
    "#step 1: ask user for calculation to be performed\n",
    "operation = input(\"Would you like to add/subtract/multiply/divide?\").lower()\n",
    "\n",
    "#step 2: ask for numbers, alert order matters for subtracting and deviding\n",
    "if operation == \"subtract\" or operation == \"divide\":\n",
    "    print(\"You chose {}\".format(operation))\n",
    "    print(\"Please keep in mind that the order of your numbers matter.\")\n",
    "num1 = input(\"What is the first number?\")\n",
    "num2 = input(\"What is the second number?\")\n",
    "\n",
    "#step 3: setup try/except for mathematical operation\n",
    "try:\n",
    "    # step 3a: immediately try to convert numbers input to floats\n",
    "    num1, num2 = float(num1), float(num2)\n",
    "    # step 3b: perform operation and print result\n",
    "    if operation == \"add\":\n",
    "        result = num1 + num2\n",
    "        print(\"{} + {} = {}\".format(num1, num2, result))\n",
    "    elif operation == \"subtract\":\n",
    "        result = num1 - num2\n",
    "        print(\"{} - {} = {}\".format(num1, num2, result))\n",
    "    elif operation == \"divide\":\n",
    "        result = num1 / num2\n",
    "        print(\"{} / {} = {}\".format(num1, num2, result))\n",
    "    elif operation == \"multiply\":\n",
    "        result = num1 * num2\n",
    "        print(\"{} * {} = {}\".format(num1, num2, result))\n",
    "\n",
    "except:\n",
    "    #step 3c: print error\n",
    "    print(\"Error: Imporper numbers used. Please try again.\")"
   ]
  },
  {
   "cell_type": "markdown",
   "metadata": {},
   "source": [
    "Weekly Challenges"
   ]
  },
  {
   "cell_type": "code",
   "execution_count": 65,
   "metadata": {},
   "outputs": [
    {
     "name": "stdout",
     "output_type": "stream",
     "text": [
      "Would you like to add/subtract/multiply/divide?divide\n",
      "You chose divide\n",
      "Please keep in mind that the order of your numbers matter.\n",
      "What is the first number?20\n",
      "What is the second number?0\n",
      "Error: Imporper numbers used. Please try again.\n",
      "Do you want to change the order of the numbers? Y/NY\n",
      "0.0 / 20.0 = 0.0\n"
     ]
    }
   ],
   "source": [
    "# 1. Reversing Numbers\n",
    "#step 1: ask user for calculation to be performed\n",
    "operation = input(\"Would you like to add/subtract/multiply/divide?\").lower()\n",
    "\n",
    "#step 2: ask for numbers, alert order matters for subtracting and deviding\n",
    "if operation == \"subtract\" or operation == \"divide\":\n",
    "    print(\"You chose {}\".format(operation))\n",
    "    print(\"Please keep in mind that the order of your numbers matter.\")\n",
    "num1 = input(\"What is the first number?\")\n",
    "num2 = input(\"What is the second number?\")\n",
    "\n",
    "#step 3: setup try/except for mathematical operation\n",
    "try:\n",
    "    # step 3a: immediately try to convert numbers input to floats\n",
    "    num1, num2 = float(num1), float(num2)\n",
    "    # step 3b: perform operation and print result\n",
    "    if operation == \"add\":\n",
    "        result = num1 + num2\n",
    "        print(\"{} + {} = {}\".format(num1, num2, result))\n",
    "    elif operation == \"subtract\":\n",
    "        result = num1 - num2\n",
    "        print(\"{} - {} = {}\".format(num1, num2, result))\n",
    "    elif operation == \"divide\":\n",
    "        result = num1 / num2\n",
    "        print(\"{} / {} = {}\".format(num1, num2, result))\n",
    "    elif operation == \"multiply\":\n",
    "        result = num1 * num2\n",
    "        print(\"{} * {} = {}\".format(num1, num2, result))\n",
    "\n",
    "except:\n",
    "    #step 3c: print error\n",
    "    print(\"Error: Imporper numbers used. Please try again.\")\n",
    "    \n",
    "    ans = input(\"Do you want to change the order of the numbers? Y/N\")\n",
    "    \n",
    "    if ans == \"Y\":\n",
    "        temp1, temp2 = num1, num2\n",
    "        num1, num2 = temp2, temp1\n",
    "        \n",
    "        # step 3a: immediately try to convert numbers input to floats\n",
    "        num1, num2 = float(num1), float(num2)\n",
    "        # step 3b: perform operation and print result\n",
    "        if operation == \"add\":\n",
    "            result = num1 + num2\n",
    "            print(\"{} + {} = {}\".format(num1, num2, result))\n",
    "        elif operation == \"subtract\":\n",
    "            result = num1 - num2\n",
    "            print(\"{} - {} = {}\".format(num1, num2, result))\n",
    "        elif operation == \"divide\":\n",
    "            result = num1 / num2\n",
    "            print(\"{} / {} = {}\".format(num1, num2, result))\n",
    "        elif operation == \"multiply\":\n",
    "            result = num1 * num2\n",
    "            print(\"{} * {} = {}\".format(num1, num2, result))"
   ]
  },
  {
   "cell_type": "code",
   "execution_count": 67,
   "metadata": {},
   "outputs": [
    {
     "name": "stdout",
     "output_type": "stream",
     "text": [
      "type in your age:65\n",
      "Senior\n"
     ]
    }
   ],
   "source": [
    "# 2. Age Group\n",
    "age = input(\"type in your age:\")\n",
    "age = int(age)\n",
    "if age <= 12 and age >= 0:\n",
    "    print(\"Kid\")\n",
    "elif  age <= 19 and age >= 3:\n",
    "    print(\"Teenager\")\n",
    "elif  age <= 30 and age >= 20:\n",
    "    print(\"Young Adult\")    \n",
    "elif  age <= 64 and age >= 31:\n",
    "    print(\"Adult\")\n",
    "elif  age >= 65:\n",
    "    print(\"Senior\")"
   ]
  },
  {
   "cell_type": "code",
   "execution_count": 69,
   "metadata": {},
   "outputs": [
    {
     "name": "stdout",
     "output_type": "stream",
     "text": [
      "Welcome to SH RPG\n",
      "You are baby what do you want to do? Cry/Sleepcry\n",
      "Your crying makes your parents angry. FAIL\n"
     ]
    }
   ],
   "source": [
    "# 3. Text-Based RPG\n",
    "print(\"Welcome to SH RPG\")\n",
    "ans = input(\"You are baby what do you want to do? Cry/Sleep\").lower()\n",
    "\n",
    "if ans == \"cry\":\n",
    "    print(\"Your crying makes your parents angry. FAIL\")\n",
    "elif ans == \"sleep\":\n",
    "    print(\"You died becuase of malnutrition. FAIL\")"
   ]
  }
 ],
 "metadata": {
  "kernelspec": {
   "display_name": "Python 3",
   "language": "python",
   "name": "python3"
  },
  "language_info": {
   "codemirror_mode": {
    "name": "ipython",
    "version": 3
   },
   "file_extension": ".py",
   "mimetype": "text/x-python",
   "name": "python",
   "nbconvert_exporter": "python",
   "pygments_lexer": "ipython3",
   "version": "3.8.5"
  }
 },
 "nbformat": 4,
 "nbformat_minor": 4
}
