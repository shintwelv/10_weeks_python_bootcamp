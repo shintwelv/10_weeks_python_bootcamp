{
 "cells": [
  {
   "cell_type": "markdown",
   "metadata": {},
   "source": [
    "# Comments & Basic Data Types"
   ]
  },
  {
   "cell_type": "code",
   "execution_count": 1,
   "metadata": {},
   "outputs": [],
   "source": [
    "# this is a comment"
   ]
  },
  {
   "cell_type": "code",
   "execution_count": 2,
   "metadata": {},
   "outputs": [
    {
     "name": "stdout",
     "output_type": "stream",
     "text": [
      "hello\n"
     ]
    }
   ],
   "source": [
    "print('hello') #this is also a comment"
   ]
  },
  {
   "cell_type": "code",
   "execution_count": 3,
   "metadata": {},
   "outputs": [
    {
     "name": "stdout",
     "output_type": "stream",
     "text": [
      "hello\n"
     ]
    }
   ],
   "source": [
    "\"\"\" this is a multi-line comment\n",
    "\"\"\"\n",
    "print(\"hello\") #this is also a comment"
   ]
  },
  {
   "cell_type": "code",
   "execution_count": 4,
   "metadata": {},
   "outputs": [
    {
     "name": "stdout",
     "output_type": "stream",
     "text": [
      "2\n",
      "10\n"
     ]
    }
   ],
   "source": [
    "print(2)\n",
    "print(10)"
   ]
  },
  {
   "cell_type": "code",
   "execution_count": 5,
   "metadata": {},
   "outputs": [
    {
     "name": "stdout",
     "output_type": "stream",
     "text": [
      "10.953\n",
      "8.0\n"
     ]
    }
   ],
   "source": [
    "#the follwing are all floats\n",
    "print(10.953)\n",
    "print(8.0)  #even this number is a float"
   ]
  },
  {
   "cell_type": "code",
   "execution_count": 7,
   "metadata": {},
   "outputs": [
    {
     "name": "stdout",
     "output_type": "stream",
     "text": [
      "True\n",
      "False\n"
     ]
    }
   ],
   "source": [
    "#the following are booleans\n",
    "print(True)\n",
    "print(False)"
   ]
  },
  {
   "cell_type": "code",
   "execution_count": 8,
   "metadata": {},
   "outputs": [
    {
     "name": "stdout",
     "output_type": "stream",
     "text": [
      "\n",
      "There's a snake in my boot!\n",
      "True\n"
     ]
    }
   ],
   "source": [
    "#the following are strings\n",
    "print(\"\")\n",
    "print(\"There's a snake in my boot!\")\n",
    "print('True')"
   ]
  },
  {
   "cell_type": "code",
   "execution_count": 11,
   "metadata": {},
   "outputs": [
    {
     "name": "stdout",
     "output_type": "stream",
     "text": [
      "ShinIl Heo\n"
     ]
    },
    {
     "data": {
      "text/plain": [
       "type"
      ]
     },
     "execution_count": 11,
     "metadata": {},
     "output_type": "execute_result"
    }
   ],
   "source": [
    "print('ShinIl Heo')\n",
    "type(int) #will output <class> 'int'"
   ]
  },
  {
   "cell_type": "markdown",
   "metadata": {},
   "source": [
    "Variables"
   ]
  },
  {
   "cell_type": "code",
   "execution_count": 13,
   "metadata": {},
   "outputs": [
    {
     "name": "stdout",
     "output_type": "stream",
     "text": [
      "5 8.4\n"
     ]
    }
   ],
   "source": [
    "num1 = 5 #storing an integer into a variable\n",
    "num2 = 8.4 #storing a float into a variable\n",
    "print(num1,num2) #you can input multiple items using commas"
   ]
  },
  {
   "cell_type": "code",
   "execution_count": 14,
   "metadata": {},
   "outputs": [
    {
     "name": "stdout",
     "output_type": "stream",
     "text": [
      "True\n"
     ]
    }
   ],
   "source": [
    "#storing a boolean into a variable\n",
    "switch = True\n",
    "print(switch)"
   ]
  },
  {
   "cell_type": "code",
   "execution_count": 15,
   "metadata": {},
   "outputs": [
    {
     "name": "stdout",
     "output_type": "stream",
     "text": [
      "John Smith 9\n"
     ]
    }
   ],
   "source": [
    "#storing strings into a variable\n",
    "name = 'John Smith'\n",
    "fav_number = '9'\n",
    "print(name, fav_number) #will print 9 next to the name"
   ]
  },
  {
   "cell_type": "code",
   "execution_count": 16,
   "metadata": {},
   "outputs": [
    {
     "name": "stdout",
     "output_type": "stream",
     "text": [
      "13.4\n"
     ]
    }
   ],
   "source": [
    "#using two variables to create another variable\n",
    "result = num1+num2\n",
    "print(result)"
   ]
  },
  {
   "cell_type": "code",
   "execution_count": 17,
   "metadata": {},
   "outputs": [
    {
     "name": "stdout",
     "output_type": "stream",
     "text": [
      "14.4\n",
      "72.0\n"
     ]
    }
   ],
   "source": [
    "#adding, deleting, multiplying, dividing from a variable\n",
    "result +=1 #same as saying result = result+1\n",
    "print(result)\n",
    "result *= num1 #same as saying result = result * num1\n",
    "print(result)"
   ]
  },
  {
   "cell_type": "code",
   "execution_count": 18,
   "metadata": {},
   "outputs": [
    {
     "name": "stdout",
     "output_type": "stream",
     "text": [
      "John\n",
      "Sam\n"
     ]
    }
   ],
   "source": [
    "# defining a varaible and overwriting it's value\n",
    "name = 'John'\n",
    "print(name)\n",
    "name = 'Sam'\n",
    "print(name)"
   ]
  },
  {
   "cell_type": "markdown",
   "metadata": {},
   "source": [
    "Tuesday exercise"
   ]
  },
  {
   "cell_type": "raw",
   "metadata": {},
   "source": [
    "x = 3\n",
    "y =10\n",
    "result = x + y\n",
    "print(x,'+',y,'=',result)"
   ]
  },
  {
   "cell_type": "code",
   "execution_count": 1,
   "metadata": {},
   "outputs": [
    {
     "name": "stdout",
     "output_type": "stream",
     "text": [
      "3354.0764\n"
     ]
    }
   ],
   "source": [
    "result = 245.54 * 13.66\n",
    "print(result)"
   ]
  },
  {
   "cell_type": "markdown",
   "metadata": {},
   "source": [
    "Working with Strings"
   ]
  },
  {
   "cell_type": "code",
   "execution_count": 2,
   "metadata": {},
   "outputs": [
    {
     "name": "stdout",
     "output_type": "stream",
     "text": [
      "John Smith\n"
     ]
    }
   ],
   "source": [
    "#using the addition operator without variables\n",
    "name = 'John' + \" \" + \"Smith\"\n",
    "print(name)"
   ]
  },
  {
   "cell_type": "code",
   "execution_count": 3,
   "metadata": {},
   "outputs": [
    {
     "name": "stdout",
     "output_type": "stream",
     "text": [
      "John Smith\n"
     ]
    }
   ],
   "source": [
    "#using the addition operator with variables\n",
    "first_name = \"John\"\n",
    "last_name = \"Smith\"\n",
    "full_name = first_name + \" \" + last_name\n",
    "print(full_name)"
   ]
  },
  {
   "cell_type": "code",
   "execution_count": 7,
   "metadata": {
    "scrolled": true
   },
   "outputs": [
    {
     "name": "stdout",
     "output_type": "stream",
     "text": [
      "Hello John\n",
      "Hello John, you are 28 years old!\n"
     ]
    }
   ],
   "source": [
    "#injecting variables using the format method\n",
    "name = \"John\"\n",
    "print('Hello {}'.format(name))\n",
    "print('Hello {}, you are {} years old!'.format(name, 28))"
   ]
  },
  {
   "cell_type": "code",
   "execution_count": 10,
   "metadata": {},
   "outputs": [
    {
     "name": "stdout",
     "output_type": "stream",
     "text": [
      "Hello John\n"
     ]
    }
   ],
   "source": [
    "#using the new f strings\n",
    "name = 'John'\n",
    "print( f\"Hello {name}\")"
   ]
  },
  {
   "cell_type": "code",
   "execution_count": 11,
   "metadata": {},
   "outputs": [
    {
     "name": "stdout",
     "output_type": "stream",
     "text": [
      "Hello, John\n"
     ]
    }
   ],
   "source": [
    "#one major difference between versions 2 & 3\n",
    "name = 'John'\n",
    "print ('Hello, %s'%name)"
   ]
  },
  {
   "cell_type": "code",
   "execution_count": 15,
   "metadata": {},
   "outputs": [
    {
     "name": "stdout",
     "output_type": "stream",
     "text": [
      "Hello, John Smith\n"
     ]
    }
   ],
   "source": [
    "#python 2 multiple variable formattting\n",
    "first_name = 'John'\n",
    "last_name = 'Smith'\n",
    "print (\"Hello, %s %s\"%(first_name, last_name))\n",
    "       #surround the variables in parenthesis"
   ]
  },
  {
   "cell_type": "code",
   "execution_count": 17,
   "metadata": {},
   "outputs": [
    {
     "name": "stdout",
     "output_type": "stream",
     "text": [
      "H\n",
      "e\n",
      "o\n"
     ]
    }
   ],
   "source": [
    "#using indexes to print each element\n",
    "word = 'Hello'\n",
    "print(word[0]) #will ouput 'H'\n",
    "print(word[1]) #will output 'e'\n",
    "print(word[-1]) #will output 'o'"
   ]
  },
  {
   "cell_type": "code",
   "execution_count": 19,
   "metadata": {},
   "outputs": [
    {
     "name": "stdout",
     "output_type": "stream",
     "text": [
      "He\n"
     ]
    }
   ],
   "source": [
    "print(word[0:2]) #will output \"He\""
   ]
  },
  {
   "cell_type": "code",
   "execution_count": 20,
   "metadata": {},
   "outputs": [
    {
     "name": "stdout",
     "output_type": "stream",
     "text": [
      "Hlo\n"
     ]
    }
   ],
   "source": [
    "print(word[0:5:2]) #will output 'Ho'"
   ]
  },
  {
   "cell_type": "markdown",
   "metadata": {},
   "source": [
    "Exercise"
   ]
  },
  {
   "cell_type": "code",
   "execution_count": 23,
   "metadata": {},
   "outputs": [
    {
     "name": "stdout",
     "output_type": "stream",
     "text": [
      "23 4.5 False John\n"
     ]
    }
   ],
   "source": [
    "#Variable Injection\n",
    "number1 = 23\n",
    "number2 = 4.5\n",
    "F_word = False\n",
    "name = \"John\"\n",
    "\n",
    "print(\"{} {} {} {}\".format(number1,number2,F_word,name))"
   ]
  },
  {
   "cell_type": "code",
   "execution_count": 25,
   "metadata": {},
   "outputs": [
    {
     "name": "stdout",
     "output_type": "stream",
     "text": [
      "ShinIl Heo's favorite sport is Baseball\n",
      "ShinIl Heo is working on python programming!\n"
     ]
    }
   ],
   "source": [
    "#Fill in the Blanks\n",
    "first_answer = \"ShinIl Heo\"\n",
    "sec_answer = \"Baseball\"\n",
    "thd_answer = \"python\"\n",
    "print(\"{}'s favorite sport is {}\".format(first_answer, sec_answer))\n",
    "print(\"{} is working on {} programming!\".format(first_answer, thd_answer))"
   ]
  },
  {
   "cell_type": "markdown",
   "metadata": {},
   "source": [
    "Manipulating Strings"
   ]
  },
  {
   "cell_type": "code",
   "execution_count": 1,
   "metadata": {},
   "outputs": [
    {
     "name": "stdout",
     "output_type": "stream",
     "text": [
      "John Smith\n"
     ]
    }
   ],
   "source": [
    "#using the title method to capitalize a string\n",
    "name = \"john smith\"\n",
    "print(name.title())"
   ]
  },
  {
   "cell_type": "code",
   "execution_count": 2,
   "metadata": {},
   "outputs": [
    {
     "name": "stdout",
     "output_type": "stream",
     "text": [
      "JOHN SMITH\n",
      "john smith\n"
     ]
    }
   ],
   "source": [
    "name = \"john smith\"\n",
    "print(name.upper())\n",
    "print(name.lower())"
   ]
  },
  {
   "cell_type": "code",
   "execution_count": 3,
   "metadata": {},
   "outputs": [
    {
     "name": "stdout",
     "output_type": "stream",
     "text": [
      "Hello there.\n"
     ]
    }
   ],
   "source": [
    "#replacing an exclamation point with a period\n",
    "words = \"Hello there!\"\n",
    "print(words.replace(\"!\",\".\"))"
   ]
  },
  {
   "cell_type": "code",
   "execution_count": 4,
   "metadata": {},
   "outputs": [
    {
     "name": "stdout",
     "output_type": "stream",
     "text": [
      "5\n"
     ]
    }
   ],
   "source": [
    "#finding the starting index of our searched term\n",
    "s = \"Look over that way\"\n",
    "print(s.find(\"over\"))"
   ]
  },
  {
   "cell_type": "code",
   "execution_count": 5,
   "metadata": {},
   "outputs": [
    {
     "name": "stdout",
     "output_type": "stream",
     "text": [
      "john\n"
     ]
    }
   ],
   "source": [
    "#removing white space with strip\n",
    "name =\"   john   \"\n",
    "print(name.strip())"
   ]
  },
  {
   "cell_type": "code",
   "execution_count": 7,
   "metadata": {},
   "outputs": [
    {
     "name": "stdout",
     "output_type": "stream",
     "text": [
      "john   \n",
      "    john\n"
     ]
    }
   ],
   "source": [
    "name =\"    john   \"\n",
    "print(name.lstrip())\n",
    "print(name.rstrip())"
   ]
  },
  {
   "cell_type": "code",
   "execution_count": 8,
   "metadata": {},
   "outputs": [
    {
     "name": "stdout",
     "output_type": "stream",
     "text": [
      "['These', 'words', 'are', 'separated', 'by', 'spaces']\n"
     ]
    }
   ],
   "source": [
    "#converting a string into a list of words\n",
    "s = \"These words are separated by spaces\"\n",
    "print(s.split())"
   ]
  },
  {
   "cell_type": "markdown",
   "metadata": {},
   "source": [
    "Thursday Exercises"
   ]
  },
  {
   "cell_type": "code",
   "execution_count": 9,
   "metadata": {},
   "outputs": [
    {
     "name": "stdout",
     "output_type": "stream",
     "text": [
      "UPPERCASE\n"
     ]
    }
   ],
   "source": [
    "#Uppercasing\n",
    "words = \"uppercase\"\n",
    "print(words.upper())"
   ]
  },
  {
   "cell_type": "code",
   "execution_count": 13,
   "metadata": {},
   "outputs": [
    {
     "name": "stdout",
     "output_type": "stream",
     "text": [
      "John Smith\n"
     ]
    }
   ],
   "source": [
    "#Strip Symbols\n",
    "words = \"$$John Smith\"\n",
    "words = words.strip(\"$$\")\n",
    "print(words)"
   ]
  },
  {
   "cell_type": "code",
   "execution_count": 14,
   "metadata": {},
   "outputs": [
    {
     "name": "stdout",
     "output_type": "stream",
     "text": [
      "Help on built-in function strip:\n",
      "\n",
      "strip(chars=None, /) method of builtins.str instance\n",
      "    Return a copy of the string with leading and trailing whitespace removed.\n",
      "    \n",
      "    If chars is given and not None, remove characters in chars instead.\n",
      "\n"
     ]
    }
   ],
   "source": [
    "help(\"\".strip)"
   ]
  },
  {
   "cell_type": "code",
   "execution_count": 15,
   "metadata": {},
   "outputs": [
    {
     "name": "stdout",
     "output_type": "stream",
     "text": [
      "John Smith\n"
     ]
    }
   ],
   "source": [
    "#Strip Symbols\n",
    "words = \"$$John Smith\"\n",
    "words = words.lstrip(\"$$\")\n",
    "print(words)"
   ]
  },
  {
   "cell_type": "markdown",
   "metadata": {},
   "source": [
    "Friday Project: Printing Receipts"
   ]
  },
  {
   "cell_type": "code",
   "execution_count": 15,
   "metadata": {},
   "outputs": [],
   "source": [
    "#create a product and price for three items\n",
    "p1_name, p1_price = \"Books\", 49.95\n",
    "p2_name, p2_price = \"Computer\", 579.99\n",
    "p3_name, p3_price = \"Monitor\", 124.89"
   ]
  },
  {
   "cell_type": "code",
   "execution_count": 16,
   "metadata": {},
   "outputs": [],
   "source": [
    "#create a company name and information\n",
    "company_name = \"coding temple inc.\"\n",
    "company_adress = \"283 Franklin St.\"\n",
    "company_city = \"Boston, MA\""
   ]
  },
  {
   "cell_type": "code",
   "execution_count": 17,
   "metadata": {},
   "outputs": [],
   "source": [
    "#declare ending message\n",
    "message = \"Thanks for shopping with us today!\""
   ]
  },
  {
   "cell_type": "code",
   "execution_count": 18,
   "metadata": {},
   "outputs": [
    {
     "name": "stdout",
     "output_type": "stream",
     "text": [
      "**************************************************\n"
     ]
    }
   ],
   "source": [
    "#create a top border\n",
    "print(\"*\"*50)"
   ]
  },
  {
   "cell_type": "code",
   "execution_count": 19,
   "metadata": {},
   "outputs": [
    {
     "name": "stdout",
     "output_type": "stream",
     "text": [
      "\t\tCoding Temple Inc.\n",
      "\t\t283 Franklin St.\n",
      "\t\tBoston, MA\n"
     ]
    }
   ],
   "source": [
    "#print company information first, using format\n",
    "print(\"\\t\\t{}\".format(company_name.title()))\n",
    "print(\"\\t\\t{}\".format(company_adress))\n",
    "print(\"\\t\\t{}\".format(company_city))"
   ]
  },
  {
   "cell_type": "code",
   "execution_count": 20,
   "metadata": {},
   "outputs": [
    {
     "name": "stdout",
     "output_type": "stream",
     "text": [
      "**************************************************\n"
     ]
    }
   ],
   "source": [
    "#print a line between sections\n",
    "print(\"*\"*50)"
   ]
  },
  {
   "cell_type": "code",
   "execution_count": 21,
   "metadata": {},
   "outputs": [
    {
     "name": "stdout",
     "output_type": "stream",
     "text": [
      "\tProduct Name\tProduct Price\n"
     ]
    }
   ],
   "source": [
    "#print out header for sectino of items\n",
    "print(\"\\tProduct Name\\tProduct Price\")"
   ]
  },
  {
   "cell_type": "code",
   "execution_count": 22,
   "metadata": {},
   "outputs": [
    {
     "name": "stdout",
     "output_type": "stream",
     "text": [
      "\tBooks\t\t$49.95\n",
      "\tComputer\t\t$579.99\n",
      "\tMonitor\t\t$124.89\n"
     ]
    }
   ],
   "source": [
    "#create a print statement for each product\n",
    "print(\"\\t{}\\t\\t${}\".format(p1_name.title(), p1_price))\n",
    "print(\"\\t{}\\t\\t${}\".format(p2_name.title(), p2_price))\n",
    "print(\"\\t{}\\t\\t${}\".format(p3_name.title(), p3_price))"
   ]
  },
  {
   "cell_type": "code",
   "execution_count": 23,
   "metadata": {},
   "outputs": [
    {
     "name": "stdout",
     "output_type": "stream",
     "text": [
      "==================================================\n"
     ]
    }
   ],
   "source": [
    "#print a line between sections\n",
    "print('='*50)"
   ]
  },
  {
   "cell_type": "code",
   "execution_count": 24,
   "metadata": {},
   "outputs": [
    {
     "name": "stdout",
     "output_type": "stream",
     "text": [
      "\t\tTotal\n"
     ]
    }
   ],
   "source": [
    "#print out header for section of total\n",
    "print(\"\\t\\tTotal\")"
   ]
  },
  {
   "cell_type": "code",
   "execution_count": 25,
   "metadata": {},
   "outputs": [
    {
     "name": "stdout",
     "output_type": "stream",
     "text": [
      "\t\t\t$754.83\n"
     ]
    }
   ],
   "source": [
    "#calculate total price and print out\n",
    "total = p1_price + p2_price + p3_price\n",
    "print(\"\\t\\t\\t${}\".format(total))"
   ]
  },
  {
   "cell_type": "code",
   "execution_count": 26,
   "metadata": {},
   "outputs": [
    {
     "name": "stdout",
     "output_type": "stream",
     "text": [
      "==================================================\n"
     ]
    }
   ],
   "source": [
    "#print a line between sections\n",
    "print(\"=\"*50)"
   ]
  },
  {
   "cell_type": "code",
   "execution_count": 27,
   "metadata": {},
   "outputs": [
    {
     "name": "stdout",
     "output_type": "stream",
     "text": [
      "\n",
      "\tThanks for shopping with us today!\n",
      "\n"
     ]
    }
   ],
   "source": [
    "#output thank you message\n",
    "print(\"\\n\\t{}\\n\".format(message))"
   ]
  },
  {
   "cell_type": "code",
   "execution_count": 28,
   "metadata": {},
   "outputs": [
    {
     "name": "stdout",
     "output_type": "stream",
     "text": [
      "**************************************************\n"
     ]
    }
   ],
   "source": [
    "#create a bottom border\n",
    "print(\"*\"*50)"
   ]
  },
  {
   "cell_type": "code",
   "execution_count": 29,
   "metadata": {},
   "outputs": [
    {
     "name": "stdout",
     "output_type": "stream",
     "text": [
      "**************************************************\n",
      "\t\tCoding Temple Inc.\n",
      "\t\t283 Franklin St.\n",
      "\t\tBoston, MA\n",
      "**************************************************\n",
      "\tProduct Name\tProduct Price\n",
      "\tBooks\t\t$49.95\n",
      "\tComputer\t\t$579.99\n",
      "\tMonitor\t\t$124.89\n",
      "==================================================\n",
      "\t\tTotal\n",
      "\t\t\t$754.83\n",
      "==================================================\n",
      "\n",
      "\tThanks for shopping with us today!\n",
      "\n",
      "**************************************************\n"
     ]
    }
   ],
   "source": [
    "#create a product and price for three items\n",
    "p1_name, p1_price = \"Books\", 49.95\n",
    "p2_name, p2_price = \"Computer\", 579.99\n",
    "p3_name, p3_price = \"Monitor\", 124.89\n",
    "\n",
    "#create a company name and information\n",
    "company_name = \"coding temple inc.\"\n",
    "company_adress = \"283 Franklin St.\"\n",
    "company_city = \"Boston, MA\"\n",
    "\n",
    "#declare ending message\n",
    "message = \"Thanks for shopping with us today!\"\n",
    "\n",
    "#create a top border\n",
    "print(\"*\"*50)\n",
    "\n",
    "#print company information first, using format\n",
    "print(\"\\t\\t{}\".format(company_name.title()))\n",
    "print(\"\\t\\t{}\".format(company_adress))\n",
    "print(\"\\t\\t{}\".format(company_city))\n",
    "\n",
    "#print a line between sections\n",
    "print(\"*\"*50)\n",
    "\n",
    "#print out header for sectino of items\n",
    "print(\"\\tProduct Name\\tProduct Price\")\n",
    "\n",
    "#create a print statement for each product\n",
    "print(\"\\t{}\\t\\t${}\".format(p1_name.title(), p1_price))\n",
    "print(\"\\t{}\\t\\t${}\".format(p2_name.title(), p2_price))\n",
    "print(\"\\t{}\\t\\t${}\".format(p3_name.title(), p3_price))\n",
    "\n",
    "#print a line between sections\n",
    "print('='*50)\n",
    "\n",
    "#print out header for section of total\n",
    "print(\"\\t\\tTotal\")\n",
    "\n",
    "#calculate total price and print out\n",
    "total = p1_price + p2_price + p3_price\n",
    "print(\"\\t\\t\\t${}\".format(total))\n",
    "\n",
    "#print a line between sections\n",
    "print(\"=\"*50)\n",
    "\n",
    "#output thank you message\n",
    "print(\"\\n\\t{}\\n\".format(message))\n",
    "\n",
    "#create a bottom border\n",
    "print(\"*\"*50)"
   ]
  },
  {
   "cell_type": "markdown",
   "metadata": {},
   "source": [
    "Weekly Challenges"
   ]
  },
  {
   "cell_type": "code",
   "execution_count": 36,
   "metadata": {},
   "outputs": [
    {
     "name": "stdout",
     "output_type": "stream",
     "text": [
      "*\t\t\t\t\t\t\t\t*\n",
      "*\t\t\t\t\t\t\t\t*\n",
      "*\t\t\t\t\t\t\t\t*\n",
      "*\t\t\t\t\t\t\t\t*\n",
      "*\t\t\t\t\t\t\t\t*\n",
      "*\t\t\t\t\t\t\t\t*\n",
      "*\t\t\t\t\t\t\t\t*\n",
      "*\t\t\t\t\t\t\t\t*\n",
      "*\t\t\t\t\t\t\t\t*\n",
      "*\t\t\t\t\t\t\t\t*\n",
      "\n"
     ]
    }
   ],
   "source": [
    "#Side Borders\n",
    "print(\"*\\t\\t\\t\\t\\t\\t\\t\\t*\\n\"*10)"
   ]
  },
  {
   "cell_type": "code",
   "execution_count": 85,
   "metadata": {},
   "outputs": [
    {
     "name": "stdout",
     "output_type": "stream",
     "text": [
      "He\n",
      "11\n",
      "1\n",
      "['Hello', 'World']\n",
      "False\n",
      "Bye World\n",
      "hELLO wORLD\n",
      "d l r o W   o l l e H\n"
     ]
    }
   ],
   "source": [
    "#Researching Methods\n",
    "words = \"Hello World\"\n",
    "print(words[0:2])\n",
    "print(len(words))\n",
    "print(words.count(' '))\n",
    "print(words.split(' '))\n",
    "print(words.endswith('s'))\n",
    "print(words.replace('Hello',\"Bye\"))\n",
    "print(words.swapcase())\n",
    "print(' '.join(reversed(words)))"
   ]
  },
  {
   "cell_type": "code",
   "execution_count": 60,
   "metadata": {},
   "outputs": [
    {
     "data": {
      "text/plain": [
       "'olleH'"
      ]
     },
     "execution_count": 60,
     "metadata": {},
     "output_type": "execute_result"
    }
   ],
   "source": [
    "#Reverse\n",
    "words = \"Hello\"\n",
    "words[4::-1]"
   ]
  },
  {
   "cell_type": "code",
   "execution_count": null,
   "metadata": {},
   "outputs": [],
   "source": []
  }
 ],
 "metadata": {
  "kernelspec": {
   "display_name": "Python 3",
   "language": "python",
   "name": "python3"
  },
  "language_info": {
   "codemirror_mode": {
    "name": "ipython",
    "version": 3
   },
   "file_extension": ".py",
   "mimetype": "text/x-python",
   "name": "python",
   "nbconvert_exporter": "python",
   "pygments_lexer": "ipython3",
   "version": "3.8.5"
  }
 },
 "nbformat": 4,
 "nbformat_minor": 4
}
